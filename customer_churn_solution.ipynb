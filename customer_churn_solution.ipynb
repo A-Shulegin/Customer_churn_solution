{
 "cells": [
  {
   "cell_type": "markdown",
   "id": "4ab8c810",
   "metadata": {},
   "source": [
    "# Телекоммуникации"
   ]
  },
  {
   "cell_type": "markdown",
   "id": "55983ee1",
   "metadata": {},
   "source": [
    "## Описание проекта и план работы"
   ]
  },
  {
   "cell_type": "markdown",
   "id": "b5082fed",
   "metadata": {},
   "source": [
    "**Цель:**\n",
    "\n",
    "Оператор связи хочет бороться с оттоком клиентов. Для этого \n",
    "его сотрудники начнут предлагать промокоды и специальные условия всем, \n",
    "кто планирует отказаться от услуг связи. Чтобы заранее находить таких \n",
    "пользователей, оператору нужна модель, которая будет предсказывать, \n",
    "разорвёт ли абонент договор."
   ]
  },
  {
   "cell_type": "markdown",
   "id": "40744d38",
   "metadata": {},
   "source": [
    "**Описание услуг:**\n",
    "\n",
    "Оператор предоставляет два основных типа услуг: \n",
    "\n",
    "1. Стационарную телефонную связь. Возможно подключение телефонного аппарата к нескольким линиям одновременно.\n",
    "2. Интернет. Подключение может быть двух типов: через телефонную линию (DSL, от англ. digital subscriber line, «цифровая абонентская линия») или оптоволоконный кабель (Fiber optic).\n",
    "\n",
    "Также доступны такие услуги:\n",
    "\n",
    "- Интернет-безопасность: антивирус (DeviceProtection) и блокировка небезопасных сайтов (OnlineSecurity);\n",
    "- Выделенная линия технической поддержки (TechSupport);\n",
    "- Облачное хранилище файлов для резервного копирования данных (OnlineBackup);\n",
    "- Стриминговое телевидение (StreamingTV) и каталог фильмов (StreamingMovies).\n",
    "\n",
    "За услуги клиенты могут платить каждый месяц или заключить договор на 1–2 года. Доступны различные способы расчёта и возможность получения электронного чека."
   ]
  },
  {
   "cell_type": "markdown",
   "id": "d7eb33af",
   "metadata": {},
   "source": [
    "**Описание данных:**\n",
    "\n",
    "Данные состоят из файлов, полученных из разных источников:\n",
    "\n",
    "- `contract_new.csv` — информация о договоре;\n",
    "- `personal_new.csv` — персональные данные клиента;\n",
    "- `internet_new.csv` — информация об интернет-услугах;\n",
    "- `phone_new.csv` — информация об услугах телефонии.\n",
    "\n",
    "Во всех файлах столбец `customerID` содержит код клиента.\n",
    "\n",
    "Информация о договорах актуальна на 1 февраля 2020."
   ]
  },
  {
   "cell_type": "markdown",
   "id": "5942cd60",
   "metadata": {},
   "source": [
    "**Задачи:**\n",
    "- Загрузить и изучить данные\n",
    "- Обработать данные \n",
    "- Построить модели и оценить их качество\n",
    "- Выбрать лучшую модель и оценить её качество на тестовой выборке\n",
    "- Составление отчёта"
   ]
  },
  {
   "cell_type": "markdown",
   "id": "e1f651e5",
   "metadata": {},
   "source": [
    "**Подробный план:**\n",
    "\n",
    "1. Загрузить датасеты, вывести общую информацию о них;\n",
    "2. Провести поиск пропусков и дубликатов;\n",
    "3. Изучить, требуют ли данные дополнительной предобработки (изменить тип данных, переименовать столбцы, заполнить пропуски, удалить дубликаты);\n",
    "4. Провести предобработку данных, добавить целевой признак;\n",
    "5. Объединить исходные датафреймы в один, изучить распределение признаков;\n",
    "6. Провести подготовку данных для обучения моделей (закодировать категориальные признаки, разбить данные на выборки);\n",
    "7. Построить модели и подобрать для них гиперпараметры;\n",
    "8. Обучить модели на тренировочной выборке и выбрать лучших из них на основе метрики AUC-ROC, значение метрики должно быть не меньше 0.85;\n",
    "9. Провести оценку лучшей модели на тестовой выборке, найти значение метрики accuracy;\n",
    "10. Проанализировать лучшую модель (важность признаков, матрица ошибок);\n",
    "11. Сделать выводы по проделанной работе;\n",
    "12. Указать основные этапы работы над проектом, какие проблемы возникли и что было предпринято для их решения;\n",
    "13. Составить итоговый список признаков и способы их обработки, а также сводную таблицу исследованных моделей и показатели лучшей модели."
   ]
  },
  {
   "cell_type": "markdown",
   "id": "b9dc1bf1",
   "metadata": {},
   "source": [
    "## Изучение данных"
   ]
  },
  {
   "cell_type": "code",
   "execution_count": 1,
   "id": "22aadb1d",
   "metadata": {
    "scrolled": true
   },
   "outputs": [
    {
     "name": "stdout",
     "output_type": "stream",
     "text": [
      "Requirement already satisfied: phik in /opt/conda/lib/python3.9/site-packages (0.12.3)\r\n",
      "Requirement already satisfied: pandas>=0.25.1 in /opt/conda/lib/python3.9/site-packages (from phik) (1.2.4)\r\n",
      "Requirement already satisfied: numpy>=1.18.0 in /opt/conda/lib/python3.9/site-packages (from phik) (1.21.1)\r\n",
      "Requirement already satisfied: joblib>=0.14.1 in /opt/conda/lib/python3.9/site-packages (from phik) (1.1.0)\r\n",
      "Requirement already satisfied: matplotlib>=2.2.3 in /opt/conda/lib/python3.9/site-packages (from phik) (3.3.4)\r\n",
      "Requirement already satisfied: scipy>=1.5.2 in /opt/conda/lib/python3.9/site-packages (from phik) (1.9.1)\r\n",
      "Requirement already satisfied: kiwisolver>=1.0.1 in /opt/conda/lib/python3.9/site-packages (from matplotlib>=2.2.3->phik) (1.4.4)\r\n",
      "Requirement already satisfied: cycler>=0.10 in /opt/conda/lib/python3.9/site-packages (from matplotlib>=2.2.3->phik) (0.11.0)\r\n",
      "Requirement already satisfied: pyparsing!=2.0.4,!=2.1.2,!=2.1.6,>=2.0.3 in /opt/conda/lib/python3.9/site-packages (from matplotlib>=2.2.3->phik) (2.4.7)\r\n",
      "Requirement already satisfied: python-dateutil>=2.1 in /opt/conda/lib/python3.9/site-packages (from matplotlib>=2.2.3->phik) (2.8.1)\r\n",
      "Requirement already satisfied: pillow>=6.2.0 in /opt/conda/lib/python3.9/site-packages (from matplotlib>=2.2.3->phik) (8.4.0)\r\n",
      "Requirement already satisfied: pytz>=2017.3 in /opt/conda/lib/python3.9/site-packages (from pandas>=0.25.1->phik) (2021.1)\r\n",
      "Requirement already satisfied: six>=1.5 in /opt/conda/lib/python3.9/site-packages (from python-dateutil>=2.1->matplotlib>=2.2.3->phik) (1.16.0)\r\n"
     ]
    }
   ],
   "source": [
    "import pandas as pd\n",
    "import numpy as np\n",
    "import matplotlib.pyplot as plt\n",
    "import seaborn as sns\n",
    "\n",
    "from sklearn.model_selection import train_test_split, GridSearchCV\n",
    "from sklearn.preprocessing import OrdinalEncoder, StandardScaler\n",
    "\n",
    "from sklearn.ensemble import RandomForestClassifier\n",
    "from sklearn.tree import DecisionTreeClassifier\n",
    "from catboost import CatBoostClassifier\n",
    "\n",
    "from sklearn.metrics import roc_auc_score, confusion_matrix, roc_curve, accuracy_score \n",
    "\n",
    "!pip install phik\n",
    "import phik\n",
    "from phik.report import plot_correlation_matrix\n",
    "from time import time\n",
    "\n",
    "import re\n",
    "import warnings\n",
    "warnings.filterwarnings('ignore')"
   ]
  },
  {
   "cell_type": "code",
   "execution_count": 2,
   "id": "476fdec5",
   "metadata": {},
   "outputs": [],
   "source": [
    "contract = pd.read_csv('/datasets/contract_new.csv', parse_dates=['BeginDate', 'EndDate'])\n",
    "internet = pd.read_csv('/datasets/internet_new.csv')\n",
    "personal = pd.read_csv('/datasets/personal_new.csv')\n",
    "phone = pd.read_csv('/datasets/phone_new.csv')"
   ]
  },
  {
   "cell_type": "markdown",
   "id": "bf6c2671",
   "metadata": {},
   "source": [
    "### Изучение датасета `contract`"
   ]
  },
  {
   "cell_type": "code",
   "execution_count": 3,
   "id": "aa8dca31",
   "metadata": {},
   "outputs": [
    {
     "data": {
      "text/html": [
       "<div>\n",
       "<style scoped>\n",
       "    .dataframe tbody tr th:only-of-type {\n",
       "        vertical-align: middle;\n",
       "    }\n",
       "\n",
       "    .dataframe tbody tr th {\n",
       "        vertical-align: top;\n",
       "    }\n",
       "\n",
       "    .dataframe thead th {\n",
       "        text-align: right;\n",
       "    }\n",
       "</style>\n",
       "<table border=\"1\" class=\"dataframe\">\n",
       "  <thead>\n",
       "    <tr style=\"text-align: right;\">\n",
       "      <th></th>\n",
       "      <th>customerID</th>\n",
       "      <th>BeginDate</th>\n",
       "      <th>EndDate</th>\n",
       "      <th>Type</th>\n",
       "      <th>PaperlessBilling</th>\n",
       "      <th>PaymentMethod</th>\n",
       "      <th>MonthlyCharges</th>\n",
       "      <th>TotalCharges</th>\n",
       "    </tr>\n",
       "  </thead>\n",
       "  <tbody>\n",
       "    <tr>\n",
       "      <th>0</th>\n",
       "      <td>7590-VHVEG</td>\n",
       "      <td>2020-01-01</td>\n",
       "      <td>No</td>\n",
       "      <td>Month-to-month</td>\n",
       "      <td>Yes</td>\n",
       "      <td>Electronic check</td>\n",
       "      <td>29.85</td>\n",
       "      <td>31.04</td>\n",
       "    </tr>\n",
       "    <tr>\n",
       "      <th>1</th>\n",
       "      <td>5575-GNVDE</td>\n",
       "      <td>2017-04-01</td>\n",
       "      <td>No</td>\n",
       "      <td>One year</td>\n",
       "      <td>No</td>\n",
       "      <td>Mailed check</td>\n",
       "      <td>56.95</td>\n",
       "      <td>2071.84</td>\n",
       "    </tr>\n",
       "    <tr>\n",
       "      <th>2</th>\n",
       "      <td>3668-QPYBK</td>\n",
       "      <td>2019-10-01</td>\n",
       "      <td>No</td>\n",
       "      <td>Month-to-month</td>\n",
       "      <td>Yes</td>\n",
       "      <td>Mailed check</td>\n",
       "      <td>53.85</td>\n",
       "      <td>226.17</td>\n",
       "    </tr>\n",
       "    <tr>\n",
       "      <th>3</th>\n",
       "      <td>7795-CFOCW</td>\n",
       "      <td>2016-05-01</td>\n",
       "      <td>No</td>\n",
       "      <td>One year</td>\n",
       "      <td>No</td>\n",
       "      <td>Bank transfer (automatic)</td>\n",
       "      <td>42.30</td>\n",
       "      <td>1960.6</td>\n",
       "    </tr>\n",
       "    <tr>\n",
       "      <th>4</th>\n",
       "      <td>9237-HQITU</td>\n",
       "      <td>2019-09-01</td>\n",
       "      <td>No</td>\n",
       "      <td>Month-to-month</td>\n",
       "      <td>Yes</td>\n",
       "      <td>Electronic check</td>\n",
       "      <td>70.70</td>\n",
       "      <td>353.5</td>\n",
       "    </tr>\n",
       "  </tbody>\n",
       "</table>\n",
       "</div>"
      ],
      "text/plain": [
       "   customerID  BeginDate EndDate            Type PaperlessBilling  \\\n",
       "0  7590-VHVEG 2020-01-01      No  Month-to-month              Yes   \n",
       "1  5575-GNVDE 2017-04-01      No        One year               No   \n",
       "2  3668-QPYBK 2019-10-01      No  Month-to-month              Yes   \n",
       "3  7795-CFOCW 2016-05-01      No        One year               No   \n",
       "4  9237-HQITU 2019-09-01      No  Month-to-month              Yes   \n",
       "\n",
       "               PaymentMethod  MonthlyCharges TotalCharges  \n",
       "0           Electronic check           29.85        31.04  \n",
       "1               Mailed check           56.95      2071.84  \n",
       "2               Mailed check           53.85       226.17  \n",
       "3  Bank transfer (automatic)           42.30       1960.6  \n",
       "4           Electronic check           70.70        353.5  "
      ]
     },
     "execution_count": 3,
     "metadata": {},
     "output_type": "execute_result"
    }
   ],
   "source": [
    "contract.head()"
   ]
  },
  {
   "cell_type": "code",
   "execution_count": 4,
   "id": "012ee2ff",
   "metadata": {
    "scrolled": false
   },
   "outputs": [
    {
     "name": "stdout",
     "output_type": "stream",
     "text": [
      "<class 'pandas.core.frame.DataFrame'>\n",
      "RangeIndex: 7043 entries, 0 to 7042\n",
      "Data columns (total 8 columns):\n",
      " #   Column            Non-Null Count  Dtype         \n",
      "---  ------            --------------  -----         \n",
      " 0   customerID        7043 non-null   object        \n",
      " 1   BeginDate         7043 non-null   datetime64[ns]\n",
      " 2   EndDate           7043 non-null   object        \n",
      " 3   Type              7043 non-null   object        \n",
      " 4   PaperlessBilling  7043 non-null   object        \n",
      " 5   PaymentMethod     7043 non-null   object        \n",
      " 6   MonthlyCharges    7043 non-null   float64       \n",
      " 7   TotalCharges      7043 non-null   object        \n",
      "dtypes: datetime64[ns](1), float64(1), object(6)\n",
      "memory usage: 440.3+ KB\n"
     ]
    }
   ],
   "source": [
    "contract.info()"
   ]
  },
  {
   "cell_type": "code",
   "execution_count": 5,
   "id": "07854412",
   "metadata": {
    "scrolled": true
   },
   "outputs": [
    {
     "data": {
      "text/html": [
       "<div>\n",
       "<style scoped>\n",
       "    .dataframe tbody tr th:only-of-type {\n",
       "        vertical-align: middle;\n",
       "    }\n",
       "\n",
       "    .dataframe tbody tr th {\n",
       "        vertical-align: top;\n",
       "    }\n",
       "\n",
       "    .dataframe thead th {\n",
       "        text-align: right;\n",
       "    }\n",
       "</style>\n",
       "<table border=\"1\" class=\"dataframe\">\n",
       "  <thead>\n",
       "    <tr style=\"text-align: right;\">\n",
       "      <th></th>\n",
       "      <th>MonthlyCharges</th>\n",
       "    </tr>\n",
       "  </thead>\n",
       "  <tbody>\n",
       "    <tr>\n",
       "      <th>count</th>\n",
       "      <td>7043.000000</td>\n",
       "    </tr>\n",
       "    <tr>\n",
       "      <th>mean</th>\n",
       "      <td>64.761692</td>\n",
       "    </tr>\n",
       "    <tr>\n",
       "      <th>std</th>\n",
       "      <td>30.090047</td>\n",
       "    </tr>\n",
       "    <tr>\n",
       "      <th>min</th>\n",
       "      <td>18.250000</td>\n",
       "    </tr>\n",
       "    <tr>\n",
       "      <th>25%</th>\n",
       "      <td>35.500000</td>\n",
       "    </tr>\n",
       "    <tr>\n",
       "      <th>50%</th>\n",
       "      <td>70.350000</td>\n",
       "    </tr>\n",
       "    <tr>\n",
       "      <th>75%</th>\n",
       "      <td>89.850000</td>\n",
       "    </tr>\n",
       "    <tr>\n",
       "      <th>max</th>\n",
       "      <td>118.750000</td>\n",
       "    </tr>\n",
       "  </tbody>\n",
       "</table>\n",
       "</div>"
      ],
      "text/plain": [
       "       MonthlyCharges\n",
       "count     7043.000000\n",
       "mean        64.761692\n",
       "std         30.090047\n",
       "min         18.250000\n",
       "25%         35.500000\n",
       "50%         70.350000\n",
       "75%         89.850000\n",
       "max        118.750000"
      ]
     },
     "execution_count": 5,
     "metadata": {},
     "output_type": "execute_result"
    }
   ],
   "source": [
    "contract.describe()"
   ]
  },
  {
   "cell_type": "code",
   "execution_count": 6,
   "id": "3c10ddce",
   "metadata": {},
   "outputs": [
    {
     "data": {
      "text/plain": [
       "0"
      ]
     },
     "execution_count": 6,
     "metadata": {},
     "output_type": "execute_result"
    }
   ],
   "source": [
    "contract.duplicated().sum()"
   ]
  },
  {
   "cell_type": "code",
   "execution_count": 7,
   "id": "c43e5fae",
   "metadata": {
    "scrolled": false
   },
   "outputs": [
    {
     "data": {
      "text/plain": [
       "customerID          0\n",
       "BeginDate           0\n",
       "EndDate             0\n",
       "Type                0\n",
       "PaperlessBilling    0\n",
       "PaymentMethod       0\n",
       "MonthlyCharges      0\n",
       "TotalCharges        0\n",
       "dtype: int64"
      ]
     },
     "execution_count": 7,
     "metadata": {},
     "output_type": "execute_result"
    }
   ],
   "source": [
    "contract.isna().sum()"
   ]
  },
  {
   "cell_type": "code",
   "execution_count": 8,
   "id": "3b8b8c3f",
   "metadata": {},
   "outputs": [
    {
     "data": {
      "text/plain": [
       "array(['2014-06-01', '2014-09-01', '2014-10-01', '2014-11-01',\n",
       "       '2014-12-01', '2015-01-01', '2015-02-01', '2015-03-01',\n",
       "       '2015-04-01', '2015-05-01', '2015-06-01', '2015-07-01',\n",
       "       '2015-08-01', '2015-09-01', '2015-10-01', '2015-11-01',\n",
       "       '2015-12-01', '2016-01-01', '2016-02-01', '2016-03-01',\n",
       "       '2016-04-01', '2016-05-01', '2016-06-01', '2016-07-01',\n",
       "       '2016-08-01', '2016-09-01', '2016-10-01', '2016-11-01',\n",
       "       '2016-12-01', '2017-01-01', '2017-02-01', '2017-03-01',\n",
       "       '2017-04-01', '2017-05-01', '2017-06-01', '2017-07-01',\n",
       "       '2017-08-01', '2017-09-01', '2017-10-01', '2017-11-01',\n",
       "       '2017-12-01', '2018-01-01', '2018-02-01', '2018-03-01',\n",
       "       '2018-04-01', '2018-05-01', '2018-06-01', '2018-07-01',\n",
       "       '2018-08-01', '2018-09-01', '2018-10-01', '2018-11-01',\n",
       "       '2018-12-01', '2019-01-01', '2019-02-01', '2019-03-01',\n",
       "       '2019-04-01', '2019-05-01', '2019-06-01', '2019-07-01',\n",
       "       '2019-08-01', '2019-09-01', '2019-10-01', '2019-11-01',\n",
       "       '2019-12-01', '2020-01-01', 'No'], dtype=object)"
      ]
     },
     "execution_count": 8,
     "metadata": {},
     "output_type": "execute_result"
    }
   ],
   "source": [
    "contract['EndDate'].sort_values().unique()"
   ]
  },
  {
   "cell_type": "markdown",
   "id": "c1468ca2",
   "metadata": {},
   "source": [
    "**Тип столбца `TotalCharges`**\n",
    "\n",
    "В данном столце хранится, сколько всего клиент потратил денег на услуги, но\n",
    "тип данных - object, необходимо выяснить почему так происходит."
   ]
  },
  {
   "cell_type": "code",
   "execution_count": 9,
   "id": "01e2aeea",
   "metadata": {
    "scrolled": true
   },
   "outputs": [
    {
     "data": {
      "text/plain": [
       "array([' ', '100.17', '100.19', ..., '998.89', '999.6', '999.9'],\n",
       "      dtype=object)"
      ]
     },
     "execution_count": 9,
     "metadata": {},
     "output_type": "execute_result"
    }
   ],
   "source": [
    "contract['TotalCharges'].sort_values().unique()"
   ]
  },
  {
   "cell_type": "markdown",
   "id": "5f0fc084",
   "metadata": {},
   "source": [
    "При выводе уникальных значений найдены неявные пропуски, скорее всего пропуски\n",
    "в столбце связаны с тем, что клиент заключил договор в день выгрузки данных, \n",
    "то есть 1 февраля 2020 года, и не тратил деньги на услуги.\n",
    "\n",
    "Необходимо проверить данную гипотезу."
   ]
  },
  {
   "cell_type": "code",
   "execution_count": 10,
   "id": "21881caa",
   "metadata": {
    "scrolled": true
   },
   "outputs": [
    {
     "data": {
      "text/plain": [
       "0"
      ]
     },
     "execution_count": 10,
     "metadata": {},
     "output_type": "execute_result"
    }
   ],
   "source": [
    "(contract[contract['TotalCharges'] == ' ']['BeginDate'] != '2020-02-01').sum()"
   ]
  },
  {
   "cell_type": "markdown",
   "id": "a9a17b0c",
   "metadata": {},
   "source": [
    "Каждый раз, когда встречается пропуск в столбце `TotalCharges` значение в \n",
    "столбце `BeginDate` равно `2020-02-01`, что подтверждает теорию. Далее, при\n",
    "обработке данных, необходимо будет заменить пропуски на значение `0`, что\n",
    "позволит изменить тип данных."
   ]
  },
  {
   "cell_type": "markdown",
   "id": "f6594137",
   "metadata": {},
   "source": [
    "**Результат изучения:**\n",
    "\n",
    "1. Необходимо изменить тип данных в следующих колонках:`EndDate` на  `datetime`, `TotalCharges` на `float`;\n",
    "\n",
    "2. Явных пропусков и дубликатов не было обнаружено, выбросов и подозрительных значений не найдено. В колонке `TotalCharges` обнаружены неявные пропуски, которые необходимо заменить на `0`;\n",
    "\n",
    "3. На основе столбца `EndDate` необходимо выделить целевой признак, который будет отражать факт ухода клиента. Если значение в столбце `No`, то значение целевого признака равно `0` - клиент не ушёл, иначение значение равно `1` - клиент ушёл.\n",
    "\n",
    "4. Названия столбцов необходимо привести в `snake_case`."
   ]
  },
  {
   "cell_type": "markdown",
   "id": "221f2042",
   "metadata": {},
   "source": [
    "### Изучение датасета `personal`"
   ]
  },
  {
   "cell_type": "code",
   "execution_count": 11,
   "id": "f7ef185f",
   "metadata": {
    "scrolled": true
   },
   "outputs": [
    {
     "data": {
      "text/html": [
       "<div>\n",
       "<style scoped>\n",
       "    .dataframe tbody tr th:only-of-type {\n",
       "        vertical-align: middle;\n",
       "    }\n",
       "\n",
       "    .dataframe tbody tr th {\n",
       "        vertical-align: top;\n",
       "    }\n",
       "\n",
       "    .dataframe thead th {\n",
       "        text-align: right;\n",
       "    }\n",
       "</style>\n",
       "<table border=\"1\" class=\"dataframe\">\n",
       "  <thead>\n",
       "    <tr style=\"text-align: right;\">\n",
       "      <th></th>\n",
       "      <th>customerID</th>\n",
       "      <th>gender</th>\n",
       "      <th>SeniorCitizen</th>\n",
       "      <th>Partner</th>\n",
       "      <th>Dependents</th>\n",
       "    </tr>\n",
       "  </thead>\n",
       "  <tbody>\n",
       "    <tr>\n",
       "      <th>0</th>\n",
       "      <td>7590-VHVEG</td>\n",
       "      <td>Female</td>\n",
       "      <td>0</td>\n",
       "      <td>Yes</td>\n",
       "      <td>No</td>\n",
       "    </tr>\n",
       "    <tr>\n",
       "      <th>1</th>\n",
       "      <td>5575-GNVDE</td>\n",
       "      <td>Male</td>\n",
       "      <td>0</td>\n",
       "      <td>No</td>\n",
       "      <td>No</td>\n",
       "    </tr>\n",
       "    <tr>\n",
       "      <th>2</th>\n",
       "      <td>3668-QPYBK</td>\n",
       "      <td>Male</td>\n",
       "      <td>0</td>\n",
       "      <td>No</td>\n",
       "      <td>No</td>\n",
       "    </tr>\n",
       "    <tr>\n",
       "      <th>3</th>\n",
       "      <td>7795-CFOCW</td>\n",
       "      <td>Male</td>\n",
       "      <td>0</td>\n",
       "      <td>No</td>\n",
       "      <td>No</td>\n",
       "    </tr>\n",
       "    <tr>\n",
       "      <th>4</th>\n",
       "      <td>9237-HQITU</td>\n",
       "      <td>Female</td>\n",
       "      <td>0</td>\n",
       "      <td>No</td>\n",
       "      <td>No</td>\n",
       "    </tr>\n",
       "  </tbody>\n",
       "</table>\n",
       "</div>"
      ],
      "text/plain": [
       "   customerID  gender  SeniorCitizen Partner Dependents\n",
       "0  7590-VHVEG  Female              0     Yes         No\n",
       "1  5575-GNVDE    Male              0      No         No\n",
       "2  3668-QPYBK    Male              0      No         No\n",
       "3  7795-CFOCW    Male              0      No         No\n",
       "4  9237-HQITU  Female              0      No         No"
      ]
     },
     "execution_count": 11,
     "metadata": {},
     "output_type": "execute_result"
    }
   ],
   "source": [
    "personal.head()"
   ]
  },
  {
   "cell_type": "code",
   "execution_count": 12,
   "id": "8d75994a",
   "metadata": {},
   "outputs": [
    {
     "name": "stdout",
     "output_type": "stream",
     "text": [
      "<class 'pandas.core.frame.DataFrame'>\n",
      "RangeIndex: 7043 entries, 0 to 7042\n",
      "Data columns (total 5 columns):\n",
      " #   Column         Non-Null Count  Dtype \n",
      "---  ------         --------------  ----- \n",
      " 0   customerID     7043 non-null   object\n",
      " 1   gender         7043 non-null   object\n",
      " 2   SeniorCitizen  7043 non-null   int64 \n",
      " 3   Partner        7043 non-null   object\n",
      " 4   Dependents     7043 non-null   object\n",
      "dtypes: int64(1), object(4)\n",
      "memory usage: 275.2+ KB\n"
     ]
    }
   ],
   "source": [
    "personal.info()"
   ]
  },
  {
   "cell_type": "code",
   "execution_count": 13,
   "id": "dd61d118",
   "metadata": {
    "scrolled": false
   },
   "outputs": [
    {
     "data": {
      "text/html": [
       "<div>\n",
       "<style scoped>\n",
       "    .dataframe tbody tr th:only-of-type {\n",
       "        vertical-align: middle;\n",
       "    }\n",
       "\n",
       "    .dataframe tbody tr th {\n",
       "        vertical-align: top;\n",
       "    }\n",
       "\n",
       "    .dataframe thead th {\n",
       "        text-align: right;\n",
       "    }\n",
       "</style>\n",
       "<table border=\"1\" class=\"dataframe\">\n",
       "  <thead>\n",
       "    <tr style=\"text-align: right;\">\n",
       "      <th></th>\n",
       "      <th>SeniorCitizen</th>\n",
       "    </tr>\n",
       "  </thead>\n",
       "  <tbody>\n",
       "    <tr>\n",
       "      <th>count</th>\n",
       "      <td>7043.000000</td>\n",
       "    </tr>\n",
       "    <tr>\n",
       "      <th>mean</th>\n",
       "      <td>0.162147</td>\n",
       "    </tr>\n",
       "    <tr>\n",
       "      <th>std</th>\n",
       "      <td>0.368612</td>\n",
       "    </tr>\n",
       "    <tr>\n",
       "      <th>min</th>\n",
       "      <td>0.000000</td>\n",
       "    </tr>\n",
       "    <tr>\n",
       "      <th>25%</th>\n",
       "      <td>0.000000</td>\n",
       "    </tr>\n",
       "    <tr>\n",
       "      <th>50%</th>\n",
       "      <td>0.000000</td>\n",
       "    </tr>\n",
       "    <tr>\n",
       "      <th>75%</th>\n",
       "      <td>0.000000</td>\n",
       "    </tr>\n",
       "    <tr>\n",
       "      <th>max</th>\n",
       "      <td>1.000000</td>\n",
       "    </tr>\n",
       "  </tbody>\n",
       "</table>\n",
       "</div>"
      ],
      "text/plain": [
       "       SeniorCitizen\n",
       "count    7043.000000\n",
       "mean        0.162147\n",
       "std         0.368612\n",
       "min         0.000000\n",
       "25%         0.000000\n",
       "50%         0.000000\n",
       "75%         0.000000\n",
       "max         1.000000"
      ]
     },
     "execution_count": 13,
     "metadata": {},
     "output_type": "execute_result"
    }
   ],
   "source": [
    "personal.describe()"
   ]
  },
  {
   "cell_type": "code",
   "execution_count": 14,
   "id": "d74da4e4",
   "metadata": {
    "scrolled": true
   },
   "outputs": [
    {
     "data": {
      "text/plain": [
       "0"
      ]
     },
     "execution_count": 14,
     "metadata": {},
     "output_type": "execute_result"
    }
   ],
   "source": [
    "personal.duplicated().sum()"
   ]
  },
  {
   "cell_type": "code",
   "execution_count": 15,
   "id": "9508ee49",
   "metadata": {
    "scrolled": true
   },
   "outputs": [
    {
     "data": {
      "text/plain": [
       "customerID       0\n",
       "gender           0\n",
       "SeniorCitizen    0\n",
       "Partner          0\n",
       "Dependents       0\n",
       "dtype: int64"
      ]
     },
     "execution_count": 15,
     "metadata": {},
     "output_type": "execute_result"
    }
   ],
   "source": [
    "personal.isna().sum()"
   ]
  },
  {
   "cell_type": "markdown",
   "id": "37503033",
   "metadata": {},
   "source": [
    "**Результат изучения:**\n",
    "\n",
    "1. Явных пропусков и дубликатов не было обнаружено, выбросов и подозрительных значений не найдено;\n",
    "\n",
    "2. Названия столбцов необходимо привести в `snake_case`."
   ]
  },
  {
   "cell_type": "markdown",
   "id": "77448315",
   "metadata": {},
   "source": [
    "### Изучение датасета `internet`"
   ]
  },
  {
   "cell_type": "code",
   "execution_count": 16,
   "id": "e520a590",
   "metadata": {},
   "outputs": [
    {
     "data": {
      "text/html": [
       "<div>\n",
       "<style scoped>\n",
       "    .dataframe tbody tr th:only-of-type {\n",
       "        vertical-align: middle;\n",
       "    }\n",
       "\n",
       "    .dataframe tbody tr th {\n",
       "        vertical-align: top;\n",
       "    }\n",
       "\n",
       "    .dataframe thead th {\n",
       "        text-align: right;\n",
       "    }\n",
       "</style>\n",
       "<table border=\"1\" class=\"dataframe\">\n",
       "  <thead>\n",
       "    <tr style=\"text-align: right;\">\n",
       "      <th></th>\n",
       "      <th>customerID</th>\n",
       "      <th>InternetService</th>\n",
       "      <th>OnlineSecurity</th>\n",
       "      <th>OnlineBackup</th>\n",
       "      <th>DeviceProtection</th>\n",
       "      <th>TechSupport</th>\n",
       "      <th>StreamingTV</th>\n",
       "      <th>StreamingMovies</th>\n",
       "    </tr>\n",
       "  </thead>\n",
       "  <tbody>\n",
       "    <tr>\n",
       "      <th>0</th>\n",
       "      <td>7590-VHVEG</td>\n",
       "      <td>DSL</td>\n",
       "      <td>No</td>\n",
       "      <td>Yes</td>\n",
       "      <td>No</td>\n",
       "      <td>No</td>\n",
       "      <td>No</td>\n",
       "      <td>No</td>\n",
       "    </tr>\n",
       "    <tr>\n",
       "      <th>1</th>\n",
       "      <td>5575-GNVDE</td>\n",
       "      <td>DSL</td>\n",
       "      <td>Yes</td>\n",
       "      <td>No</td>\n",
       "      <td>Yes</td>\n",
       "      <td>No</td>\n",
       "      <td>No</td>\n",
       "      <td>No</td>\n",
       "    </tr>\n",
       "    <tr>\n",
       "      <th>2</th>\n",
       "      <td>3668-QPYBK</td>\n",
       "      <td>DSL</td>\n",
       "      <td>Yes</td>\n",
       "      <td>Yes</td>\n",
       "      <td>No</td>\n",
       "      <td>No</td>\n",
       "      <td>No</td>\n",
       "      <td>No</td>\n",
       "    </tr>\n",
       "    <tr>\n",
       "      <th>3</th>\n",
       "      <td>7795-CFOCW</td>\n",
       "      <td>DSL</td>\n",
       "      <td>Yes</td>\n",
       "      <td>No</td>\n",
       "      <td>Yes</td>\n",
       "      <td>Yes</td>\n",
       "      <td>No</td>\n",
       "      <td>No</td>\n",
       "    </tr>\n",
       "    <tr>\n",
       "      <th>4</th>\n",
       "      <td>9237-HQITU</td>\n",
       "      <td>Fiber optic</td>\n",
       "      <td>No</td>\n",
       "      <td>No</td>\n",
       "      <td>No</td>\n",
       "      <td>No</td>\n",
       "      <td>No</td>\n",
       "      <td>No</td>\n",
       "    </tr>\n",
       "  </tbody>\n",
       "</table>\n",
       "</div>"
      ],
      "text/plain": [
       "   customerID InternetService OnlineSecurity OnlineBackup DeviceProtection  \\\n",
       "0  7590-VHVEG             DSL             No          Yes               No   \n",
       "1  5575-GNVDE             DSL            Yes           No              Yes   \n",
       "2  3668-QPYBK             DSL            Yes          Yes               No   \n",
       "3  7795-CFOCW             DSL            Yes           No              Yes   \n",
       "4  9237-HQITU     Fiber optic             No           No               No   \n",
       "\n",
       "  TechSupport StreamingTV StreamingMovies  \n",
       "0          No          No              No  \n",
       "1          No          No              No  \n",
       "2          No          No              No  \n",
       "3         Yes          No              No  \n",
       "4          No          No              No  "
      ]
     },
     "execution_count": 16,
     "metadata": {},
     "output_type": "execute_result"
    }
   ],
   "source": [
    "internet.head()"
   ]
  },
  {
   "cell_type": "code",
   "execution_count": 17,
   "id": "2a09c7e9",
   "metadata": {},
   "outputs": [
    {
     "name": "stdout",
     "output_type": "stream",
     "text": [
      "<class 'pandas.core.frame.DataFrame'>\n",
      "RangeIndex: 5517 entries, 0 to 5516\n",
      "Data columns (total 8 columns):\n",
      " #   Column            Non-Null Count  Dtype \n",
      "---  ------            --------------  ----- \n",
      " 0   customerID        5517 non-null   object\n",
      " 1   InternetService   5517 non-null   object\n",
      " 2   OnlineSecurity    5517 non-null   object\n",
      " 3   OnlineBackup      5517 non-null   object\n",
      " 4   DeviceProtection  5517 non-null   object\n",
      " 5   TechSupport       5517 non-null   object\n",
      " 6   StreamingTV       5517 non-null   object\n",
      " 7   StreamingMovies   5517 non-null   object\n",
      "dtypes: object(8)\n",
      "memory usage: 344.9+ KB\n"
     ]
    }
   ],
   "source": [
    "internet.info()"
   ]
  },
  {
   "cell_type": "code",
   "execution_count": 18,
   "id": "8aa3a941",
   "metadata": {},
   "outputs": [
    {
     "data": {
      "text/html": [
       "<div>\n",
       "<style scoped>\n",
       "    .dataframe tbody tr th:only-of-type {\n",
       "        vertical-align: middle;\n",
       "    }\n",
       "\n",
       "    .dataframe tbody tr th {\n",
       "        vertical-align: top;\n",
       "    }\n",
       "\n",
       "    .dataframe thead th {\n",
       "        text-align: right;\n",
       "    }\n",
       "</style>\n",
       "<table border=\"1\" class=\"dataframe\">\n",
       "  <thead>\n",
       "    <tr style=\"text-align: right;\">\n",
       "      <th></th>\n",
       "      <th>customerID</th>\n",
       "      <th>InternetService</th>\n",
       "      <th>OnlineSecurity</th>\n",
       "      <th>OnlineBackup</th>\n",
       "      <th>DeviceProtection</th>\n",
       "      <th>TechSupport</th>\n",
       "      <th>StreamingTV</th>\n",
       "      <th>StreamingMovies</th>\n",
       "    </tr>\n",
       "  </thead>\n",
       "  <tbody>\n",
       "    <tr>\n",
       "      <th>count</th>\n",
       "      <td>5517</td>\n",
       "      <td>5517</td>\n",
       "      <td>5517</td>\n",
       "      <td>5517</td>\n",
       "      <td>5517</td>\n",
       "      <td>5517</td>\n",
       "      <td>5517</td>\n",
       "      <td>5517</td>\n",
       "    </tr>\n",
       "    <tr>\n",
       "      <th>unique</th>\n",
       "      <td>5517</td>\n",
       "      <td>2</td>\n",
       "      <td>2</td>\n",
       "      <td>2</td>\n",
       "      <td>2</td>\n",
       "      <td>2</td>\n",
       "      <td>2</td>\n",
       "      <td>2</td>\n",
       "    </tr>\n",
       "    <tr>\n",
       "      <th>top</th>\n",
       "      <td>6771-XWBDM</td>\n",
       "      <td>Fiber optic</td>\n",
       "      <td>No</td>\n",
       "      <td>No</td>\n",
       "      <td>No</td>\n",
       "      <td>No</td>\n",
       "      <td>No</td>\n",
       "      <td>No</td>\n",
       "    </tr>\n",
       "    <tr>\n",
       "      <th>freq</th>\n",
       "      <td>1</td>\n",
       "      <td>3096</td>\n",
       "      <td>3498</td>\n",
       "      <td>3088</td>\n",
       "      <td>3095</td>\n",
       "      <td>3473</td>\n",
       "      <td>2810</td>\n",
       "      <td>2785</td>\n",
       "    </tr>\n",
       "  </tbody>\n",
       "</table>\n",
       "</div>"
      ],
      "text/plain": [
       "        customerID InternetService OnlineSecurity OnlineBackup  \\\n",
       "count         5517            5517           5517         5517   \n",
       "unique        5517               2              2            2   \n",
       "top     6771-XWBDM     Fiber optic             No           No   \n",
       "freq             1            3096           3498         3088   \n",
       "\n",
       "       DeviceProtection TechSupport StreamingTV StreamingMovies  \n",
       "count              5517        5517        5517            5517  \n",
       "unique                2           2           2               2  \n",
       "top                  No          No          No              No  \n",
       "freq               3095        3473        2810            2785  "
      ]
     },
     "execution_count": 18,
     "metadata": {},
     "output_type": "execute_result"
    }
   ],
   "source": [
    "internet.describe()"
   ]
  },
  {
   "cell_type": "code",
   "execution_count": 19,
   "id": "80244f4a",
   "metadata": {},
   "outputs": [
    {
     "data": {
      "text/plain": [
       "0"
      ]
     },
     "execution_count": 19,
     "metadata": {},
     "output_type": "execute_result"
    }
   ],
   "source": [
    "internet.duplicated().sum()"
   ]
  },
  {
   "cell_type": "code",
   "execution_count": 20,
   "id": "cd24839b",
   "metadata": {
    "scrolled": true
   },
   "outputs": [
    {
     "data": {
      "text/plain": [
       "customerID          0\n",
       "InternetService     0\n",
       "OnlineSecurity      0\n",
       "OnlineBackup        0\n",
       "DeviceProtection    0\n",
       "TechSupport         0\n",
       "StreamingTV         0\n",
       "StreamingMovies     0\n",
       "dtype: int64"
      ]
     },
     "execution_count": 20,
     "metadata": {},
     "output_type": "execute_result"
    }
   ],
   "source": [
    "internet.isna().sum()"
   ]
  },
  {
   "cell_type": "markdown",
   "id": "2b41b7da",
   "metadata": {},
   "source": [
    "**Результат изучения:**\n",
    "\n",
    "1. Явных пропусков и дубликатов не было обнаружено, выбросов и подозрительных значений не найдено;\n",
    "\n",
    "2. В датасете представлены не все клиенты, так как не все пользуются интернет-услугами, что стоит учесть при обработке данных;\n",
    "\n",
    "3. Названия столбцов необходимо привести в `snake_case`."
   ]
  },
  {
   "cell_type": "markdown",
   "id": "4c9ecc0b",
   "metadata": {},
   "source": [
    "### Изучение датасета `phone`"
   ]
  },
  {
   "cell_type": "code",
   "execution_count": 21,
   "id": "aa058347",
   "metadata": {},
   "outputs": [
    {
     "data": {
      "text/html": [
       "<div>\n",
       "<style scoped>\n",
       "    .dataframe tbody tr th:only-of-type {\n",
       "        vertical-align: middle;\n",
       "    }\n",
       "\n",
       "    .dataframe tbody tr th {\n",
       "        vertical-align: top;\n",
       "    }\n",
       "\n",
       "    .dataframe thead th {\n",
       "        text-align: right;\n",
       "    }\n",
       "</style>\n",
       "<table border=\"1\" class=\"dataframe\">\n",
       "  <thead>\n",
       "    <tr style=\"text-align: right;\">\n",
       "      <th></th>\n",
       "      <th>customerID</th>\n",
       "      <th>MultipleLines</th>\n",
       "    </tr>\n",
       "  </thead>\n",
       "  <tbody>\n",
       "    <tr>\n",
       "      <th>0</th>\n",
       "      <td>5575-GNVDE</td>\n",
       "      <td>No</td>\n",
       "    </tr>\n",
       "    <tr>\n",
       "      <th>1</th>\n",
       "      <td>3668-QPYBK</td>\n",
       "      <td>No</td>\n",
       "    </tr>\n",
       "    <tr>\n",
       "      <th>2</th>\n",
       "      <td>9237-HQITU</td>\n",
       "      <td>No</td>\n",
       "    </tr>\n",
       "    <tr>\n",
       "      <th>3</th>\n",
       "      <td>9305-CDSKC</td>\n",
       "      <td>Yes</td>\n",
       "    </tr>\n",
       "    <tr>\n",
       "      <th>4</th>\n",
       "      <td>1452-KIOVK</td>\n",
       "      <td>Yes</td>\n",
       "    </tr>\n",
       "  </tbody>\n",
       "</table>\n",
       "</div>"
      ],
      "text/plain": [
       "   customerID MultipleLines\n",
       "0  5575-GNVDE            No\n",
       "1  3668-QPYBK            No\n",
       "2  9237-HQITU            No\n",
       "3  9305-CDSKC           Yes\n",
       "4  1452-KIOVK           Yes"
      ]
     },
     "execution_count": 21,
     "metadata": {},
     "output_type": "execute_result"
    }
   ],
   "source": [
    "phone.head()"
   ]
  },
  {
   "cell_type": "code",
   "execution_count": 22,
   "id": "1c4ba691",
   "metadata": {},
   "outputs": [
    {
     "name": "stdout",
     "output_type": "stream",
     "text": [
      "<class 'pandas.core.frame.DataFrame'>\n",
      "RangeIndex: 6361 entries, 0 to 6360\n",
      "Data columns (total 2 columns):\n",
      " #   Column         Non-Null Count  Dtype \n",
      "---  ------         --------------  ----- \n",
      " 0   customerID     6361 non-null   object\n",
      " 1   MultipleLines  6361 non-null   object\n",
      "dtypes: object(2)\n",
      "memory usage: 99.5+ KB\n"
     ]
    }
   ],
   "source": [
    "phone.info()"
   ]
  },
  {
   "cell_type": "code",
   "execution_count": 23,
   "id": "af98ac1f",
   "metadata": {},
   "outputs": [
    {
     "data": {
      "text/html": [
       "<div>\n",
       "<style scoped>\n",
       "    .dataframe tbody tr th:only-of-type {\n",
       "        vertical-align: middle;\n",
       "    }\n",
       "\n",
       "    .dataframe tbody tr th {\n",
       "        vertical-align: top;\n",
       "    }\n",
       "\n",
       "    .dataframe thead th {\n",
       "        text-align: right;\n",
       "    }\n",
       "</style>\n",
       "<table border=\"1\" class=\"dataframe\">\n",
       "  <thead>\n",
       "    <tr style=\"text-align: right;\">\n",
       "      <th></th>\n",
       "      <th>customerID</th>\n",
       "      <th>MultipleLines</th>\n",
       "    </tr>\n",
       "  </thead>\n",
       "  <tbody>\n",
       "    <tr>\n",
       "      <th>count</th>\n",
       "      <td>6361</td>\n",
       "      <td>6361</td>\n",
       "    </tr>\n",
       "    <tr>\n",
       "      <th>unique</th>\n",
       "      <td>6361</td>\n",
       "      <td>2</td>\n",
       "    </tr>\n",
       "    <tr>\n",
       "      <th>top</th>\n",
       "      <td>6771-XWBDM</td>\n",
       "      <td>No</td>\n",
       "    </tr>\n",
       "    <tr>\n",
       "      <th>freq</th>\n",
       "      <td>1</td>\n",
       "      <td>3390</td>\n",
       "    </tr>\n",
       "  </tbody>\n",
       "</table>\n",
       "</div>"
      ],
      "text/plain": [
       "        customerID MultipleLines\n",
       "count         6361          6361\n",
       "unique        6361             2\n",
       "top     6771-XWBDM            No\n",
       "freq             1          3390"
      ]
     },
     "execution_count": 23,
     "metadata": {},
     "output_type": "execute_result"
    }
   ],
   "source": [
    "phone.describe()"
   ]
  },
  {
   "cell_type": "code",
   "execution_count": 24,
   "id": "fd5ce5ae",
   "metadata": {},
   "outputs": [
    {
     "data": {
      "text/plain": [
       "0"
      ]
     },
     "execution_count": 24,
     "metadata": {},
     "output_type": "execute_result"
    }
   ],
   "source": [
    "phone.duplicated().sum()"
   ]
  },
  {
   "cell_type": "code",
   "execution_count": 25,
   "id": "163f2319",
   "metadata": {
    "scrolled": true
   },
   "outputs": [
    {
     "data": {
      "text/plain": [
       "customerID       0\n",
       "MultipleLines    0\n",
       "dtype: int64"
      ]
     },
     "execution_count": 25,
     "metadata": {},
     "output_type": "execute_result"
    }
   ],
   "source": [
    "phone.isna().sum()"
   ]
  },
  {
   "cell_type": "markdown",
   "id": "5d4421a2",
   "metadata": {},
   "source": [
    "**Результат изучения:**\n",
    "\n",
    "1. Явных пропусков и дубликатов не было обнаружено, выбросов и подозрительных значений не найдено;\n",
    "\n",
    "2. В датасете представлены не все клиенты, так как не все пользуются услугами телефонии, что стоит учесть при обработке данных;\n",
    "\n",
    "3. Названия столбцов необходимо привести в `snake_case`."
   ]
  },
  {
   "cell_type": "markdown",
   "id": "5e94e6e4",
   "metadata": {},
   "source": [
    "## Предобработка данных"
   ]
  },
  {
   "cell_type": "markdown",
   "id": "8f3ca0be",
   "metadata": {},
   "source": [
    "**Преобразование названий столбцов**"
   ]
  },
  {
   "cell_type": "code",
   "execution_count": 26,
   "id": "510a3b78",
   "metadata": {},
   "outputs": [],
   "source": [
    "#Преобразование из camel case в snake case\n",
    "def camel_to_snake(name):\n",
    "    name = re.sub('(.)([A-Z][a-z]+)', r'\\1_\\2', name)\n",
    "    return re.sub('([a-z0-9])([A-Z])', r'\\1_\\2', name).lower()"
   ]
  },
  {
   "cell_type": "code",
   "execution_count": 27,
   "id": "bef4f1a5",
   "metadata": {},
   "outputs": [
    {
     "name": "stdout",
     "output_type": "stream",
     "text": [
      "<class 'pandas.core.frame.DataFrame'>\n",
      "RangeIndex: 7043 entries, 0 to 7042\n",
      "Data columns (total 8 columns):\n",
      " #   Column             Non-Null Count  Dtype         \n",
      "---  ------             --------------  -----         \n",
      " 0   customer_id        7043 non-null   object        \n",
      " 1   begin_date         7043 non-null   datetime64[ns]\n",
      " 2   end_date           7043 non-null   object        \n",
      " 3   type               7043 non-null   object        \n",
      " 4   paperless_billing  7043 non-null   object        \n",
      " 5   payment_method     7043 non-null   object        \n",
      " 6   monthly_charges    7043 non-null   float64       \n",
      " 7   total_charges      7043 non-null   object        \n",
      "dtypes: datetime64[ns](1), float64(1), object(6)\n",
      "memory usage: 440.3+ KB\n",
      "<class 'pandas.core.frame.DataFrame'>\n",
      "RangeIndex: 7043 entries, 0 to 7042\n",
      "Data columns (total 5 columns):\n",
      " #   Column          Non-Null Count  Dtype \n",
      "---  ------          --------------  ----- \n",
      " 0   customer_id     7043 non-null   object\n",
      " 1   gender          7043 non-null   object\n",
      " 2   senior_citizen  7043 non-null   int64 \n",
      " 3   partner         7043 non-null   object\n",
      " 4   dependents      7043 non-null   object\n",
      "dtypes: int64(1), object(4)\n",
      "memory usage: 275.2+ KB\n",
      "<class 'pandas.core.frame.DataFrame'>\n",
      "RangeIndex: 5517 entries, 0 to 5516\n",
      "Data columns (total 8 columns):\n",
      " #   Column             Non-Null Count  Dtype \n",
      "---  ------             --------------  ----- \n",
      " 0   customer_id        5517 non-null   object\n",
      " 1   internet_service   5517 non-null   object\n",
      " 2   online_security    5517 non-null   object\n",
      " 3   online_backup      5517 non-null   object\n",
      " 4   device_protection  5517 non-null   object\n",
      " 5   tech_support       5517 non-null   object\n",
      " 6   streaming_tv       5517 non-null   object\n",
      " 7   streaming_movies   5517 non-null   object\n",
      "dtypes: object(8)\n",
      "memory usage: 344.9+ KB\n",
      "<class 'pandas.core.frame.DataFrame'>\n",
      "RangeIndex: 6361 entries, 0 to 6360\n",
      "Data columns (total 2 columns):\n",
      " #   Column          Non-Null Count  Dtype \n",
      "---  ------          --------------  ----- \n",
      " 0   customer_id     6361 non-null   object\n",
      " 1   multiple_lines  6361 non-null   object\n",
      "dtypes: object(2)\n",
      "memory usage: 99.5+ KB\n"
     ]
    }
   ],
   "source": [
    "contract.columns = [camel_to_snake(i) for i in contract.columns]\n",
    "personal.columns = [camel_to_snake(i) for i in personal.columns]\n",
    "internet.columns = [camel_to_snake(i) for i in internet.columns]\n",
    "phone.columns = [camel_to_snake(i) for i in phone.columns]\n",
    "contract.info()\n",
    "personal.info()\n",
    "internet.info()\n",
    "phone.info()"
   ]
  },
  {
   "cell_type": "markdown",
   "id": "9a494dbf",
   "metadata": {},
   "source": [
    "**Создание целевого признака**"
   ]
  },
  {
   "cell_type": "code",
   "execution_count": 28,
   "id": "70d39804",
   "metadata": {},
   "outputs": [],
   "source": [
    "contract['former'] = (contract['end_date'] != 'No').astype(int)"
   ]
  },
  {
   "cell_type": "code",
   "execution_count": 29,
   "id": "899239f8",
   "metadata": {
    "scrolled": true
   },
   "outputs": [
    {
     "data": {
      "text/html": [
       "<div>\n",
       "<style scoped>\n",
       "    .dataframe tbody tr th:only-of-type {\n",
       "        vertical-align: middle;\n",
       "    }\n",
       "\n",
       "    .dataframe tbody tr th {\n",
       "        vertical-align: top;\n",
       "    }\n",
       "\n",
       "    .dataframe thead th {\n",
       "        text-align: right;\n",
       "    }\n",
       "</style>\n",
       "<table border=\"1\" class=\"dataframe\">\n",
       "  <thead>\n",
       "    <tr style=\"text-align: right;\">\n",
       "      <th></th>\n",
       "      <th>customer_id</th>\n",
       "      <th>begin_date</th>\n",
       "      <th>end_date</th>\n",
       "      <th>type</th>\n",
       "      <th>paperless_billing</th>\n",
       "      <th>payment_method</th>\n",
       "      <th>monthly_charges</th>\n",
       "      <th>total_charges</th>\n",
       "      <th>former</th>\n",
       "    </tr>\n",
       "  </thead>\n",
       "  <tbody>\n",
       "    <tr>\n",
       "      <th>0</th>\n",
       "      <td>7590-VHVEG</td>\n",
       "      <td>2020-01-01</td>\n",
       "      <td>No</td>\n",
       "      <td>Month-to-month</td>\n",
       "      <td>Yes</td>\n",
       "      <td>Electronic check</td>\n",
       "      <td>29.85</td>\n",
       "      <td>31.04</td>\n",
       "      <td>0</td>\n",
       "    </tr>\n",
       "    <tr>\n",
       "      <th>1</th>\n",
       "      <td>5575-GNVDE</td>\n",
       "      <td>2017-04-01</td>\n",
       "      <td>No</td>\n",
       "      <td>One year</td>\n",
       "      <td>No</td>\n",
       "      <td>Mailed check</td>\n",
       "      <td>56.95</td>\n",
       "      <td>2071.84</td>\n",
       "      <td>0</td>\n",
       "    </tr>\n",
       "    <tr>\n",
       "      <th>2</th>\n",
       "      <td>3668-QPYBK</td>\n",
       "      <td>2019-10-01</td>\n",
       "      <td>No</td>\n",
       "      <td>Month-to-month</td>\n",
       "      <td>Yes</td>\n",
       "      <td>Mailed check</td>\n",
       "      <td>53.85</td>\n",
       "      <td>226.17</td>\n",
       "      <td>0</td>\n",
       "    </tr>\n",
       "    <tr>\n",
       "      <th>3</th>\n",
       "      <td>7795-CFOCW</td>\n",
       "      <td>2016-05-01</td>\n",
       "      <td>No</td>\n",
       "      <td>One year</td>\n",
       "      <td>No</td>\n",
       "      <td>Bank transfer (automatic)</td>\n",
       "      <td>42.30</td>\n",
       "      <td>1960.6</td>\n",
       "      <td>0</td>\n",
       "    </tr>\n",
       "    <tr>\n",
       "      <th>4</th>\n",
       "      <td>9237-HQITU</td>\n",
       "      <td>2019-09-01</td>\n",
       "      <td>No</td>\n",
       "      <td>Month-to-month</td>\n",
       "      <td>Yes</td>\n",
       "      <td>Electronic check</td>\n",
       "      <td>70.70</td>\n",
       "      <td>353.5</td>\n",
       "      <td>0</td>\n",
       "    </tr>\n",
       "    <tr>\n",
       "      <th>5</th>\n",
       "      <td>9305-CDSKC</td>\n",
       "      <td>2019-03-01</td>\n",
       "      <td>No</td>\n",
       "      <td>Month-to-month</td>\n",
       "      <td>Yes</td>\n",
       "      <td>Electronic check</td>\n",
       "      <td>99.65</td>\n",
       "      <td>1150.96</td>\n",
       "      <td>0</td>\n",
       "    </tr>\n",
       "    <tr>\n",
       "      <th>6</th>\n",
       "      <td>1452-KIOVK</td>\n",
       "      <td>2018-04-01</td>\n",
       "      <td>No</td>\n",
       "      <td>Month-to-month</td>\n",
       "      <td>Yes</td>\n",
       "      <td>Credit card (automatic)</td>\n",
       "      <td>89.10</td>\n",
       "      <td>2058.21</td>\n",
       "      <td>0</td>\n",
       "    </tr>\n",
       "    <tr>\n",
       "      <th>7</th>\n",
       "      <td>6713-OKOMC</td>\n",
       "      <td>2019-04-01</td>\n",
       "      <td>No</td>\n",
       "      <td>Month-to-month</td>\n",
       "      <td>No</td>\n",
       "      <td>Mailed check</td>\n",
       "      <td>29.75</td>\n",
       "      <td>300.48</td>\n",
       "      <td>0</td>\n",
       "    </tr>\n",
       "    <tr>\n",
       "      <th>8</th>\n",
       "      <td>7892-POOKP</td>\n",
       "      <td>2017-07-01</td>\n",
       "      <td>No</td>\n",
       "      <td>Month-to-month</td>\n",
       "      <td>Yes</td>\n",
       "      <td>Electronic check</td>\n",
       "      <td>104.80</td>\n",
       "      <td>3573.68</td>\n",
       "      <td>0</td>\n",
       "    </tr>\n",
       "    <tr>\n",
       "      <th>9</th>\n",
       "      <td>6388-TABGU</td>\n",
       "      <td>2014-12-01</td>\n",
       "      <td>2017-05-01</td>\n",
       "      <td>One year</td>\n",
       "      <td>No</td>\n",
       "      <td>Bank transfer (automatic)</td>\n",
       "      <td>56.15</td>\n",
       "      <td>1628.35</td>\n",
       "      <td>1</td>\n",
       "    </tr>\n",
       "  </tbody>\n",
       "</table>\n",
       "</div>"
      ],
      "text/plain": [
       "  customer_id begin_date    end_date            type paperless_billing  \\\n",
       "0  7590-VHVEG 2020-01-01          No  Month-to-month               Yes   \n",
       "1  5575-GNVDE 2017-04-01          No        One year                No   \n",
       "2  3668-QPYBK 2019-10-01          No  Month-to-month               Yes   \n",
       "3  7795-CFOCW 2016-05-01          No        One year                No   \n",
       "4  9237-HQITU 2019-09-01          No  Month-to-month               Yes   \n",
       "5  9305-CDSKC 2019-03-01          No  Month-to-month               Yes   \n",
       "6  1452-KIOVK 2018-04-01          No  Month-to-month               Yes   \n",
       "7  6713-OKOMC 2019-04-01          No  Month-to-month                No   \n",
       "8  7892-POOKP 2017-07-01          No  Month-to-month               Yes   \n",
       "9  6388-TABGU 2014-12-01  2017-05-01        One year                No   \n",
       "\n",
       "              payment_method  monthly_charges total_charges  former  \n",
       "0           Electronic check            29.85         31.04       0  \n",
       "1               Mailed check            56.95       2071.84       0  \n",
       "2               Mailed check            53.85        226.17       0  \n",
       "3  Bank transfer (automatic)            42.30        1960.6       0  \n",
       "4           Electronic check            70.70         353.5       0  \n",
       "5           Electronic check            99.65       1150.96       0  \n",
       "6    Credit card (automatic)            89.10       2058.21       0  \n",
       "7               Mailed check            29.75        300.48       0  \n",
       "8           Electronic check           104.80       3573.68       0  \n",
       "9  Bank transfer (automatic)            56.15       1628.35       1  "
      ]
     },
     "execution_count": 29,
     "metadata": {},
     "output_type": "execute_result"
    }
   ],
   "source": [
    "contract.head(10)"
   ]
  },
  {
   "cell_type": "markdown",
   "id": "759550bd",
   "metadata": {},
   "source": [
    "**Создание нового признака**\n",
    "\n",
    "На основе двух столбцов: `begin_date` и `end_date` можно создать новый - период пользования услуг. Для этого необходимо заменить значение `No` в столбце `end_date` на дату выгрузки данных. После создания нового столбца необходимо удалить столбцы с датами."
   ]
  },
  {
   "cell_type": "code",
   "execution_count": 30,
   "id": "6d785e26",
   "metadata": {},
   "outputs": [],
   "source": [
    "contract['end_date'] = contract['end_date'].where(contract['end_date'] != 'No', '2020-02-01')"
   ]
  },
  {
   "cell_type": "code",
   "execution_count": 31,
   "id": "e87c143a",
   "metadata": {},
   "outputs": [
    {
     "data": {
      "text/html": [
       "<div>\n",
       "<style scoped>\n",
       "    .dataframe tbody tr th:only-of-type {\n",
       "        vertical-align: middle;\n",
       "    }\n",
       "\n",
       "    .dataframe tbody tr th {\n",
       "        vertical-align: top;\n",
       "    }\n",
       "\n",
       "    .dataframe thead th {\n",
       "        text-align: right;\n",
       "    }\n",
       "</style>\n",
       "<table border=\"1\" class=\"dataframe\">\n",
       "  <thead>\n",
       "    <tr style=\"text-align: right;\">\n",
       "      <th></th>\n",
       "      <th>customer_id</th>\n",
       "      <th>type</th>\n",
       "      <th>paperless_billing</th>\n",
       "      <th>payment_method</th>\n",
       "      <th>monthly_charges</th>\n",
       "      <th>total_charges</th>\n",
       "      <th>former</th>\n",
       "      <th>duration</th>\n",
       "    </tr>\n",
       "  </thead>\n",
       "  <tbody>\n",
       "    <tr>\n",
       "      <th>0</th>\n",
       "      <td>7590-VHVEG</td>\n",
       "      <td>Month-to-month</td>\n",
       "      <td>Yes</td>\n",
       "      <td>Electronic check</td>\n",
       "      <td>29.85</td>\n",
       "      <td>31.04</td>\n",
       "      <td>0</td>\n",
       "      <td>31</td>\n",
       "    </tr>\n",
       "    <tr>\n",
       "      <th>1</th>\n",
       "      <td>5575-GNVDE</td>\n",
       "      <td>One year</td>\n",
       "      <td>No</td>\n",
       "      <td>Mailed check</td>\n",
       "      <td>56.95</td>\n",
       "      <td>2071.84</td>\n",
       "      <td>0</td>\n",
       "      <td>1036</td>\n",
       "    </tr>\n",
       "    <tr>\n",
       "      <th>2</th>\n",
       "      <td>3668-QPYBK</td>\n",
       "      <td>Month-to-month</td>\n",
       "      <td>Yes</td>\n",
       "      <td>Mailed check</td>\n",
       "      <td>53.85</td>\n",
       "      <td>226.17</td>\n",
       "      <td>0</td>\n",
       "      <td>123</td>\n",
       "    </tr>\n",
       "    <tr>\n",
       "      <th>3</th>\n",
       "      <td>7795-CFOCW</td>\n",
       "      <td>One year</td>\n",
       "      <td>No</td>\n",
       "      <td>Bank transfer (automatic)</td>\n",
       "      <td>42.30</td>\n",
       "      <td>1960.6</td>\n",
       "      <td>0</td>\n",
       "      <td>1371</td>\n",
       "    </tr>\n",
       "    <tr>\n",
       "      <th>4</th>\n",
       "      <td>9237-HQITU</td>\n",
       "      <td>Month-to-month</td>\n",
       "      <td>Yes</td>\n",
       "      <td>Electronic check</td>\n",
       "      <td>70.70</td>\n",
       "      <td>353.5</td>\n",
       "      <td>0</td>\n",
       "      <td>153</td>\n",
       "    </tr>\n",
       "  </tbody>\n",
       "</table>\n",
       "</div>"
      ],
      "text/plain": [
       "  customer_id            type paperless_billing             payment_method  \\\n",
       "0  7590-VHVEG  Month-to-month               Yes           Electronic check   \n",
       "1  5575-GNVDE        One year                No               Mailed check   \n",
       "2  3668-QPYBK  Month-to-month               Yes               Mailed check   \n",
       "3  7795-CFOCW        One year                No  Bank transfer (automatic)   \n",
       "4  9237-HQITU  Month-to-month               Yes           Electronic check   \n",
       "\n",
       "   monthly_charges total_charges  former  duration  \n",
       "0            29.85         31.04       0        31  \n",
       "1            56.95       2071.84       0      1036  \n",
       "2            53.85        226.17       0       123  \n",
       "3            42.30        1960.6       0      1371  \n",
       "4            70.70         353.5       0       153  "
      ]
     },
     "execution_count": 31,
     "metadata": {},
     "output_type": "execute_result"
    }
   ],
   "source": [
    "contract['end_date'] = pd.to_datetime(contract['end_date'])\n",
    "contract['duration'] = (contract['end_date'] - contract['begin_date']).dt.days\n",
    "contract = contract.drop(['begin_date', 'end_date'], axis=1)\n",
    "contract.head()"
   ]
  },
  {
   "cell_type": "markdown",
   "id": "97270dfa",
   "metadata": {},
   "source": [
    "**Заполнение неявных пропусков с столбце `total_charges` и преобразование типа данных** \n",
    "\n",
    "В предобработке было выяснено, что пропуски в столбце `total_charges` связаны с тем, что некоторые пользователи - новые и не успели ничего заплатить, поэтому пропуски в данном столбце необходимо заменить на значение `0`. \n",
    "\n",
    "После замены неявных пропусков тип данных можно заменить на `float`."
   ]
  },
  {
   "cell_type": "code",
   "execution_count": 32,
   "id": "bd357742",
   "metadata": {},
   "outputs": [
    {
     "name": "stdout",
     "output_type": "stream",
     "text": [
      "<class 'pandas.core.frame.DataFrame'>\n",
      "RangeIndex: 7043 entries, 0 to 7042\n",
      "Data columns (total 8 columns):\n",
      " #   Column             Non-Null Count  Dtype  \n",
      "---  ------             --------------  -----  \n",
      " 0   customer_id        7043 non-null   object \n",
      " 1   type               7043 non-null   object \n",
      " 2   paperless_billing  7043 non-null   object \n",
      " 3   payment_method     7043 non-null   object \n",
      " 4   monthly_charges    7043 non-null   float64\n",
      " 5   total_charges      7043 non-null   float64\n",
      " 6   former             7043 non-null   int64  \n",
      " 7   duration           7043 non-null   int64  \n",
      "dtypes: float64(2), int64(2), object(4)\n",
      "memory usage: 440.3+ KB\n"
     ]
    }
   ],
   "source": [
    "contract['total_charges'] = contract['total_charges'].where(contract['total_charges'] != ' ', 0)\n",
    "contract['total_charges'] = contract['total_charges'].astype(float)\n",
    "contract.info()"
   ]
  },
  {
   "cell_type": "markdown",
   "id": "9a47e6e4",
   "metadata": {},
   "source": [
    "### Объединение и исследование данных"
   ]
  },
  {
   "cell_type": "code",
   "execution_count": 33,
   "id": "c67ec3fd",
   "metadata": {},
   "outputs": [
    {
     "name": "stdout",
     "output_type": "stream",
     "text": [
      "<class 'pandas.core.frame.DataFrame'>\n",
      "Int64Index: 7043 entries, 0 to 7042\n",
      "Data columns (total 20 columns):\n",
      " #   Column             Non-Null Count  Dtype  \n",
      "---  ------             --------------  -----  \n",
      " 0   customer_id        7043 non-null   object \n",
      " 1   type               7043 non-null   object \n",
      " 2   paperless_billing  7043 non-null   object \n",
      " 3   payment_method     7043 non-null   object \n",
      " 4   monthly_charges    7043 non-null   float64\n",
      " 5   total_charges      7043 non-null   float64\n",
      " 6   former             7043 non-null   int64  \n",
      " 7   duration           7043 non-null   int64  \n",
      " 8   gender             7043 non-null   object \n",
      " 9   senior_citizen     7043 non-null   int64  \n",
      " 10  partner            7043 non-null   object \n",
      " 11  dependents         7043 non-null   object \n",
      " 12  internet_service   5517 non-null   object \n",
      " 13  online_security    5517 non-null   object \n",
      " 14  online_backup      5517 non-null   object \n",
      " 15  device_protection  5517 non-null   object \n",
      " 16  tech_support       5517 non-null   object \n",
      " 17  streaming_tv       5517 non-null   object \n",
      " 18  streaming_movies   5517 non-null   object \n",
      " 19  multiple_lines     6361 non-null   object \n",
      "dtypes: float64(2), int64(3), object(15)\n",
      "memory usage: 1.1+ MB\n"
     ]
    }
   ],
   "source": [
    "data = (contract.merge(personal, on =['customer_id'], how='left')\n",
    "                .merge(internet, on =['customer_id'], how='left')\n",
    "                .merge(phone, on =['customer_id'], how='left')\n",
    ")\n",
    "data.info()"
   ]
  },
  {
   "cell_type": "code",
   "execution_count": 34,
   "id": "138d32e1",
   "metadata": {
    "scrolled": false
   },
   "outputs": [
    {
     "data": {
      "text/html": [
       "<div>\n",
       "<style scoped>\n",
       "    .dataframe tbody tr th:only-of-type {\n",
       "        vertical-align: middle;\n",
       "    }\n",
       "\n",
       "    .dataframe tbody tr th {\n",
       "        vertical-align: top;\n",
       "    }\n",
       "\n",
       "    .dataframe thead th {\n",
       "        text-align: right;\n",
       "    }\n",
       "</style>\n",
       "<table border=\"1\" class=\"dataframe\">\n",
       "  <thead>\n",
       "    <tr style=\"text-align: right;\">\n",
       "      <th></th>\n",
       "      <th>customer_id</th>\n",
       "      <th>type</th>\n",
       "      <th>paperless_billing</th>\n",
       "      <th>payment_method</th>\n",
       "      <th>monthly_charges</th>\n",
       "      <th>total_charges</th>\n",
       "      <th>former</th>\n",
       "      <th>duration</th>\n",
       "      <th>gender</th>\n",
       "      <th>senior_citizen</th>\n",
       "      <th>partner</th>\n",
       "      <th>dependents</th>\n",
       "      <th>internet_service</th>\n",
       "      <th>online_security</th>\n",
       "      <th>online_backup</th>\n",
       "      <th>device_protection</th>\n",
       "      <th>tech_support</th>\n",
       "      <th>streaming_tv</th>\n",
       "      <th>streaming_movies</th>\n",
       "      <th>multiple_lines</th>\n",
       "    </tr>\n",
       "  </thead>\n",
       "  <tbody>\n",
       "    <tr>\n",
       "      <th>0</th>\n",
       "      <td>7590-VHVEG</td>\n",
       "      <td>Month-to-month</td>\n",
       "      <td>Yes</td>\n",
       "      <td>Electronic check</td>\n",
       "      <td>29.85</td>\n",
       "      <td>31.04</td>\n",
       "      <td>0</td>\n",
       "      <td>31</td>\n",
       "      <td>Female</td>\n",
       "      <td>0</td>\n",
       "      <td>Yes</td>\n",
       "      <td>No</td>\n",
       "      <td>DSL</td>\n",
       "      <td>No</td>\n",
       "      <td>Yes</td>\n",
       "      <td>No</td>\n",
       "      <td>No</td>\n",
       "      <td>No</td>\n",
       "      <td>No</td>\n",
       "      <td>NaN</td>\n",
       "    </tr>\n",
       "    <tr>\n",
       "      <th>1</th>\n",
       "      <td>5575-GNVDE</td>\n",
       "      <td>One year</td>\n",
       "      <td>No</td>\n",
       "      <td>Mailed check</td>\n",
       "      <td>56.95</td>\n",
       "      <td>2071.84</td>\n",
       "      <td>0</td>\n",
       "      <td>1036</td>\n",
       "      <td>Male</td>\n",
       "      <td>0</td>\n",
       "      <td>No</td>\n",
       "      <td>No</td>\n",
       "      <td>DSL</td>\n",
       "      <td>Yes</td>\n",
       "      <td>No</td>\n",
       "      <td>Yes</td>\n",
       "      <td>No</td>\n",
       "      <td>No</td>\n",
       "      <td>No</td>\n",
       "      <td>No</td>\n",
       "    </tr>\n",
       "    <tr>\n",
       "      <th>2</th>\n",
       "      <td>3668-QPYBK</td>\n",
       "      <td>Month-to-month</td>\n",
       "      <td>Yes</td>\n",
       "      <td>Mailed check</td>\n",
       "      <td>53.85</td>\n",
       "      <td>226.17</td>\n",
       "      <td>0</td>\n",
       "      <td>123</td>\n",
       "      <td>Male</td>\n",
       "      <td>0</td>\n",
       "      <td>No</td>\n",
       "      <td>No</td>\n",
       "      <td>DSL</td>\n",
       "      <td>Yes</td>\n",
       "      <td>Yes</td>\n",
       "      <td>No</td>\n",
       "      <td>No</td>\n",
       "      <td>No</td>\n",
       "      <td>No</td>\n",
       "      <td>No</td>\n",
       "    </tr>\n",
       "    <tr>\n",
       "      <th>3</th>\n",
       "      <td>7795-CFOCW</td>\n",
       "      <td>One year</td>\n",
       "      <td>No</td>\n",
       "      <td>Bank transfer (automatic)</td>\n",
       "      <td>42.30</td>\n",
       "      <td>1960.60</td>\n",
       "      <td>0</td>\n",
       "      <td>1371</td>\n",
       "      <td>Male</td>\n",
       "      <td>0</td>\n",
       "      <td>No</td>\n",
       "      <td>No</td>\n",
       "      <td>DSL</td>\n",
       "      <td>Yes</td>\n",
       "      <td>No</td>\n",
       "      <td>Yes</td>\n",
       "      <td>Yes</td>\n",
       "      <td>No</td>\n",
       "      <td>No</td>\n",
       "      <td>NaN</td>\n",
       "    </tr>\n",
       "    <tr>\n",
       "      <th>4</th>\n",
       "      <td>9237-HQITU</td>\n",
       "      <td>Month-to-month</td>\n",
       "      <td>Yes</td>\n",
       "      <td>Electronic check</td>\n",
       "      <td>70.70</td>\n",
       "      <td>353.50</td>\n",
       "      <td>0</td>\n",
       "      <td>153</td>\n",
       "      <td>Female</td>\n",
       "      <td>0</td>\n",
       "      <td>No</td>\n",
       "      <td>No</td>\n",
       "      <td>Fiber optic</td>\n",
       "      <td>No</td>\n",
       "      <td>No</td>\n",
       "      <td>No</td>\n",
       "      <td>No</td>\n",
       "      <td>No</td>\n",
       "      <td>No</td>\n",
       "      <td>No</td>\n",
       "    </tr>\n",
       "  </tbody>\n",
       "</table>\n",
       "</div>"
      ],
      "text/plain": [
       "  customer_id            type paperless_billing             payment_method  \\\n",
       "0  7590-VHVEG  Month-to-month               Yes           Electronic check   \n",
       "1  5575-GNVDE        One year                No               Mailed check   \n",
       "2  3668-QPYBK  Month-to-month               Yes               Mailed check   \n",
       "3  7795-CFOCW        One year                No  Bank transfer (automatic)   \n",
       "4  9237-HQITU  Month-to-month               Yes           Electronic check   \n",
       "\n",
       "   monthly_charges  total_charges  former  duration  gender  senior_citizen  \\\n",
       "0            29.85          31.04       0        31  Female               0   \n",
       "1            56.95        2071.84       0      1036    Male               0   \n",
       "2            53.85         226.17       0       123    Male               0   \n",
       "3            42.30        1960.60       0      1371    Male               0   \n",
       "4            70.70         353.50       0       153  Female               0   \n",
       "\n",
       "  partner dependents internet_service online_security online_backup  \\\n",
       "0     Yes         No              DSL              No           Yes   \n",
       "1      No         No              DSL             Yes            No   \n",
       "2      No         No              DSL             Yes           Yes   \n",
       "3      No         No              DSL             Yes            No   \n",
       "4      No         No      Fiber optic              No            No   \n",
       "\n",
       "  device_protection tech_support streaming_tv streaming_movies multiple_lines  \n",
       "0                No           No           No               No            NaN  \n",
       "1               Yes           No           No               No             No  \n",
       "2                No           No           No               No             No  \n",
       "3               Yes          Yes           No               No            NaN  \n",
       "4                No           No           No               No             No  "
      ]
     },
     "execution_count": 34,
     "metadata": {},
     "output_type": "execute_result"
    }
   ],
   "source": [
    "data.head()"
   ]
  },
  {
   "cell_type": "markdown",
   "id": "e88eea89",
   "metadata": {},
   "source": [
    "**Заполнение пропусков**\n",
    "\n",
    "При объединении таблиц появились пропуски в столбцах, связанных с интернет услугами и услугами телефонии. Они появились из-за того, что не все клиенты пользуются данными услугами. Пропуски в столбцах означают, что пользователь не пользуется услугой, связанной с этим столбцов, остальные пропуски были удалены на предыдущем этапе. Данные пропуски необходимо обработать так, чтобы отличать пользователей, которые не пользуются пакетом целиком и пользователей, которые не пользуются конкретной услугой из пакета, для этого появившиеся пропуски заполним новым значением `NoService`. "
   ]
  },
  {
   "cell_type": "code",
   "execution_count": 35,
   "id": "0bc0d2d7",
   "metadata": {
    "scrolled": false
   },
   "outputs": [
    {
     "data": {
      "text/plain": [
       "customer_id             0\n",
       "type                    0\n",
       "paperless_billing       0\n",
       "payment_method          0\n",
       "monthly_charges         0\n",
       "total_charges           0\n",
       "former                  0\n",
       "duration                0\n",
       "gender                  0\n",
       "senior_citizen          0\n",
       "partner                 0\n",
       "dependents              0\n",
       "internet_service     1526\n",
       "online_security      1526\n",
       "online_backup        1526\n",
       "device_protection    1526\n",
       "tech_support         1526\n",
       "streaming_tv         1526\n",
       "streaming_movies     1526\n",
       "multiple_lines        682\n",
       "dtype: int64"
      ]
     },
     "execution_count": 35,
     "metadata": {},
     "output_type": "execute_result"
    }
   ],
   "source": [
    "data.isna().sum()"
   ]
  },
  {
   "cell_type": "code",
   "execution_count": 36,
   "id": "f1bb427a",
   "metadata": {
    "scrolled": false
   },
   "outputs": [
    {
     "data": {
      "text/html": [
       "<div>\n",
       "<style scoped>\n",
       "    .dataframe tbody tr th:only-of-type {\n",
       "        vertical-align: middle;\n",
       "    }\n",
       "\n",
       "    .dataframe tbody tr th {\n",
       "        vertical-align: top;\n",
       "    }\n",
       "\n",
       "    .dataframe thead th {\n",
       "        text-align: right;\n",
       "    }\n",
       "</style>\n",
       "<table border=\"1\" class=\"dataframe\">\n",
       "  <thead>\n",
       "    <tr style=\"text-align: right;\">\n",
       "      <th></th>\n",
       "      <th>customer_id</th>\n",
       "      <th>type</th>\n",
       "      <th>paperless_billing</th>\n",
       "      <th>payment_method</th>\n",
       "      <th>monthly_charges</th>\n",
       "      <th>total_charges</th>\n",
       "      <th>former</th>\n",
       "      <th>duration</th>\n",
       "      <th>gender</th>\n",
       "      <th>senior_citizen</th>\n",
       "      <th>partner</th>\n",
       "      <th>dependents</th>\n",
       "      <th>internet_service</th>\n",
       "      <th>online_security</th>\n",
       "      <th>online_backup</th>\n",
       "      <th>device_protection</th>\n",
       "      <th>tech_support</th>\n",
       "      <th>streaming_tv</th>\n",
       "      <th>streaming_movies</th>\n",
       "      <th>multiple_lines</th>\n",
       "    </tr>\n",
       "  </thead>\n",
       "  <tbody>\n",
       "    <tr>\n",
       "      <th>3492</th>\n",
       "      <td>0975-VOOVL</td>\n",
       "      <td>Month-to-month</td>\n",
       "      <td>No</td>\n",
       "      <td>Mailed check</td>\n",
       "      <td>29.20</td>\n",
       "      <td>87.60</td>\n",
       "      <td>0</td>\n",
       "      <td>92</td>\n",
       "      <td>Female</td>\n",
       "      <td>0</td>\n",
       "      <td>No</td>\n",
       "      <td>No</td>\n",
       "      <td>DSL</td>\n",
       "      <td>No</td>\n",
       "      <td>Yes</td>\n",
       "      <td>No</td>\n",
       "      <td>No</td>\n",
       "      <td>No</td>\n",
       "      <td>No</td>\n",
       "      <td>NoService</td>\n",
       "    </tr>\n",
       "    <tr>\n",
       "      <th>3256</th>\n",
       "      <td>7711-YIJWC</td>\n",
       "      <td>One year</td>\n",
       "      <td>No</td>\n",
       "      <td>Bank transfer (automatic)</td>\n",
       "      <td>84.90</td>\n",
       "      <td>5437.85</td>\n",
       "      <td>0</td>\n",
       "      <td>1857</td>\n",
       "      <td>Male</td>\n",
       "      <td>0</td>\n",
       "      <td>Yes</td>\n",
       "      <td>Yes</td>\n",
       "      <td>DSL</td>\n",
       "      <td>Yes</td>\n",
       "      <td>Yes</td>\n",
       "      <td>Yes</td>\n",
       "      <td>Yes</td>\n",
       "      <td>Yes</td>\n",
       "      <td>Yes</td>\n",
       "      <td>No</td>\n",
       "    </tr>\n",
       "    <tr>\n",
       "      <th>5647</th>\n",
       "      <td>7502-BNYGS</td>\n",
       "      <td>Month-to-month</td>\n",
       "      <td>Yes</td>\n",
       "      <td>Credit card (automatic)</td>\n",
       "      <td>69.10</td>\n",
       "      <td>3178.60</td>\n",
       "      <td>0</td>\n",
       "      <td>1401</td>\n",
       "      <td>Female</td>\n",
       "      <td>0</td>\n",
       "      <td>Yes</td>\n",
       "      <td>No</td>\n",
       "      <td>DSL</td>\n",
       "      <td>No</td>\n",
       "      <td>Yes</td>\n",
       "      <td>No</td>\n",
       "      <td>No</td>\n",
       "      <td>Yes</td>\n",
       "      <td>Yes</td>\n",
       "      <td>No</td>\n",
       "    </tr>\n",
       "    <tr>\n",
       "      <th>1348</th>\n",
       "      <td>1184-PJVDB</td>\n",
       "      <td>Month-to-month</td>\n",
       "      <td>Yes</td>\n",
       "      <td>Electronic check</td>\n",
       "      <td>79.95</td>\n",
       "      <td>1039.35</td>\n",
       "      <td>0</td>\n",
       "      <td>396</td>\n",
       "      <td>Male</td>\n",
       "      <td>0</td>\n",
       "      <td>Yes</td>\n",
       "      <td>No</td>\n",
       "      <td>Fiber optic</td>\n",
       "      <td>No</td>\n",
       "      <td>No</td>\n",
       "      <td>No</td>\n",
       "      <td>No</td>\n",
       "      <td>Yes</td>\n",
       "      <td>No</td>\n",
       "      <td>No</td>\n",
       "    </tr>\n",
       "    <tr>\n",
       "      <th>2824</th>\n",
       "      <td>8857-CUPFQ</td>\n",
       "      <td>Two year</td>\n",
       "      <td>No</td>\n",
       "      <td>Mailed check</td>\n",
       "      <td>19.25</td>\n",
       "      <td>1309.77</td>\n",
       "      <td>0</td>\n",
       "      <td>1918</td>\n",
       "      <td>Male</td>\n",
       "      <td>0</td>\n",
       "      <td>Yes</td>\n",
       "      <td>No</td>\n",
       "      <td>NoService</td>\n",
       "      <td>NoService</td>\n",
       "      <td>NoService</td>\n",
       "      <td>NoService</td>\n",
       "      <td>NoService</td>\n",
       "      <td>NoService</td>\n",
       "      <td>NoService</td>\n",
       "      <td>No</td>\n",
       "    </tr>\n",
       "    <tr>\n",
       "      <th>2708</th>\n",
       "      <td>8510-AWCXC</td>\n",
       "      <td>Month-to-month</td>\n",
       "      <td>Yes</td>\n",
       "      <td>Electronic check</td>\n",
       "      <td>100.80</td>\n",
       "      <td>1512.00</td>\n",
       "      <td>0</td>\n",
       "      <td>457</td>\n",
       "      <td>Female</td>\n",
       "      <td>1</td>\n",
       "      <td>No</td>\n",
       "      <td>No</td>\n",
       "      <td>Fiber optic</td>\n",
       "      <td>Yes</td>\n",
       "      <td>No</td>\n",
       "      <td>No</td>\n",
       "      <td>No</td>\n",
       "      <td>Yes</td>\n",
       "      <td>Yes</td>\n",
       "      <td>Yes</td>\n",
       "    </tr>\n",
       "    <tr>\n",
       "      <th>3358</th>\n",
       "      <td>5447-VYTKW</td>\n",
       "      <td>Month-to-month</td>\n",
       "      <td>No</td>\n",
       "      <td>Mailed check</td>\n",
       "      <td>53.45</td>\n",
       "      <td>1443.15</td>\n",
       "      <td>0</td>\n",
       "      <td>822</td>\n",
       "      <td>Male</td>\n",
       "      <td>0</td>\n",
       "      <td>No</td>\n",
       "      <td>No</td>\n",
       "      <td>DSL</td>\n",
       "      <td>Yes</td>\n",
       "      <td>No</td>\n",
       "      <td>No</td>\n",
       "      <td>Yes</td>\n",
       "      <td>No</td>\n",
       "      <td>No</td>\n",
       "      <td>No</td>\n",
       "    </tr>\n",
       "    <tr>\n",
       "      <th>3865</th>\n",
       "      <td>5701-SVCWR</td>\n",
       "      <td>Month-to-month</td>\n",
       "      <td>No</td>\n",
       "      <td>Mailed check</td>\n",
       "      <td>24.00</td>\n",
       "      <td>25.92</td>\n",
       "      <td>0</td>\n",
       "      <td>31</td>\n",
       "      <td>Female</td>\n",
       "      <td>0</td>\n",
       "      <td>No</td>\n",
       "      <td>Yes</td>\n",
       "      <td>NoService</td>\n",
       "      <td>NoService</td>\n",
       "      <td>NoService</td>\n",
       "      <td>NoService</td>\n",
       "      <td>NoService</td>\n",
       "      <td>NoService</td>\n",
       "      <td>NoService</td>\n",
       "      <td>Yes</td>\n",
       "    </tr>\n",
       "    <tr>\n",
       "      <th>3650</th>\n",
       "      <td>5699-BNCAS</td>\n",
       "      <td>Two year</td>\n",
       "      <td>Yes</td>\n",
       "      <td>Mailed check</td>\n",
       "      <td>24.65</td>\n",
       "      <td>1750.15</td>\n",
       "      <td>0</td>\n",
       "      <td>2163</td>\n",
       "      <td>Male</td>\n",
       "      <td>1</td>\n",
       "      <td>No</td>\n",
       "      <td>No</td>\n",
       "      <td>NoService</td>\n",
       "      <td>NoService</td>\n",
       "      <td>NoService</td>\n",
       "      <td>NoService</td>\n",
       "      <td>NoService</td>\n",
       "      <td>NoService</td>\n",
       "      <td>NoService</td>\n",
       "      <td>Yes</td>\n",
       "    </tr>\n",
       "    <tr>\n",
       "      <th>259</th>\n",
       "      <td>5046-NUHWD</td>\n",
       "      <td>Month-to-month</td>\n",
       "      <td>Yes</td>\n",
       "      <td>Electronic check</td>\n",
       "      <td>45.00</td>\n",
       "      <td>1318.05</td>\n",
       "      <td>0</td>\n",
       "      <td>883</td>\n",
       "      <td>Female</td>\n",
       "      <td>1</td>\n",
       "      <td>Yes</td>\n",
       "      <td>No</td>\n",
       "      <td>DSL</td>\n",
       "      <td>Yes</td>\n",
       "      <td>No</td>\n",
       "      <td>Yes</td>\n",
       "      <td>No</td>\n",
       "      <td>No</td>\n",
       "      <td>Yes</td>\n",
       "      <td>NoService</td>\n",
       "    </tr>\n",
       "  </tbody>\n",
       "</table>\n",
       "</div>"
      ],
      "text/plain": [
       "     customer_id            type paperless_billing             payment_method  \\\n",
       "3492  0975-VOOVL  Month-to-month                No               Mailed check   \n",
       "3256  7711-YIJWC        One year                No  Bank transfer (automatic)   \n",
       "5647  7502-BNYGS  Month-to-month               Yes    Credit card (automatic)   \n",
       "1348  1184-PJVDB  Month-to-month               Yes           Electronic check   \n",
       "2824  8857-CUPFQ        Two year                No               Mailed check   \n",
       "2708  8510-AWCXC  Month-to-month               Yes           Electronic check   \n",
       "3358  5447-VYTKW  Month-to-month                No               Mailed check   \n",
       "3865  5701-SVCWR  Month-to-month                No               Mailed check   \n",
       "3650  5699-BNCAS        Two year               Yes               Mailed check   \n",
       "259   5046-NUHWD  Month-to-month               Yes           Electronic check   \n",
       "\n",
       "      monthly_charges  total_charges  former  duration  gender  \\\n",
       "3492            29.20          87.60       0        92  Female   \n",
       "3256            84.90        5437.85       0      1857    Male   \n",
       "5647            69.10        3178.60       0      1401  Female   \n",
       "1348            79.95        1039.35       0       396    Male   \n",
       "2824            19.25        1309.77       0      1918    Male   \n",
       "2708           100.80        1512.00       0       457  Female   \n",
       "3358            53.45        1443.15       0       822    Male   \n",
       "3865            24.00          25.92       0        31  Female   \n",
       "3650            24.65        1750.15       0      2163    Male   \n",
       "259             45.00        1318.05       0       883  Female   \n",
       "\n",
       "      senior_citizen partner dependents internet_service online_security  \\\n",
       "3492               0      No         No              DSL              No   \n",
       "3256               0     Yes        Yes              DSL             Yes   \n",
       "5647               0     Yes         No              DSL              No   \n",
       "1348               0     Yes         No      Fiber optic              No   \n",
       "2824               0     Yes         No        NoService       NoService   \n",
       "2708               1      No         No      Fiber optic             Yes   \n",
       "3358               0      No         No              DSL             Yes   \n",
       "3865               0      No        Yes        NoService       NoService   \n",
       "3650               1      No         No        NoService       NoService   \n",
       "259                1     Yes         No              DSL             Yes   \n",
       "\n",
       "     online_backup device_protection tech_support streaming_tv  \\\n",
       "3492           Yes                No           No           No   \n",
       "3256           Yes               Yes          Yes          Yes   \n",
       "5647           Yes                No           No          Yes   \n",
       "1348            No                No           No          Yes   \n",
       "2824     NoService         NoService    NoService    NoService   \n",
       "2708            No                No           No          Yes   \n",
       "3358            No                No          Yes           No   \n",
       "3865     NoService         NoService    NoService    NoService   \n",
       "3650     NoService         NoService    NoService    NoService   \n",
       "259             No               Yes           No           No   \n",
       "\n",
       "     streaming_movies multiple_lines  \n",
       "3492               No      NoService  \n",
       "3256              Yes             No  \n",
       "5647              Yes             No  \n",
       "1348               No             No  \n",
       "2824        NoService             No  \n",
       "2708              Yes            Yes  \n",
       "3358               No             No  \n",
       "3865        NoService            Yes  \n",
       "3650        NoService            Yes  \n",
       "259               Yes      NoService  "
      ]
     },
     "execution_count": 36,
     "metadata": {},
     "output_type": "execute_result"
    }
   ],
   "source": [
    "data = data.fillna('NoService')\n",
    "data.sample(10)"
   ]
  },
  {
   "cell_type": "markdown",
   "id": "50276b69",
   "metadata": {},
   "source": [
    "Если в строке встречается значение `NoService`, то значения всех столбцов, связанных с данным пакетом услуг тоже равны значению `NoService`, это означает, что заполнение прошло корректно."
   ]
  },
  {
   "cell_type": "markdown",
   "id": "03c17f05",
   "metadata": {},
   "source": [
    "Значение в столбце `customer_id` уникальное для каждого пользователя, поэтому при построении моделей его можно не учитывать."
   ]
  },
  {
   "cell_type": "code",
   "execution_count": 37,
   "id": "1a231f32",
   "metadata": {},
   "outputs": [],
   "source": [
    "data = data.drop('customer_id', axis=1)"
   ]
  },
  {
   "cell_type": "markdown",
   "id": "05b1bdb6",
   "metadata": {},
   "source": [
    "**Распределение признаков**"
   ]
  },
  {
   "cell_type": "code",
   "execution_count": 38,
   "id": "9bfb6671",
   "metadata": {},
   "outputs": [
    {
     "data": {
      "image/png": "[encoded data removed]",
      "text/plain": [
       "<Figure size 576x576 with 1 Axes>"
      ]
     },
     "metadata": {},
     "output_type": "display_data"
    }
   ],
   "source": [
    "data.groupby('former').size().plot(kind='pie', \n",
    "                                   autopct='%1.1f%%', \n",
    "                                   figsize=(8, 8),\n",
    "                                   fontsize=12,\n",
    "                                   ylabel='')\n",
    "plt.title('Распределение целевого признака')\n",
    "plt.legend(['Действующие', 'Бывшие']);"
   ]
  },
  {
   "cell_type": "markdown",
   "id": "3b64c464",
   "metadata": {},
   "source": [
    "Заметно, что большинство пользователей остаются клиентами компании."
   ]
  },
  {
   "cell_type": "markdown",
   "id": "afc1c5b3",
   "metadata": {},
   "source": [
    "Изучим распределение ежемесячного платежа всех клиентов и отдельно для действующих и бывших клиентов."
   ]
  },
  {
   "cell_type": "code",
   "execution_count": 39,
   "id": "2b5f5780",
   "metadata": {},
   "outputs": [
    {
     "data": {
      "image/png": "[encoded data removed]",
      "text/plain": [
       "<Figure size 864x720 with 1 Axes>"
      ]
     },
     "metadata": {
      "needs_background": "light"
     },
     "output_type": "display_data"
    }
   ],
   "source": [
    "plt.figure(figsize=(12, 10))\n",
    "charges_data = [data['monthly_charges'],\n",
    "                data[data['former'] == 0]['monthly_charges'],\n",
    "                data[data['former'] == 1]['monthly_charges']]\n",
    "plt.hist(charges_data, density=True)\n",
    "plt.legend(['Все клиенты', 'Действующие', 'Бывшие'])\n",
    "plt.title('Распределение ежемесячных платежей')\n",
    "plt.ylabel('Количество клиентов')\n",
    "plt.xlabel('Размер ежемесячного платежа');"
   ]
  },
  {
   "cell_type": "markdown",
   "id": "a1de67a9",
   "metadata": {},
   "source": [
    "Большинство клиентов платят по договору около 20. Распределение бывших клиентов отличается - среди них самый популярный ежемесячный платеж около 100.\n",
    "\n",
    "Изучим распределение продолжительности пользования услугами"
   ]
  },
  {
   "cell_type": "code",
   "execution_count": 40,
   "id": "74970a50",
   "metadata": {
    "scrolled": false
   },
   "outputs": [
    {
     "data": {
      "image/png": "[encoded data removed]",
      "text/plain": [
       "<Figure size 864x720 with 1 Axes>"
      ]
     },
     "metadata": {
      "needs_background": "light"
     },
     "output_type": "display_data"
    }
   ],
   "source": [
    "plt.figure(figsize=(12, 10))\n",
    "duration_data = [data['duration'],\n",
    "                data[data['former'] == 0]['duration'],\n",
    "                data[data['former'] == 1]['duration']]\n",
    "plt.hist(duration_data, density=True)\n",
    "plt.legend(['Все клиенты', 'Действующие', 'Бывшие'])\n",
    "plt.title('Распределение длительности пользования услугами')\n",
    "plt.ylabel('Количество клиентов')\n",
    "plt.xlabel('Количество дней');"
   ]
  },
  {
   "cell_type": "markdown",
   "id": "b4065ced",
   "metadata": {},
   "source": [
    "По графику видно, что большинство пользователей новые и пользуются услугами меньше года, среди бывших клиентов чаще всего услугами пользовались около 1000 дней. "
   ]
  },
  {
   "cell_type": "code",
   "execution_count": 41,
   "id": "5ea59cd1",
   "metadata": {
    "scrolled": true
   },
   "outputs": [],
   "source": [
    "yes_no_columns = ['paperless_billing', 'partner', 'dependents', 'senior_citizen',\n",
    "                  'multiple_lines', 'online_security', \n",
    "                  'online_backup', 'device_protection', 'tech_support', 'streaming_tv', 'streaming_movies']"
   ]
  },
  {
   "cell_type": "code",
   "execution_count": 42,
   "id": "e2bea26c",
   "metadata": {},
   "outputs": [],
   "source": [
    "customer_data = ((data[yes_no_columns] == 'Yes') | (data[yes_no_columns] == 1)).sum()\n",
    "customer_data['all_customers'] = data.shape[0]"
   ]
  },
  {
   "cell_type": "code",
   "execution_count": 43,
   "id": "4862eb54",
   "metadata": {
    "scrolled": false
   },
   "outputs": [
    {
     "data": {
      "image/png": "[encoded data removed]",
      "text/plain": [
       "<Figure size 1080x720 with 1 Axes>"
      ]
     },
     "metadata": {
      "needs_background": "light"
     },
     "output_type": "display_data"
    }
   ],
   "source": [
    "plt.figure(figsize=(15, 10))\n",
    "plt.title('Распределение бинарных признаков', fontsize=15)\n",
    "plt.ylabel('Количество клиентов', fontsize=15)\n",
    "plt.xlabel('Категория', fontsize=15)\n",
    "customer_data.plot(kind='bar', fontsize=15);"
   ]
  },
  {
   "cell_type": "markdown",
   "id": "beb506f3",
   "metadata": {},
   "source": [
    "**Результат:**\n",
    "\n",
    "При построении распределения бинарных признаков можно заметить, что услугами телефонии пользуются чуть больше, чем услугами интернета. Менее половины всех клиентов, которые пользуются услугами телефонии или интернет услугами, пользуются дополнительными услугами, такими как: возможность ведения параллельных линий во время звонка или стриминговыми услугами.\n",
    "\n",
    "Большинство клиентов используют электронный платежный документ, менее половины имеют супруга(у), малая часть клиентов имеют иждивенцев и пенсионный статус по возрасту. "
   ]
  },
  {
   "cell_type": "code",
   "execution_count": 44,
   "id": "e0c5370c",
   "metadata": {
    "scrolled": false
   },
   "outputs": [
    {
     "data": {
      "image/png": "[encoded data removed]",
      "text/plain": [
       "<Figure size 576x576 with 1 Axes>"
      ]
     },
     "metadata": {},
     "output_type": "display_data"
    }
   ],
   "source": [
    "data.groupby('type').size().plot(kind='pie', \n",
    "                                 autopct='%1.1f%%', \n",
    "                                 figsize=(8, 8),\n",
    "                                 fontsize=12)\n",
    "plt.ylabel('')\n",
    "plt.title('Распределение типа оплаты');"
   ]
  },
  {
   "cell_type": "markdown",
   "id": "def1cae3",
   "metadata": {},
   "source": [
    "**Результат:**\n",
    "\n",
    "Большинство клиентов платят ежемесячно (55%), распределение клиентов, которые платят ежегодно или раз в два года примерно равно с небольшим перевесом в сторону тех, кто платит раз в два года."
   ]
  },
  {
   "cell_type": "code",
   "execution_count": 45,
   "id": "73b6d98b",
   "metadata": {},
   "outputs": [
    {
     "data": {
      "image/png": "[encoded data removed]",
      "text/plain": [
       "<Figure size 576x576 with 1 Axes>"
      ]
     },
     "metadata": {},
     "output_type": "display_data"
    }
   ],
   "source": [
    "data.groupby('payment_method').size().plot(kind='pie', \n",
    "                                   autopct='%1.1f%%', \n",
    "                                   figsize=(8, 8))\n",
    "plt.ylabel('')\n",
    "plt.title('Распределение способа оплаты');"
   ]
  },
  {
   "cell_type": "markdown",
   "id": "8886e5a7",
   "metadata": {},
   "source": [
    "**Результат:**\n",
    "\n",
    "Самый частый способ оплаты - электронный чек, остальные способы встречаются примерно с одинаковой частотой."
   ]
  },
  {
   "cell_type": "code",
   "execution_count": 46,
   "id": "8b6bb269",
   "metadata": {
    "scrolled": false
   },
   "outputs": [
    {
     "data": {
      "image/png": "[encoded data removed]",
      "text/plain": [
       "<Figure size 576x576 with 1 Axes>"
      ]
     },
     "metadata": {},
     "output_type": "display_data"
    }
   ],
   "source": [
    "data.groupby('gender').size().plot(kind='pie', \n",
    "                                   autopct='%1.1f%%', \n",
    "                                   figsize=(8, 8))\n",
    "plt.ylabel('')\n",
    "plt.title('Распределение пола клиентов');"
   ]
  },
  {
   "cell_type": "markdown",
   "id": "f49f92bf",
   "metadata": {},
   "source": [
    "**Результат:**\n",
    "\n",
    "Среди клиентов чуть чаще (всего на 1%) встречаются мужчины."
   ]
  },
  {
   "cell_type": "code",
   "execution_count": 47,
   "id": "602ebdee",
   "metadata": {},
   "outputs": [
    {
     "data": {
      "image/png": "[encoded data removed]",
      "text/plain": [
       "<Figure size 576x576 with 1 Axes>"
      ]
     },
     "metadata": {},
     "output_type": "display_data"
    }
   ],
   "source": [
    "data.groupby('internet_service').size().plot(kind='pie', \n",
    "                                   autopct='%1.1f%%', \n",
    "                                   figsize=(8, 8))\n",
    "plt.ylabel('')\n",
    "plt.title('Распределение технологии подключения интернета');"
   ]
  },
  {
   "cell_type": "markdown",
   "id": "67c0ad30",
   "metadata": {},
   "source": [
    "**Результат:**\n",
    "\n",
    "Чаще всего используется оптоволоконное подключение, реже - DSL-соединение. 21.7% пользователей не пользуются интернет услугами."
   ]
  },
  {
   "cell_type": "markdown",
   "id": "b1edec9b",
   "metadata": {},
   "source": [
    "Изучим корреляцию между признаками."
   ]
  },
  {
   "cell_type": "code",
   "execution_count": 48,
   "id": "502ecddf",
   "metadata": {},
   "outputs": [
    {
     "data": {
      "image/png": "[encoded data removed]",
      "text/plain": [
       "<Figure size 648x648 with 2 Axes>"
      ]
     },
     "metadata": {
      "needs_background": "light"
     },
     "output_type": "display_data"
    }
   ],
   "source": [
    "heat_data = data.phik_matrix(interval_cols=['monthly_charges', 'total_charges', 'duration'])\n",
    "plt.figure(figsize=(9, 9))\n",
    "sns.heatmap(heat_data,\n",
    "            annot=True, \n",
    "            fmt='.1g',\n",
    "            cmap='coolwarm',\n",
    "            center=0);"
   ]
  },
  {
   "cell_type": "markdown",
   "id": "902e78ce",
   "metadata": {},
   "source": [
    "**Результаты:**\n",
    "\n",
    "1. Сильная зависимость между ежемесячными и общими платежами и всеми услугами (интернет, стриминговые услуги и телефония), такая зависимость очевидна так как при подключении услуг ежемесячный платеж, а также сумма всех платежей, увеличиваются.\n",
    "\n",
    "2. Сильная зависимость между длительностью пользования и суммой платежей, чем дольше клиент пользуется услугами, тем больше денег он суммарно заплатит.\n",
    "\n",
    "3. Целевой признак имеет малую зависимость со следующими столбцами: `type`, `paperless_billing`, `gender`, `senior_citizen`, `dependents` и `internet_services`. С другими столбцами есть небольшая зависимость - до 0,4."
   ]
  },
  {
   "cell_type": "markdown",
   "id": "0ae3f4f7",
   "metadata": {},
   "source": [
    "**Разбиение данных на выборки**"
   ]
  },
  {
   "cell_type": "code",
   "execution_count": 49,
   "id": "944d386c",
   "metadata": {
    "scrolled": false
   },
   "outputs": [
    {
     "name": "stdout",
     "output_type": "stream",
     "text": [
      "Размеры и размерности выборок: (5282, 18) (1761, 18)\n"
     ]
    }
   ],
   "source": [
    "target = data['former']\n",
    "features = data.drop('former', axis=1)\n",
    "\n",
    "features_train, features_test, target_train, target_test = train_test_split(\n",
    "    features, target, test_size=0.25, random_state=161023, stratify=target)\n",
    "\n",
    "print('Размеры и размерности выборок:', features_train.shape, features_test.shape)"
   ]
  },
  {
   "cell_type": "markdown",
   "id": "b3ce26a4",
   "metadata": {},
   "source": [
    "**Кодирование и масштабирование данных**"
   ]
  },
  {
   "cell_type": "code",
   "execution_count": 50,
   "id": "c79b51f2",
   "metadata": {},
   "outputs": [
    {
     "data": {
      "text/html": [
       "<div>\n",
       "<style scoped>\n",
       "    .dataframe tbody tr th:only-of-type {\n",
       "        vertical-align: middle;\n",
       "    }\n",
       "\n",
       "    .dataframe tbody tr th {\n",
       "        vertical-align: top;\n",
       "    }\n",
       "\n",
       "    .dataframe thead th {\n",
       "        text-align: right;\n",
       "    }\n",
       "</style>\n",
       "<table border=\"1\" class=\"dataframe\">\n",
       "  <thead>\n",
       "    <tr style=\"text-align: right;\">\n",
       "      <th></th>\n",
       "      <th>type</th>\n",
       "      <th>paperless_billing</th>\n",
       "      <th>payment_method</th>\n",
       "      <th>monthly_charges</th>\n",
       "      <th>total_charges</th>\n",
       "      <th>former</th>\n",
       "      <th>duration</th>\n",
       "      <th>gender</th>\n",
       "      <th>senior_citizen</th>\n",
       "      <th>partner</th>\n",
       "      <th>dependents</th>\n",
       "      <th>internet_service</th>\n",
       "      <th>online_security</th>\n",
       "      <th>online_backup</th>\n",
       "      <th>device_protection</th>\n",
       "      <th>tech_support</th>\n",
       "      <th>streaming_tv</th>\n",
       "      <th>streaming_movies</th>\n",
       "      <th>multiple_lines</th>\n",
       "    </tr>\n",
       "  </thead>\n",
       "  <tbody>\n",
       "    <tr>\n",
       "      <th>0</th>\n",
       "      <td>Month-to-month</td>\n",
       "      <td>Yes</td>\n",
       "      <td>Electronic check</td>\n",
       "      <td>29.85</td>\n",
       "      <td>31.04</td>\n",
       "      <td>0</td>\n",
       "      <td>31</td>\n",
       "      <td>Female</td>\n",
       "      <td>0</td>\n",
       "      <td>Yes</td>\n",
       "      <td>No</td>\n",
       "      <td>DSL</td>\n",
       "      <td>No</td>\n",
       "      <td>Yes</td>\n",
       "      <td>No</td>\n",
       "      <td>No</td>\n",
       "      <td>No</td>\n",
       "      <td>No</td>\n",
       "      <td>NoService</td>\n",
       "    </tr>\n",
       "    <tr>\n",
       "      <th>1</th>\n",
       "      <td>One year</td>\n",
       "      <td>No</td>\n",
       "      <td>Mailed check</td>\n",
       "      <td>56.95</td>\n",
       "      <td>2071.84</td>\n",
       "      <td>0</td>\n",
       "      <td>1036</td>\n",
       "      <td>Male</td>\n",
       "      <td>0</td>\n",
       "      <td>No</td>\n",
       "      <td>No</td>\n",
       "      <td>DSL</td>\n",
       "      <td>Yes</td>\n",
       "      <td>No</td>\n",
       "      <td>Yes</td>\n",
       "      <td>No</td>\n",
       "      <td>No</td>\n",
       "      <td>No</td>\n",
       "      <td>No</td>\n",
       "    </tr>\n",
       "    <tr>\n",
       "      <th>2</th>\n",
       "      <td>Month-to-month</td>\n",
       "      <td>Yes</td>\n",
       "      <td>Mailed check</td>\n",
       "      <td>53.85</td>\n",
       "      <td>226.17</td>\n",
       "      <td>0</td>\n",
       "      <td>123</td>\n",
       "      <td>Male</td>\n",
       "      <td>0</td>\n",
       "      <td>No</td>\n",
       "      <td>No</td>\n",
       "      <td>DSL</td>\n",
       "      <td>Yes</td>\n",
       "      <td>Yes</td>\n",
       "      <td>No</td>\n",
       "      <td>No</td>\n",
       "      <td>No</td>\n",
       "      <td>No</td>\n",
       "      <td>No</td>\n",
       "    </tr>\n",
       "    <tr>\n",
       "      <th>3</th>\n",
       "      <td>One year</td>\n",
       "      <td>No</td>\n",
       "      <td>Bank transfer (automatic)</td>\n",
       "      <td>42.30</td>\n",
       "      <td>1960.60</td>\n",
       "      <td>0</td>\n",
       "      <td>1371</td>\n",
       "      <td>Male</td>\n",
       "      <td>0</td>\n",
       "      <td>No</td>\n",
       "      <td>No</td>\n",
       "      <td>DSL</td>\n",
       "      <td>Yes</td>\n",
       "      <td>No</td>\n",
       "      <td>Yes</td>\n",
       "      <td>Yes</td>\n",
       "      <td>No</td>\n",
       "      <td>No</td>\n",
       "      <td>NoService</td>\n",
       "    </tr>\n",
       "    <tr>\n",
       "      <th>4</th>\n",
       "      <td>Month-to-month</td>\n",
       "      <td>Yes</td>\n",
       "      <td>Electronic check</td>\n",
       "      <td>70.70</td>\n",
       "      <td>353.50</td>\n",
       "      <td>0</td>\n",
       "      <td>153</td>\n",
       "      <td>Female</td>\n",
       "      <td>0</td>\n",
       "      <td>No</td>\n",
       "      <td>No</td>\n",
       "      <td>Fiber optic</td>\n",
       "      <td>No</td>\n",
       "      <td>No</td>\n",
       "      <td>No</td>\n",
       "      <td>No</td>\n",
       "      <td>No</td>\n",
       "      <td>No</td>\n",
       "      <td>No</td>\n",
       "    </tr>\n",
       "  </tbody>\n",
       "</table>\n",
       "</div>"
      ],
      "text/plain": [
       "             type paperless_billing             payment_method  \\\n",
       "0  Month-to-month               Yes           Electronic check   \n",
       "1        One year                No               Mailed check   \n",
       "2  Month-to-month               Yes               Mailed check   \n",
       "3        One year                No  Bank transfer (automatic)   \n",
       "4  Month-to-month               Yes           Electronic check   \n",
       "\n",
       "   monthly_charges  total_charges  former  duration  gender  senior_citizen  \\\n",
       "0            29.85          31.04       0        31  Female               0   \n",
       "1            56.95        2071.84       0      1036    Male               0   \n",
       "2            53.85         226.17       0       123    Male               0   \n",
       "3            42.30        1960.60       0      1371    Male               0   \n",
       "4            70.70         353.50       0       153  Female               0   \n",
       "\n",
       "  partner dependents internet_service online_security online_backup  \\\n",
       "0     Yes         No              DSL              No           Yes   \n",
       "1      No         No              DSL             Yes            No   \n",
       "2      No         No              DSL             Yes           Yes   \n",
       "3      No         No              DSL             Yes            No   \n",
       "4      No         No      Fiber optic              No            No   \n",
       "\n",
       "  device_protection tech_support streaming_tv streaming_movies multiple_lines  \n",
       "0                No           No           No               No      NoService  \n",
       "1               Yes           No           No               No             No  \n",
       "2                No           No           No               No             No  \n",
       "3               Yes          Yes           No               No      NoService  \n",
       "4                No           No           No               No             No  "
      ]
     },
     "execution_count": 50,
     "metadata": {},
     "output_type": "execute_result"
    }
   ],
   "source": [
    "data.head()"
   ]
  },
  {
   "cell_type": "code",
   "execution_count": 51,
   "id": "9efe97e9",
   "metadata": {},
   "outputs": [],
   "source": [
    "categorical_columns = ['type', 'payment_method', 'gender', 'internet_service', \n",
    "                       'paperless_billing', 'partner', 'dependents', 'online_security', \n",
    "                       'online_backup', 'device_protection', 'tech_support', 'streaming_tv', \n",
    "                       'streaming_movies', 'multiple_lines']\n",
    "numerical_columns = ['monthly_charges', 'total_charges', 'duration']"
   ]
  },
  {
   "cell_type": "code",
   "execution_count": 52,
   "id": "35035412",
   "metadata": {},
   "outputs": [],
   "source": [
    "pd.options.mode.chained_assignment = None\n",
    "encoder = OrdinalEncoder(handle_unknown='use_encoded_value', unknown_value=-1)"
   ]
  },
  {
   "cell_type": "code",
   "execution_count": 53,
   "id": "bd36f8b9",
   "metadata": {
    "scrolled": false
   },
   "outputs": [
    {
     "data": {
      "text/html": [
       "<div>\n",
       "<style scoped>\n",
       "    .dataframe tbody tr th:only-of-type {\n",
       "        vertical-align: middle;\n",
       "    }\n",
       "\n",
       "    .dataframe tbody tr th {\n",
       "        vertical-align: top;\n",
       "    }\n",
       "\n",
       "    .dataframe thead th {\n",
       "        text-align: right;\n",
       "    }\n",
       "</style>\n",
       "<table border=\"1\" class=\"dataframe\">\n",
       "  <thead>\n",
       "    <tr style=\"text-align: right;\">\n",
       "      <th></th>\n",
       "      <th>type</th>\n",
       "      <th>paperless_billing</th>\n",
       "      <th>payment_method</th>\n",
       "      <th>monthly_charges</th>\n",
       "      <th>total_charges</th>\n",
       "      <th>duration</th>\n",
       "      <th>gender</th>\n",
       "      <th>senior_citizen</th>\n",
       "      <th>partner</th>\n",
       "      <th>dependents</th>\n",
       "      <th>internet_service</th>\n",
       "      <th>online_security</th>\n",
       "      <th>online_backup</th>\n",
       "      <th>device_protection</th>\n",
       "      <th>tech_support</th>\n",
       "      <th>streaming_tv</th>\n",
       "      <th>streaming_movies</th>\n",
       "      <th>multiple_lines</th>\n",
       "    </tr>\n",
       "  </thead>\n",
       "  <tbody>\n",
       "    <tr>\n",
       "      <th>4509</th>\n",
       "      <td>0.0</td>\n",
       "      <td>0.0</td>\n",
       "      <td>2.0</td>\n",
       "      <td>84.30</td>\n",
       "      <td>168.60</td>\n",
       "      <td>62</td>\n",
       "      <td>0.0</td>\n",
       "      <td>0</td>\n",
       "      <td>0.0</td>\n",
       "      <td>0.0</td>\n",
       "      <td>1.0</td>\n",
       "      <td>0.0</td>\n",
       "      <td>2.0</td>\n",
       "      <td>0.0</td>\n",
       "      <td>0.0</td>\n",
       "      <td>2.0</td>\n",
       "      <td>0.0</td>\n",
       "      <td>0.0</td>\n",
       "    </tr>\n",
       "    <tr>\n",
       "      <th>3585</th>\n",
       "      <td>1.0</td>\n",
       "      <td>0.0</td>\n",
       "      <td>3.0</td>\n",
       "      <td>90.15</td>\n",
       "      <td>3187.70</td>\n",
       "      <td>1036</td>\n",
       "      <td>1.0</td>\n",
       "      <td>1</td>\n",
       "      <td>1.0</td>\n",
       "      <td>0.0</td>\n",
       "      <td>1.0</td>\n",
       "      <td>2.0</td>\n",
       "      <td>0.0</td>\n",
       "      <td>0.0</td>\n",
       "      <td>2.0</td>\n",
       "      <td>2.0</td>\n",
       "      <td>0.0</td>\n",
       "      <td>0.0</td>\n",
       "    </tr>\n",
       "    <tr>\n",
       "      <th>6325</th>\n",
       "      <td>0.0</td>\n",
       "      <td>0.0</td>\n",
       "      <td>2.0</td>\n",
       "      <td>91.85</td>\n",
       "      <td>1745.15</td>\n",
       "      <td>580</td>\n",
       "      <td>0.0</td>\n",
       "      <td>0</td>\n",
       "      <td>1.0</td>\n",
       "      <td>1.0</td>\n",
       "      <td>1.0</td>\n",
       "      <td>2.0</td>\n",
       "      <td>0.0</td>\n",
       "      <td>0.0</td>\n",
       "      <td>2.0</td>\n",
       "      <td>2.0</td>\n",
       "      <td>0.0</td>\n",
       "      <td>0.0</td>\n",
       "    </tr>\n",
       "    <tr>\n",
       "      <th>6490</th>\n",
       "      <td>1.0</td>\n",
       "      <td>0.0</td>\n",
       "      <td>3.0</td>\n",
       "      <td>19.40</td>\n",
       "      <td>504.40</td>\n",
       "      <td>792</td>\n",
       "      <td>1.0</td>\n",
       "      <td>0</td>\n",
       "      <td>0.0</td>\n",
       "      <td>0.0</td>\n",
       "      <td>2.0</td>\n",
       "      <td>1.0</td>\n",
       "      <td>1.0</td>\n",
       "      <td>1.0</td>\n",
       "      <td>1.0</td>\n",
       "      <td>1.0</td>\n",
       "      <td>1.0</td>\n",
       "      <td>0.0</td>\n",
       "    </tr>\n",
       "    <tr>\n",
       "      <th>5712</th>\n",
       "      <td>0.0</td>\n",
       "      <td>1.0</td>\n",
       "      <td>0.0</td>\n",
       "      <td>20.30</td>\n",
       "      <td>466.90</td>\n",
       "      <td>702</td>\n",
       "      <td>0.0</td>\n",
       "      <td>0</td>\n",
       "      <td>0.0</td>\n",
       "      <td>0.0</td>\n",
       "      <td>2.0</td>\n",
       "      <td>1.0</td>\n",
       "      <td>1.0</td>\n",
       "      <td>1.0</td>\n",
       "      <td>1.0</td>\n",
       "      <td>1.0</td>\n",
       "      <td>1.0</td>\n",
       "      <td>0.0</td>\n",
       "    </tr>\n",
       "  </tbody>\n",
       "</table>\n",
       "</div>"
      ],
      "text/plain": [
       "      type  paperless_billing  payment_method  monthly_charges  total_charges  \\\n",
       "4509   0.0                0.0             2.0            84.30         168.60   \n",
       "3585   1.0                0.0             3.0            90.15        3187.70   \n",
       "6325   0.0                0.0             2.0            91.85        1745.15   \n",
       "6490   1.0                0.0             3.0            19.40         504.40   \n",
       "5712   0.0                1.0             0.0            20.30         466.90   \n",
       "\n",
       "      duration  gender  senior_citizen  partner  dependents  internet_service  \\\n",
       "4509        62     0.0               0      0.0         0.0               1.0   \n",
       "3585      1036     1.0               1      1.0         0.0               1.0   \n",
       "6325       580     0.0               0      1.0         1.0               1.0   \n",
       "6490       792     1.0               0      0.0         0.0               2.0   \n",
       "5712       702     0.0               0      0.0         0.0               2.0   \n",
       "\n",
       "      online_security  online_backup  device_protection  tech_support  \\\n",
       "4509              0.0            2.0                0.0           0.0   \n",
       "3585              2.0            0.0                0.0           2.0   \n",
       "6325              2.0            0.0                0.0           2.0   \n",
       "6490              1.0            1.0                1.0           1.0   \n",
       "5712              1.0            1.0                1.0           1.0   \n",
       "\n",
       "      streaming_tv  streaming_movies  multiple_lines  \n",
       "4509           2.0               0.0             0.0  \n",
       "3585           2.0               0.0             0.0  \n",
       "6325           2.0               0.0             0.0  \n",
       "6490           1.0               1.0             0.0  \n",
       "5712           1.0               1.0             0.0  "
      ]
     },
     "metadata": {},
     "output_type": "display_data"
    },
    {
     "data": {
      "text/html": [
       "<div>\n",
       "<style scoped>\n",
       "    .dataframe tbody tr th:only-of-type {\n",
       "        vertical-align: middle;\n",
       "    }\n",
       "\n",
       "    .dataframe tbody tr th {\n",
       "        vertical-align: top;\n",
       "    }\n",
       "\n",
       "    .dataframe thead th {\n",
       "        text-align: right;\n",
       "    }\n",
       "</style>\n",
       "<table border=\"1\" class=\"dataframe\">\n",
       "  <thead>\n",
       "    <tr style=\"text-align: right;\">\n",
       "      <th></th>\n",
       "      <th>type</th>\n",
       "      <th>paperless_billing</th>\n",
       "      <th>payment_method</th>\n",
       "      <th>monthly_charges</th>\n",
       "      <th>total_charges</th>\n",
       "      <th>duration</th>\n",
       "      <th>gender</th>\n",
       "      <th>senior_citizen</th>\n",
       "      <th>partner</th>\n",
       "      <th>dependents</th>\n",
       "      <th>internet_service</th>\n",
       "      <th>online_security</th>\n",
       "      <th>online_backup</th>\n",
       "      <th>device_protection</th>\n",
       "      <th>tech_support</th>\n",
       "      <th>streaming_tv</th>\n",
       "      <th>streaming_movies</th>\n",
       "      <th>multiple_lines</th>\n",
       "    </tr>\n",
       "  </thead>\n",
       "  <tbody>\n",
       "    <tr>\n",
       "      <th>5723</th>\n",
       "      <td>0.0</td>\n",
       "      <td>0.0</td>\n",
       "      <td>0.0</td>\n",
       "      <td>80.65</td>\n",
       "      <td>4724.48</td>\n",
       "      <td>1767</td>\n",
       "      <td>1.0</td>\n",
       "      <td>0</td>\n",
       "      <td>0.0</td>\n",
       "      <td>0.0</td>\n",
       "      <td>1.0</td>\n",
       "      <td>0.0</td>\n",
       "      <td>0.0</td>\n",
       "      <td>0.0</td>\n",
       "      <td>2.0</td>\n",
       "      <td>0.0</td>\n",
       "      <td>0.0</td>\n",
       "      <td>2.0</td>\n",
       "    </tr>\n",
       "    <tr>\n",
       "      <th>5869</th>\n",
       "      <td>1.0</td>\n",
       "      <td>0.0</td>\n",
       "      <td>2.0</td>\n",
       "      <td>94.40</td>\n",
       "      <td>4527.42</td>\n",
       "      <td>1340</td>\n",
       "      <td>0.0</td>\n",
       "      <td>0</td>\n",
       "      <td>1.0</td>\n",
       "      <td>1.0</td>\n",
       "      <td>1.0</td>\n",
       "      <td>0.0</td>\n",
       "      <td>2.0</td>\n",
       "      <td>2.0</td>\n",
       "      <td>0.0</td>\n",
       "      <td>0.0</td>\n",
       "      <td>2.0</td>\n",
       "      <td>2.0</td>\n",
       "    </tr>\n",
       "    <tr>\n",
       "      <th>6973</th>\n",
       "      <td>1.0</td>\n",
       "      <td>1.0</td>\n",
       "      <td>2.0</td>\n",
       "      <td>94.00</td>\n",
       "      <td>3188.48</td>\n",
       "      <td>973</td>\n",
       "      <td>0.0</td>\n",
       "      <td>1</td>\n",
       "      <td>1.0</td>\n",
       "      <td>0.0</td>\n",
       "      <td>1.0</td>\n",
       "      <td>0.0</td>\n",
       "      <td>2.0</td>\n",
       "      <td>2.0</td>\n",
       "      <td>2.0</td>\n",
       "      <td>2.0</td>\n",
       "      <td>0.0</td>\n",
       "      <td>0.0</td>\n",
       "    </tr>\n",
       "    <tr>\n",
       "      <th>3782</th>\n",
       "      <td>0.0</td>\n",
       "      <td>1.0</td>\n",
       "      <td>2.0</td>\n",
       "      <td>84.05</td>\n",
       "      <td>1008.60</td>\n",
       "      <td>365</td>\n",
       "      <td>0.0</td>\n",
       "      <td>0</td>\n",
       "      <td>0.0</td>\n",
       "      <td>1.0</td>\n",
       "      <td>1.0</td>\n",
       "      <td>0.0</td>\n",
       "      <td>0.0</td>\n",
       "      <td>0.0</td>\n",
       "      <td>0.0</td>\n",
       "      <td>2.0</td>\n",
       "      <td>0.0</td>\n",
       "      <td>2.0</td>\n",
       "    </tr>\n",
       "    <tr>\n",
       "      <th>3096</th>\n",
       "      <td>2.0</td>\n",
       "      <td>1.0</td>\n",
       "      <td>1.0</td>\n",
       "      <td>61.40</td>\n",
       "      <td>4402.99</td>\n",
       "      <td>2163</td>\n",
       "      <td>0.0</td>\n",
       "      <td>0</td>\n",
       "      <td>1.0</td>\n",
       "      <td>0.0</td>\n",
       "      <td>0.0</td>\n",
       "      <td>0.0</td>\n",
       "      <td>2.0</td>\n",
       "      <td>2.0</td>\n",
       "      <td>2.0</td>\n",
       "      <td>2.0</td>\n",
       "      <td>2.0</td>\n",
       "      <td>1.0</td>\n",
       "    </tr>\n",
       "  </tbody>\n",
       "</table>\n",
       "</div>"
      ],
      "text/plain": [
       "      type  paperless_billing  payment_method  monthly_charges  total_charges  \\\n",
       "5723   0.0                0.0             0.0            80.65        4724.48   \n",
       "5869   1.0                0.0             2.0            94.40        4527.42   \n",
       "6973   1.0                1.0             2.0            94.00        3188.48   \n",
       "3782   0.0                1.0             2.0            84.05        1008.60   \n",
       "3096   2.0                1.0             1.0            61.40        4402.99   \n",
       "\n",
       "      duration  gender  senior_citizen  partner  dependents  internet_service  \\\n",
       "5723      1767     1.0               0      0.0         0.0               1.0   \n",
       "5869      1340     0.0               0      1.0         1.0               1.0   \n",
       "6973       973     0.0               1      1.0         0.0               1.0   \n",
       "3782       365     0.0               0      0.0         1.0               1.0   \n",
       "3096      2163     0.0               0      1.0         0.0               0.0   \n",
       "\n",
       "      online_security  online_backup  device_protection  tech_support  \\\n",
       "5723              0.0            0.0                0.0           2.0   \n",
       "5869              0.0            2.0                2.0           0.0   \n",
       "6973              0.0            2.0                2.0           2.0   \n",
       "3782              0.0            0.0                0.0           0.0   \n",
       "3096              0.0            2.0                2.0           2.0   \n",
       "\n",
       "      streaming_tv  streaming_movies  multiple_lines  \n",
       "5723           0.0               0.0             2.0  \n",
       "5869           0.0               2.0             2.0  \n",
       "6973           2.0               0.0             0.0  \n",
       "3782           2.0               0.0             2.0  \n",
       "3096           2.0               2.0             1.0  "
      ]
     },
     "metadata": {},
     "output_type": "display_data"
    }
   ],
   "source": [
    "features_train[categorical_columns] = encoder.fit_transform(features_train[categorical_columns])\n",
    "features_test[categorical_columns] = encoder.transform(features_test[categorical_columns])\n",
    "\n",
    "display(features_train.head())\n",
    "display(features_test.head())"
   ]
  },
  {
   "cell_type": "code",
   "execution_count": 54,
   "id": "d79c3a40",
   "metadata": {},
   "outputs": [
    {
     "data": {
      "text/html": [
       "<div>\n",
       "<style scoped>\n",
       "    .dataframe tbody tr th:only-of-type {\n",
       "        vertical-align: middle;\n",
       "    }\n",
       "\n",
       "    .dataframe tbody tr th {\n",
       "        vertical-align: top;\n",
       "    }\n",
       "\n",
       "    .dataframe thead th {\n",
       "        text-align: right;\n",
       "    }\n",
       "</style>\n",
       "<table border=\"1\" class=\"dataframe\">\n",
       "  <thead>\n",
       "    <tr style=\"text-align: right;\">\n",
       "      <th></th>\n",
       "      <th>type</th>\n",
       "      <th>paperless_billing</th>\n",
       "      <th>payment_method</th>\n",
       "      <th>monthly_charges</th>\n",
       "      <th>total_charges</th>\n",
       "      <th>duration</th>\n",
       "      <th>gender</th>\n",
       "      <th>senior_citizen</th>\n",
       "      <th>partner</th>\n",
       "      <th>dependents</th>\n",
       "      <th>internet_service</th>\n",
       "      <th>online_security</th>\n",
       "      <th>online_backup</th>\n",
       "      <th>device_protection</th>\n",
       "      <th>tech_support</th>\n",
       "      <th>streaming_tv</th>\n",
       "      <th>streaming_movies</th>\n",
       "      <th>multiple_lines</th>\n",
       "    </tr>\n",
       "  </thead>\n",
       "  <tbody>\n",
       "    <tr>\n",
       "      <th>4509</th>\n",
       "      <td>0.0</td>\n",
       "      <td>0.0</td>\n",
       "      <td>2.0</td>\n",
       "      <td>0.646685</td>\n",
       "      <td>-0.921703</td>\n",
       "      <td>-1.226347</td>\n",
       "      <td>0.0</td>\n",
       "      <td>0</td>\n",
       "      <td>0.0</td>\n",
       "      <td>0.0</td>\n",
       "      <td>1.0</td>\n",
       "      <td>0.0</td>\n",
       "      <td>2.0</td>\n",
       "      <td>0.0</td>\n",
       "      <td>0.0</td>\n",
       "      <td>2.0</td>\n",
       "      <td>0.0</td>\n",
       "      <td>0.0</td>\n",
       "    </tr>\n",
       "    <tr>\n",
       "      <th>3585</th>\n",
       "      <td>1.0</td>\n",
       "      <td>0.0</td>\n",
       "      <td>3.0</td>\n",
       "      <td>0.841338</td>\n",
       "      <td>0.507067</td>\n",
       "      <td>0.201782</td>\n",
       "      <td>1.0</td>\n",
       "      <td>1</td>\n",
       "      <td>1.0</td>\n",
       "      <td>0.0</td>\n",
       "      <td>1.0</td>\n",
       "      <td>2.0</td>\n",
       "      <td>0.0</td>\n",
       "      <td>0.0</td>\n",
       "      <td>2.0</td>\n",
       "      <td>2.0</td>\n",
       "      <td>0.0</td>\n",
       "      <td>0.0</td>\n",
       "    </tr>\n",
       "    <tr>\n",
       "      <th>6325</th>\n",
       "      <td>0.0</td>\n",
       "      <td>0.0</td>\n",
       "      <td>2.0</td>\n",
       "      <td>0.897904</td>\n",
       "      <td>-0.175610</td>\n",
       "      <td>-0.466829</td>\n",
       "      <td>0.0</td>\n",
       "      <td>0</td>\n",
       "      <td>1.0</td>\n",
       "      <td>1.0</td>\n",
       "      <td>1.0</td>\n",
       "      <td>2.0</td>\n",
       "      <td>0.0</td>\n",
       "      <td>0.0</td>\n",
       "      <td>2.0</td>\n",
       "      <td>2.0</td>\n",
       "      <td>0.0</td>\n",
       "      <td>0.0</td>\n",
       "    </tr>\n",
       "    <tr>\n",
       "      <th>6490</th>\n",
       "      <td>1.0</td>\n",
       "      <td>0.0</td>\n",
       "      <td>3.0</td>\n",
       "      <td>-1.512797</td>\n",
       "      <td>-0.762787</td>\n",
       "      <td>-0.155984</td>\n",
       "      <td>1.0</td>\n",
       "      <td>0</td>\n",
       "      <td>0.0</td>\n",
       "      <td>0.0</td>\n",
       "      <td>2.0</td>\n",
       "      <td>1.0</td>\n",
       "      <td>1.0</td>\n",
       "      <td>1.0</td>\n",
       "      <td>1.0</td>\n",
       "      <td>1.0</td>\n",
       "      <td>1.0</td>\n",
       "      <td>0.0</td>\n",
       "    </tr>\n",
       "    <tr>\n",
       "      <th>5712</th>\n",
       "      <td>0.0</td>\n",
       "      <td>1.0</td>\n",
       "      <td>0.0</td>\n",
       "      <td>-1.482851</td>\n",
       "      <td>-0.780534</td>\n",
       "      <td>-0.287946</td>\n",
       "      <td>0.0</td>\n",
       "      <td>0</td>\n",
       "      <td>0.0</td>\n",
       "      <td>0.0</td>\n",
       "      <td>2.0</td>\n",
       "      <td>1.0</td>\n",
       "      <td>1.0</td>\n",
       "      <td>1.0</td>\n",
       "      <td>1.0</td>\n",
       "      <td>1.0</td>\n",
       "      <td>1.0</td>\n",
       "      <td>0.0</td>\n",
       "    </tr>\n",
       "  </tbody>\n",
       "</table>\n",
       "</div>"
      ],
      "text/plain": [
       "      type  paperless_billing  payment_method  monthly_charges  total_charges  \\\n",
       "4509   0.0                0.0             2.0         0.646685      -0.921703   \n",
       "3585   1.0                0.0             3.0         0.841338       0.507067   \n",
       "6325   0.0                0.0             2.0         0.897904      -0.175610   \n",
       "6490   1.0                0.0             3.0        -1.512797      -0.762787   \n",
       "5712   0.0                1.0             0.0        -1.482851      -0.780534   \n",
       "\n",
       "      duration  gender  senior_citizen  partner  dependents  internet_service  \\\n",
       "4509 -1.226347     0.0               0      0.0         0.0               1.0   \n",
       "3585  0.201782     1.0               1      1.0         0.0               1.0   \n",
       "6325 -0.466829     0.0               0      1.0         1.0               1.0   \n",
       "6490 -0.155984     1.0               0      0.0         0.0               2.0   \n",
       "5712 -0.287946     0.0               0      0.0         0.0               2.0   \n",
       "\n",
       "      online_security  online_backup  device_protection  tech_support  \\\n",
       "4509              0.0            2.0                0.0           0.0   \n",
       "3585              2.0            0.0                0.0           2.0   \n",
       "6325              2.0            0.0                0.0           2.0   \n",
       "6490              1.0            1.0                1.0           1.0   \n",
       "5712              1.0            1.0                1.0           1.0   \n",
       "\n",
       "      streaming_tv  streaming_movies  multiple_lines  \n",
       "4509           2.0               0.0             0.0  \n",
       "3585           2.0               0.0             0.0  \n",
       "6325           2.0               0.0             0.0  \n",
       "6490           1.0               1.0             0.0  \n",
       "5712           1.0               1.0             0.0  "
      ]
     },
     "metadata": {},
     "output_type": "display_data"
    },
    {
     "data": {
      "text/html": [
       "<div>\n",
       "<style scoped>\n",
       "    .dataframe tbody tr th:only-of-type {\n",
       "        vertical-align: middle;\n",
       "    }\n",
       "\n",
       "    .dataframe tbody tr th {\n",
       "        vertical-align: top;\n",
       "    }\n",
       "\n",
       "    .dataframe thead th {\n",
       "        text-align: right;\n",
       "    }\n",
       "</style>\n",
       "<table border=\"1\" class=\"dataframe\">\n",
       "  <thead>\n",
       "    <tr style=\"text-align: right;\">\n",
       "      <th></th>\n",
       "      <th>type</th>\n",
       "      <th>paperless_billing</th>\n",
       "      <th>payment_method</th>\n",
       "      <th>monthly_charges</th>\n",
       "      <th>total_charges</th>\n",
       "      <th>duration</th>\n",
       "      <th>gender</th>\n",
       "      <th>senior_citizen</th>\n",
       "      <th>partner</th>\n",
       "      <th>dependents</th>\n",
       "      <th>internet_service</th>\n",
       "      <th>online_security</th>\n",
       "      <th>online_backup</th>\n",
       "      <th>device_protection</th>\n",
       "      <th>tech_support</th>\n",
       "      <th>streaming_tv</th>\n",
       "      <th>streaming_movies</th>\n",
       "      <th>multiple_lines</th>\n",
       "    </tr>\n",
       "  </thead>\n",
       "  <tbody>\n",
       "    <tr>\n",
       "      <th>5723</th>\n",
       "      <td>0.0</td>\n",
       "      <td>0.0</td>\n",
       "      <td>0.0</td>\n",
       "      <td>0.525235</td>\n",
       "      <td>1.234339</td>\n",
       "      <td>1.273612</td>\n",
       "      <td>1.0</td>\n",
       "      <td>0</td>\n",
       "      <td>0.0</td>\n",
       "      <td>0.0</td>\n",
       "      <td>1.0</td>\n",
       "      <td>0.0</td>\n",
       "      <td>0.0</td>\n",
       "      <td>0.0</td>\n",
       "      <td>2.0</td>\n",
       "      <td>0.0</td>\n",
       "      <td>0.0</td>\n",
       "      <td>2.0</td>\n",
       "    </tr>\n",
       "    <tr>\n",
       "      <th>5869</th>\n",
       "      <td>1.0</td>\n",
       "      <td>0.0</td>\n",
       "      <td>2.0</td>\n",
       "      <td>0.982752</td>\n",
       "      <td>1.141081</td>\n",
       "      <td>0.647522</td>\n",
       "      <td>0.0</td>\n",
       "      <td>0</td>\n",
       "      <td>1.0</td>\n",
       "      <td>1.0</td>\n",
       "      <td>1.0</td>\n",
       "      <td>0.0</td>\n",
       "      <td>2.0</td>\n",
       "      <td>2.0</td>\n",
       "      <td>0.0</td>\n",
       "      <td>0.0</td>\n",
       "      <td>2.0</td>\n",
       "      <td>2.0</td>\n",
       "    </tr>\n",
       "    <tr>\n",
       "      <th>6973</th>\n",
       "      <td>1.0</td>\n",
       "      <td>1.0</td>\n",
       "      <td>2.0</td>\n",
       "      <td>0.969443</td>\n",
       "      <td>0.507436</td>\n",
       "      <td>0.109408</td>\n",
       "      <td>0.0</td>\n",
       "      <td>1</td>\n",
       "      <td>1.0</td>\n",
       "      <td>0.0</td>\n",
       "      <td>1.0</td>\n",
       "      <td>0.0</td>\n",
       "      <td>2.0</td>\n",
       "      <td>2.0</td>\n",
       "      <td>2.0</td>\n",
       "      <td>2.0</td>\n",
       "      <td>0.0</td>\n",
       "      <td>0.0</td>\n",
       "    </tr>\n",
       "    <tr>\n",
       "      <th>3782</th>\n",
       "      <td>0.0</td>\n",
       "      <td>1.0</td>\n",
       "      <td>2.0</td>\n",
       "      <td>0.638367</td>\n",
       "      <td>-0.524178</td>\n",
       "      <td>-0.782073</td>\n",
       "      <td>0.0</td>\n",
       "      <td>0</td>\n",
       "      <td>0.0</td>\n",
       "      <td>1.0</td>\n",
       "      <td>1.0</td>\n",
       "      <td>0.0</td>\n",
       "      <td>0.0</td>\n",
       "      <td>0.0</td>\n",
       "      <td>0.0</td>\n",
       "      <td>2.0</td>\n",
       "      <td>0.0</td>\n",
       "      <td>2.0</td>\n",
       "    </tr>\n",
       "    <tr>\n",
       "      <th>3096</th>\n",
       "      <td>2.0</td>\n",
       "      <td>1.0</td>\n",
       "      <td>1.0</td>\n",
       "      <td>-0.115289</td>\n",
       "      <td>1.082196</td>\n",
       "      <td>1.854247</td>\n",
       "      <td>0.0</td>\n",
       "      <td>0</td>\n",
       "      <td>1.0</td>\n",
       "      <td>0.0</td>\n",
       "      <td>0.0</td>\n",
       "      <td>0.0</td>\n",
       "      <td>2.0</td>\n",
       "      <td>2.0</td>\n",
       "      <td>2.0</td>\n",
       "      <td>2.0</td>\n",
       "      <td>2.0</td>\n",
       "      <td>1.0</td>\n",
       "    </tr>\n",
       "  </tbody>\n",
       "</table>\n",
       "</div>"
      ],
      "text/plain": [
       "      type  paperless_billing  payment_method  monthly_charges  total_charges  \\\n",
       "5723   0.0                0.0             0.0         0.525235       1.234339   \n",
       "5869   1.0                0.0             2.0         0.982752       1.141081   \n",
       "6973   1.0                1.0             2.0         0.969443       0.507436   \n",
       "3782   0.0                1.0             2.0         0.638367      -0.524178   \n",
       "3096   2.0                1.0             1.0        -0.115289       1.082196   \n",
       "\n",
       "      duration  gender  senior_citizen  partner  dependents  internet_service  \\\n",
       "5723  1.273612     1.0               0      0.0         0.0               1.0   \n",
       "5869  0.647522     0.0               0      1.0         1.0               1.0   \n",
       "6973  0.109408     0.0               1      1.0         0.0               1.0   \n",
       "3782 -0.782073     0.0               0      0.0         1.0               1.0   \n",
       "3096  1.854247     0.0               0      1.0         0.0               0.0   \n",
       "\n",
       "      online_security  online_backup  device_protection  tech_support  \\\n",
       "5723              0.0            0.0                0.0           2.0   \n",
       "5869              0.0            2.0                2.0           0.0   \n",
       "6973              0.0            2.0                2.0           2.0   \n",
       "3782              0.0            0.0                0.0           0.0   \n",
       "3096              0.0            2.0                2.0           2.0   \n",
       "\n",
       "      streaming_tv  streaming_movies  multiple_lines  \n",
       "5723           0.0               0.0             2.0  \n",
       "5869           0.0               2.0             2.0  \n",
       "6973           2.0               0.0             0.0  \n",
       "3782           2.0               0.0             2.0  \n",
       "3096           2.0               2.0             1.0  "
      ]
     },
     "metadata": {},
     "output_type": "display_data"
    }
   ],
   "source": [
    "scaler = StandardScaler()\n",
    "\n",
    "features_train[numerical_columns] = scaler.fit_transform(features_train[numerical_columns])\n",
    "features_test[numerical_columns] = scaler.transform(features_test[numerical_columns])\n",
    "\n",
    "display(features_train.head())\n",
    "display(features_test.head())"
   ]
  },
  {
   "cell_type": "markdown",
   "id": "a6a24956",
   "metadata": {},
   "source": [
    "### Вывод по предобработке данных\n",
    "\n",
    "1. Названия столбцов приведены к snake case.\n",
    "\n",
    "2. Заполнены пропуски в данных.\n",
    "\n",
    "3. Удалены нерелевантные столбцы.\n",
    "\n",
    "4. Изучено распределение признаков, целевой признак несбалансирован, что необходимо учесть.\n",
    "\n",
    "5. Изучена корреляция между признаками."
   ]
  },
  {
   "cell_type": "markdown",
   "id": "cc32f008",
   "metadata": {},
   "source": [
    "## Обучение моделей"
   ]
  },
  {
   "cell_type": "markdown",
   "id": "40463a60",
   "metadata": {},
   "source": [
    "**Дерево решений**"
   ]
  },
  {
   "cell_type": "code",
   "execution_count": 55,
   "id": "d41bb649",
   "metadata": {
    "scrolled": false
   },
   "outputs": [
    {
     "name": "stdout",
     "output_type": "stream",
     "text": [
      "Лучший ROC-AUC на кросс-валидации: 0.7742655480013145\n",
      "Лучшие параметры модели: {'max_depth': 6, 'max_features': 6, 'min_samples_leaf': 4}\n",
      "CPU times: user 8.9 s, sys: 26 ms, total: 8.92 s\n",
      "Wall time: 8.94 s\n"
     ]
    }
   ],
   "source": [
    "%%time\n",
    "\n",
    "params = {'max_depth': [None] + [i for i in range(1, 8)],\n",
    "          'min_samples_leaf' : range (1,6),\n",
    "          'max_features' : range(1,7)}\n",
    "\n",
    "model = DecisionTreeClassifier(random_state=161023)\n",
    "\n",
    "start = time()\n",
    "\n",
    "grid = GridSearchCV(model, cv=5, scoring='roc_auc', param_grid=params)\n",
    "grid.fit(features_train, target_train)\n",
    "\n",
    "end = time()\n",
    "\n",
    "dt_auc_roc = grid.best_score_\n",
    "dt_time = (end-start) / 60\n",
    "print('Лучший ROC-AUC на кросс-валидации:', grid.best_score_)\n",
    "print('Лучшие параметры модели:', grid.best_params_)"
   ]
  },
  {
   "cell_type": "markdown",
   "id": "d7ec57dd",
   "metadata": {},
   "source": [
    "**Случайный лес**"
   ]
  },
  {
   "cell_type": "code",
   "execution_count": 56,
   "id": "b5782ef5",
   "metadata": {
    "scrolled": true
   },
   "outputs": [
    {
     "name": "stdout",
     "output_type": "stream",
     "text": [
      "Fitting 5 folds for each of 36 candidates, totalling 180 fits\n",
      "Лучший ROC-AUC на кросс-валидации: 0.8253878352610065\n",
      "Лучшие параметры модели: {'criterion': 'gini', 'max_depth': 6, 'n_estimators': 500}\n",
      "CPU times: user 1min 58s, sys: 677 ms, total: 1min 59s\n",
      "Wall time: 1min 59s\n"
     ]
    }
   ],
   "source": [
    "%%time\n",
    "\n",
    "params = {'max_depth': [None] + [i for i in range(2, 7)], \n",
    "          'n_estimators': [50, 100, 500],\n",
    "          'criterion': ['gini', 'entropy']}\n",
    "\n",
    "model = RandomForestClassifier(random_state=161023)\n",
    "\n",
    "start = time()\n",
    "\n",
    "grid = GridSearchCV(model, cv=5, scoring='roc_auc', param_grid=params, verbose=1)\n",
    "grid.fit(features_train, target_train)\n",
    "\n",
    "end = time()\n",
    "\n",
    "rf_auc_roc = grid.best_score_\n",
    "rf_time = (end-start) / 60\n",
    "print('Лучший ROC-AUC на кросс-валидации:', grid.best_score_)\n",
    "print('Лучшие параметры модели:', grid.best_params_)"
   ]
  },
  {
   "cell_type": "markdown",
   "id": "f3091e2f",
   "metadata": {},
   "source": [
    "**CatBoostClassifier**"
   ]
  },
  {
   "cell_type": "code",
   "execution_count": 57,
   "id": "99488ce6",
   "metadata": {},
   "outputs": [
    {
     "name": "stdout",
     "output_type": "stream",
     "text": [
      "Лучший ROC-AUC на тренировочной выборке: 0.9224794291005706\n",
      "Лучшие параметры модели: {'learning_rate': 0.1, 'max_depth': 2, 'n_estimators': 2000}\n",
      "CPU times: user 4min 2s, sys: 18.5 s, total: 4min 21s\n",
      "Wall time: 7min 10s\n"
     ]
    }
   ],
   "source": [
    "%%time\n",
    "\n",
    "params = {'max_depth': [None, 1, 2, 3], \n",
    "          'n_estimators': [500, 1000, 2000],\n",
    "          'learning_rate': [0.1, 0.5, 0.8]}\n",
    "\n",
    "model = CatBoostClassifier(random_state=161023, eval_metric='AUC', loss_function='Logloss', silent=True)\n",
    "\n",
    "start = time()\n",
    "\n",
    "grid = GridSearchCV(model, cv=5, scoring='roc_auc', param_grid=params)\n",
    "grid.fit(features_train, target_train)\n",
    "\n",
    "end = time()\n",
    "\n",
    "cb_auc_roc = grid.best_score_\n",
    "cb_time = (end-start) / 60\n",
    "print('Лучший ROC-AUC на тренировочной выборке:', grid.best_score_)\n",
    "print('Лучшие параметры модели:', grid.best_params_)"
   ]
  },
  {
   "cell_type": "code",
   "execution_count": 58,
   "id": "8fc22015",
   "metadata": {},
   "outputs": [
    {
     "data": {
      "text/html": [
       "<div>\n",
       "<style scoped>\n",
       "    .dataframe tbody tr th:only-of-type {\n",
       "        vertical-align: middle;\n",
       "    }\n",
       "\n",
       "    .dataframe tbody tr th {\n",
       "        vertical-align: top;\n",
       "    }\n",
       "\n",
       "    .dataframe thead th {\n",
       "        text-align: right;\n",
       "    }\n",
       "</style>\n",
       "<table border=\"1\" class=\"dataframe\">\n",
       "  <thead>\n",
       "    <tr style=\"text-align: right;\">\n",
       "      <th></th>\n",
       "      <th>Модель</th>\n",
       "      <th>Результат ROC-AUC</th>\n",
       "      <th>Время поиска лучших параметров (min)</th>\n",
       "    </tr>\n",
       "  </thead>\n",
       "  <tbody>\n",
       "    <tr>\n",
       "      <th>0</th>\n",
       "      <td>DecisionTreeClassifier</td>\n",
       "      <td>0.774266</td>\n",
       "      <td>0.15</td>\n",
       "    </tr>\n",
       "    <tr>\n",
       "      <th>1</th>\n",
       "      <td>RandomForestClassifier</td>\n",
       "      <td>0.825388</td>\n",
       "      <td>2.0</td>\n",
       "    </tr>\n",
       "    <tr>\n",
       "      <th>2</th>\n",
       "      <td>CatBoostClassifier</td>\n",
       "      <td>0.922479</td>\n",
       "      <td>7.2</td>\n",
       "    </tr>\n",
       "  </tbody>\n",
       "</table>\n",
       "</div>"
      ],
      "text/plain": [
       "                   Модель  Результат ROC-AUC  \\\n",
       "0  DecisionTreeClassifier           0.774266   \n",
       "1  RandomForestClassifier           0.825388   \n",
       "2      CatBoostClassifier           0.922479   \n",
       "\n",
       "  Время поиска лучших параметров (min)  \n",
       "0                                 0.15  \n",
       "1                                  2.0  \n",
       "2                                  7.2  "
      ]
     },
     "execution_count": 58,
     "metadata": {},
     "output_type": "execute_result"
    }
   ],
   "source": [
    "pd.DataFrame({'Модель': ['DecisionTreeClassifier','RandomForestClassifier', 'CatBoostClassifier'],\n",
    "              'Результат ROC-AUC':[dt_auc_roc, rf_auc_roc, cb_auc_roc],\n",
    "              'Время поиска лучших параметров (min)':[f'{dt_time:0.2}', f'{rf_time:0.1f}', f'{cb_time:0.1f}']})"
   ]
  },
  {
   "cell_type": "markdown",
   "id": "08bf31e1",
   "metadata": {},
   "source": [
    "**Лучшая модель**\n",
    "\n",
    "Модель с лучшим показателем на тестовой выборке - CatBoostClassifier, ее необходимо проверить на тестовой выборке."
   ]
  },
  {
   "cell_type": "markdown",
   "id": "0f909fa9",
   "metadata": {},
   "source": [
    "### Тестирование модели"
   ]
  },
  {
   "cell_type": "code",
   "execution_count": 59,
   "id": "b477fba6",
   "metadata": {
    "scrolled": true
   },
   "outputs": [
    {
     "data": {
      "text/plain": [
       "<catboost.core.CatBoostClassifier at 0x7fa923b93880>"
      ]
     },
     "execution_count": 59,
     "metadata": {},
     "output_type": "execute_result"
    }
   ],
   "source": [
    "model = grid.best_estimator_\n",
    "model.fit(features_train, target_train)"
   ]
  },
  {
   "cell_type": "code",
   "execution_count": 60,
   "id": "236b9f62",
   "metadata": {
    "scrolled": true
   },
   "outputs": [
    {
     "name": "stdout",
     "output_type": "stream",
     "text": [
      "AUC-ROC модели Catboost на тестовой выборке: 0.936\n",
      "Значение Accuracy на тестовой выборке: 0.944\n"
     ]
    }
   ],
   "source": [
    "predictions = model.predict(features_test)\n",
    "probabilities_test = model.predict_proba(features_test)\n",
    "probabilities_one_test = probabilities_test[:, 1]\n",
    "fpr, tpr, thresholds = roc_curve(target_test, probabilities_one_test)\n",
    "\n",
    "auc_roc = roc_auc_score(target_test, probabilities_one_test)\n",
    "accuracy = accuracy_score(target_test, predictions)\n",
    "print(f'AUC-ROC модели Catboost на тестовой выборке: {auc_roc:0.3}')\n",
    "print(f'Значение Accuracy на тестовой выборке: {accuracy:0.3}')"
   ]
  },
  {
   "cell_type": "markdown",
   "id": "fb1afaab",
   "metadata": {},
   "source": [
    "**Результат:**\n",
    "\n",
    "Лучшая модель дала следующие результаты на тестовой выборке: AUC-ROC = 0.939, Accuracy = 0.945. Метрика Accuracy отражает общую точность модели, то есть в данном случае означает, что наша модель на тестовой выборке сделала 94,5% правильных предсказаний. "
   ]
  },
  {
   "cell_type": "code",
   "execution_count": 61,
   "id": "9385d95d",
   "metadata": {
    "scrolled": false
   },
   "outputs": [
    {
     "data": {
      "image/png": "[encoded data removed]",
      "text/plain": [
       "<Figure size 864x648 with 1 Axes>"
      ]
     },
     "metadata": {
      "needs_background": "light"
     },
     "output_type": "display_data"
    }
   ],
   "source": [
    "plt.figure(figsize=[12,9])\n",
    "\n",
    "plt.plot([0, 1], [0, 1], linestyle='--', label='Рандомная модель')\n",
    "plt.plot(fpr, tpr, label='Модель Catboost')\n",
    "\n",
    "plt.xlim([0,1])\n",
    "plt.ylim([0,1])\n",
    "\n",
    "plt.title('ROC-кривая', fontsize=16)\n",
    "plt.xlabel('Ложноположительный показатель', fontsize=16)\n",
    "plt.ylabel('Истинноположительный показатель', fontsize=16)\n",
    "\n",
    "plt.legend(loc='lower right', fontsize=16)\n",
    "\n",
    "plt.show()"
   ]
  },
  {
   "cell_type": "markdown",
   "id": "31bb6dd1",
   "metadata": {},
   "source": [
    "Рассмотрим важность признаков"
   ]
  },
  {
   "cell_type": "code",
   "execution_count": 62,
   "id": "feebcc24",
   "metadata": {
    "scrolled": false
   },
   "outputs": [
    {
     "data": {
      "text/html": [
       "<div>\n",
       "<style scoped>\n",
       "    .dataframe tbody tr th:only-of-type {\n",
       "        vertical-align: middle;\n",
       "    }\n",
       "\n",
       "    .dataframe tbody tr th {\n",
       "        vertical-align: top;\n",
       "    }\n",
       "\n",
       "    .dataframe thead th {\n",
       "        text-align: right;\n",
       "    }\n",
       "</style>\n",
       "<table border=\"1\" class=\"dataframe\">\n",
       "  <thead>\n",
       "    <tr style=\"text-align: right;\">\n",
       "      <th></th>\n",
       "      <th>Признаки</th>\n",
       "      <th>Доля в процентах</th>\n",
       "    </tr>\n",
       "  </thead>\n",
       "  <tbody>\n",
       "    <tr>\n",
       "      <th>0</th>\n",
       "      <td>duration</td>\n",
       "      <td>68.9</td>\n",
       "    </tr>\n",
       "    <tr>\n",
       "      <th>1</th>\n",
       "      <td>total_charges</td>\n",
       "      <td>8.9</td>\n",
       "    </tr>\n",
       "    <tr>\n",
       "      <th>2</th>\n",
       "      <td>monthly_charges</td>\n",
       "      <td>7.7</td>\n",
       "    </tr>\n",
       "    <tr>\n",
       "      <th>3</th>\n",
       "      <td>type</td>\n",
       "      <td>4.2</td>\n",
       "    </tr>\n",
       "    <tr>\n",
       "      <th>4</th>\n",
       "      <td>multiple_lines</td>\n",
       "      <td>2.1</td>\n",
       "    </tr>\n",
       "    <tr>\n",
       "      <th>5</th>\n",
       "      <td>partner</td>\n",
       "      <td>1.9</td>\n",
       "    </tr>\n",
       "    <tr>\n",
       "      <th>6</th>\n",
       "      <td>payment_method</td>\n",
       "      <td>1.5</td>\n",
       "    </tr>\n",
       "    <tr>\n",
       "      <th>7</th>\n",
       "      <td>online_backup</td>\n",
       "      <td>1.0</td>\n",
       "    </tr>\n",
       "    <tr>\n",
       "      <th>8</th>\n",
       "      <td>internet_service</td>\n",
       "      <td>0.7</td>\n",
       "    </tr>\n",
       "    <tr>\n",
       "      <th>9</th>\n",
       "      <td>device_protection</td>\n",
       "      <td>0.6</td>\n",
       "    </tr>\n",
       "    <tr>\n",
       "      <th>10</th>\n",
       "      <td>streaming_movies</td>\n",
       "      <td>0.6</td>\n",
       "    </tr>\n",
       "    <tr>\n",
       "      <th>11</th>\n",
       "      <td>dependents</td>\n",
       "      <td>0.5</td>\n",
       "    </tr>\n",
       "    <tr>\n",
       "      <th>12</th>\n",
       "      <td>streaming_tv</td>\n",
       "      <td>0.4</td>\n",
       "    </tr>\n",
       "    <tr>\n",
       "      <th>13</th>\n",
       "      <td>paperless_billing</td>\n",
       "      <td>0.3</td>\n",
       "    </tr>\n",
       "    <tr>\n",
       "      <th>14</th>\n",
       "      <td>online_security</td>\n",
       "      <td>0.3</td>\n",
       "    </tr>\n",
       "    <tr>\n",
       "      <th>15</th>\n",
       "      <td>tech_support</td>\n",
       "      <td>0.3</td>\n",
       "    </tr>\n",
       "    <tr>\n",
       "      <th>16</th>\n",
       "      <td>senior_citizen</td>\n",
       "      <td>0.2</td>\n",
       "    </tr>\n",
       "    <tr>\n",
       "      <th>17</th>\n",
       "      <td>gender</td>\n",
       "      <td>0.0</td>\n",
       "    </tr>\n",
       "  </tbody>\n",
       "</table>\n",
       "</div>"
      ],
      "text/plain": [
       "             Признаки  Доля в процентах\n",
       "0            duration              68.9\n",
       "1       total_charges               8.9\n",
       "2     monthly_charges               7.7\n",
       "3                type               4.2\n",
       "4      multiple_lines               2.1\n",
       "5             partner               1.9\n",
       "6      payment_method               1.5\n",
       "7       online_backup               1.0\n",
       "8    internet_service               0.7\n",
       "9   device_protection               0.6\n",
       "10   streaming_movies               0.6\n",
       "11         dependents               0.5\n",
       "12       streaming_tv               0.4\n",
       "13  paperless_billing               0.3\n",
       "14    online_security               0.3\n",
       "15       tech_support               0.3\n",
       "16     senior_citizen               0.2\n",
       "17             gender               0.0"
      ]
     },
     "execution_count": 62,
     "metadata": {},
     "output_type": "execute_result"
    }
   ],
   "source": [
    "features_importance = (\n",
    "    pd.DataFrame(data = {'Признаки': features_train.columns, \n",
    "                         'Доля в процентах': np.round(model.feature_importances_, decimals=1)})\n",
    ")\n",
    "features_importance.sort_values('Доля в процентах', ascending=False).reset_index(drop=True)"
   ]
  },
  {
   "cell_type": "code",
   "execution_count": 63,
   "id": "827743aa",
   "metadata": {},
   "outputs": [
    {
     "data": {
      "image/png": "[encoded data removed]",
      "text/plain": [
       "<Figure size 720x360 with 1 Axes>"
      ]
     },
     "metadata": {
      "needs_background": "light"
     },
     "output_type": "display_data"
    }
   ],
   "source": [
    "features_importance.index=features_importance['Признаки']\n",
    "(features_importance.sort_values(by='Доля в процентах', ascending=False)\n",
    "                    .plot(kind='bar',\n",
    "                          title='Features Importance',\n",
    "                          ylabel='Доля в процентах',\n",
    "                          xlabel='Признаки',\n",
    "                          figsize=(10, 5)));"
   ]
  },
  {
   "cell_type": "markdown",
   "id": "a2930e10",
   "metadata": {},
   "source": [
    "Наиболее важный параметр при предсказании - длительность пользования услугами, чуть менее важные параметры - месячный и суммарный платежи."
   ]
  },
  {
   "cell_type": "markdown",
   "id": "f624a221",
   "metadata": {},
   "source": [
    "Построим матрицу ошибок."
   ]
  },
  {
   "cell_type": "code",
   "execution_count": 64,
   "id": "573ea3ad",
   "metadata": {
    "scrolled": false
   },
   "outputs": [
    {
     "data": {
      "image/png": "[encoded data removed]",
      "text/plain": [
       "<Figure size 720x720 with 2 Axes>"
      ]
     },
     "metadata": {
      "needs_background": "light"
     },
     "output_type": "display_data"
    }
   ],
   "source": [
    "plt.figure(figsize=(10, 10))\n",
    "sns.heatmap(confusion_matrix(target_test, predictions), annot=True, fmt='3.0f', cmap= 'coolwarm')\n",
    "plt.title('Матрица ошибок', y=1.05, size=15)\n",
    "plt.xlabel('Реальные значения', fontsize=16)\n",
    "plt.ylabel('Предсказанные значения', fontsize=16)\n",
    "plt.show()"
   ]
  },
  {
   "cell_type": "markdown",
   "id": "65f82319",
   "metadata": {},
   "source": [
    "**Результат:**\n",
    "\n",
    "Матрица ошибок отражает 4 метрики:\n",
    "1. True Positive (истинно-положительно), правая нижняя метрика на графике - модель предсказала, что клиент разорвет контракт и действительно, так и произошло. \n",
    "2. True Negative (истинно-отрицательно), левая верхняя метрика на графике - модель предсказала, что клиент не разорвет контракт, что соответствует действительности\n",
    "3. False Positive (ложно-положительно), левая нижняя метрика на графике - модель предсказала, что клиент разорвет контракт, но этого не случилось.\n",
    "4. False Negative (ложно-отрицательно), правая верхняя метрика на графике - модель предсказала, что клиент останется, но на самом деле, он разорвал контракт.\n",
    "\n",
    "Чаще всего встречается метрика истинно-отрицательная, что логично, ведь большая часть клиентов не разрывает контракт, модель в большинстве случаев правильно предсказывает, что клиент не собирается разорвать контракт.\n",
    "\n",
    "Значительно реже встречается истинно-положительная метрика, это обосновывается тем, что малая часть клиент разрывает контракт, такие случаи модель тоже хорошо определяет и чаще всего определяет правильно, что клиент разорвет контракт.\n",
    "\n",
    "Значения ложно-положительной и ложно-отрицательной метрик встречается совсем редко, это означает, что модель с предсказаниями справляется. К примеру из всех случаев, когда клиент разрывал контракт, модель правильно предсказывала 185 раз и неправильно всего 9 раз. А из тех случаев, когда клиент не разрывал контракт модель правильно предсказывала 1477 раз и неправильно всего 90 раз. "
   ]
  },
  {
   "cell_type": "markdown",
   "id": "7665af93",
   "metadata": {},
   "source": [
    "### Вывод:\n",
    "\n",
    "1. Данные разделены на тренировочную и тестовую, закодированы и масштабированы.\n",
    "\n",
    "2. Для обучения были выбраны следующие модели: решающее дерево, случайный лес и сatboost;\n",
    "\n",
    "3. С помощью GridSearchCV были найдены лучшие гиперпараметры моделей на тренировочной выборке,  лучший показатель AUC-ROC у модели Catboost равен 0.92;\n",
    "\n",
    "4. Модель Catboost CatBoostClassifier с лучшими параметрами на тестовой выборке показала AUC-ROC = 0.936, Accuracy = 0.944;\n",
    "\n",
    "5. Наиболее важными признаками для модели оказались: продолжительность пользования услугами, месячный и суммарный платежи.\n",
    "\n",
    "6. На матрице ошибок видно, что модель достигла хороших результатов."
   ]
  },
  {
   "cell_type": "markdown",
   "id": "b7c31601",
   "metadata": {},
   "source": [
    "## Отчет"
   ]
  },
  {
   "attachments": {
    "image-2.png": {
     "image/png": "[encoded data removed]"
    },
    "image-3.png": {
     "image/png": "[encoded data removed]"
    },
    "image-4.png": {
     "image/png": "[encoded data removed]"
    },
    "image.png": {
     "image/png": "[encoded data removed]"
    }
   },
   "cell_type": "markdown",
   "id": "c26655bc",
   "metadata": {},
   "source": [
    "### Ключевые шаги работы над проектом\n",
    "\n",
    "В начале проекта были поставлены следующие задачи:\n",
    "\n",
    "- Загрузить и изучить данные\n",
    "- Обработать данные \n",
    "- Построить модели и оценить их качество\n",
    "- Выбрать лучшую модель и оценить её качество на тестовой выборке\n",
    "\n",
    "### Анализ соответствия фактической работы запланированным шагам\n",
    "\n",
    "В ходе проекта все задачи были выполнены:\n",
    "\n",
    "**Загрузить и изучить данные:**\n",
    "\n",
    "- [x] Загрузить данные \n",
    "- [x] Провести поиск пропусков и дубликатов\n",
    "- [x] Изучить, требуют ли данные дополнительной предобработки(изменить тип данных, переименовать столбцы, заполнить пропуски, удалить дубликаты)\n",
    "\n",
    "**Обработать данные:**\n",
    "\n",
    "- [x] Добавить целевой признак\n",
    "- [x] Объединить исходные датафреймы в один, изучить распределение признаков\n",
    "- [x] Провести подготовку данных для обучения моделей (закодировать категориальные признаки, разбить данные на выборки)\n",
    "\n",
    "**Построить модели и оценить их качество:**\n",
    "\n",
    "- [x] Построить модели и подобрать для них лучшие гиперпараметры\n",
    "- [x] Обучить модели на тренировочной выборке посчитать для них метрику AUC-ROC\n",
    "\n",
    "**Выбрать лучшую модель и оценить ее качество на тестовой выборке:**\n",
    "\n",
    "- [x] Выбрать лучшую модель на основе метрики AUC-ROC \n",
    "- [x] Провести оценку лучшей модели на тестовой выборке, найти значение метрики Accuracy\n",
    "- [x] Проанализировать лучшую модель (важность признаков, матрица ошибок)\n",
    "\n",
    "### Рефлексия над сложностями и описание путей их решения\n",
    "\n",
    "В ходе выполнения проекта столкнулся со следующей проблемой:\n",
    "\n",
    "- При объединении таблиц появились пропуски, которые непонятно было, чем заполнить. Решение - так как данные пропуски появились из-за того, что некоторые клиенты не пользовались теми или иными пакетами услуг, то данные пропуски необходимо было заполнить уникальным значением.\n",
    "### Краткое описание предобработки данных\n",
    "\n",
    "В ходе предобработки данных выявлены следующие проблемы и их решения:\n",
    "\n",
    "* Некорректное название столбцов - названия столбцов преобразованы в snake case;\n",
    "* Отсутствие целевого признака - создание целевого признака на основе значений столбца `EndDate` в датафрейме `contract`;\n",
    "* Создан новый признак - длительность контракта;\n",
    "* Найдены неявные пропуски в столбце `total_charges` в датафрейме `contract` - было принято решение заменить пропуски значением `0`, так как выявлено, что данные пропуски связаны с новыми клиентами, которые не успели поттратить деньги;\n",
    "* В некоторых столбцах некорректные типы данных - типы данных были преобразованы;\n",
    "* Данные разбросаны по нескольким таблицами - объединены по значению `customer_id`;\n",
    "* При объединении таблиц появлись пропуски - выявлено, что данные пропуски связаны с тем, что некоторые клиенты не приобрели пакет услуг телефонии или интернет услуги, и принято решение заполнить данные пропуски уникальным значением `NoService`.\n",
    "\n",
    "### Итоговый список признаков для обучения модели, способы их обработки\n",
    "\n",
    "Для обучения модели были использованы следующие признаки:\n",
    "\n",
    "1. type\t- тип оплаты (ежемесячный/годовой/раз в два года)\n",
    "2. paperless_billing - наличие электронного платежного документа\n",
    "3. payment_method - способ оплаты\n",
    "4. monthly_charges - ежемесячные траты на услуги по договору\n",
    "5. total_charges - суммарные траты на услуги\n",
    "6. duration - длительность контракта\n",
    "7. gender - пол клиента\n",
    "8. senior_citizen - наличие пенсионного статуса\n",
    "9. partner - наличие супруга(и)\n",
    "10. dependents - наличие иждивенцев\n",
    "11. internet_service - технология подключения интернета\n",
    "12. online_security\n",
    "13. online_backup\n",
    "14. device_protection\n",
    "15. tech_support\n",
    "16. streaming_tv\n",
    "17. streaming_movies\n",
    "18. multiple_lines - наличие возможности ведения параллельных линий во время звонка \n",
    "\n",
    "* Для кодирования признаков использовал `OrdinalEncoder`;\n",
    "* Для масштабирования признаков использовал `StandartScaler`;\n",
    "* Использовалось значение RANDOM_STATE = 161023;\n",
    "* Данные были разделены на выборки с помощью `train_test_split` в соотношении 75% - обучающая выборка, 25% - тестовая выборка.\n",
    "### Сводная таблица исследованных моделей и их метрика на кросс-валидации\n",
    "\n",
    "Модели были обучены на тренировочной выборке и оценены на кросс-валидации, получены следующие значения\n",
    "![image.png](attachment:image.png)\n",
    "### Лучшая модель\n",
    "Лучше всего себя показала модель CatBoostClassifier со следующими параметрами:\n",
    "\n",
    "* learning_rate: 0.1\n",
    "* max_depth: 2\n",
    "* n_estimators: 2000\n",
    "\n",
    "Данная модель на кросс-валидации показала метрику ROC-AUC равную 0.92\n",
    "### Итоговая метрика на test (AUC-ROC и Accuracy)\n",
    "\n",
    "Лучшая модель проверена на тестовой выборке, получены следующие метрики:\n",
    "\n",
    "* AUC-ROC = 0.939\n",
    "\n",
    "![image-4.png](attachment:image-4.png)\n",
    "\n",
    "* Accuracy = 0.945. Метрика Accuracy отражает общую точность модели, то есть в данном случае означает, что наша модель на тестовой выборке сделала 94,5% правильных предсказаний. \n",
    "\n",
    "Данные результаты удовлетворяют нас, так как цель исследования была найти модель с метрикой ROC-AUC не меньше 0,85.\n",
    "### Матрица ошибок\n",
    "\n",
    "Построена матрица ошибок на тестовой выборке для лучшей модели, получен следующий результат:\n",
    "\n",
    "![image-3.png](attachment:image-3.png)\n",
    "\n",
    "Матрица ошибок отражает 4 метрики:\n",
    "\n",
    "True Positive (истинно-положительно), правая нижняя метрика на графике - модель предсказала, что клиент разорвет контракт и действительно, так и произошло.\n",
    "True Negative (истинно-отрицательно), левая верхняя метрика на графике - модель предсказала, что клиент не разорвет контракт, что соответствует действительности\n",
    "False Positive (ложно-положительно), левая нижняя метрика на графике - модель предсказала, что клиент разорвет контракт, но этого не случилось.\n",
    "False Negative (ложно-отрицательно), правая верхняя метрика на графике - модель предсказала, что клиент останется, но на самом деле, он разорвал контракт.\n",
    "Чаще всего встречается метрика истинно-отрицательная, что логично, ведь большая часть клиентов не разрывает контракт, модель в большинстве случаев правильно предсказывает, что клиент не собирается разорвать контракт.\n",
    "\n",
    "Значительно реже встречается истинно-положительная метрика, это обосновывается тем, что малая часть клиент разрывает контракт, такие случаи модель тоже хорошо определяет и чаще всего определяет правильно, что клиент разорвет контракт.\n",
    "\n",
    "Значения ложно-положительной и ложно-отрицательной метрик встречается совсем редко, это означает, что модель с предсказаниями справляется. К примеру из всех случаев, когда клиент разрывал контракт, модель правильно предсказывала 185 раз и неправильно всего 9 раз. А из тех случаев, когда клиент не разрывал контракт модель правильно предсказывала 1477 раз и неправильно всего 90 раз.\n",
    "### Важность признаков\n",
    "\n",
    "Изучена важность признаков, получен следующий результат:\n",
    "\n",
    "![image-2.png](attachment:image-2.png)\n",
    "\n",
    "Наиболее важный параметр при предсказании - длительность пользования услугами, чуть менее важные параметры - месячный и суммарный платежи."
   ]
  }
 ],
 "metadata": {
  "ExecuteTimeLog": [
   {
    "duration": 1888,
    "start_time": "2023-10-24T13:24:36.569Z"
   },
   {
    "duration": 3576,
    "start_time": "2023-10-24T13:24:50.685Z"
   },
   {
    "duration": 1529,
    "start_time": "2023-10-24T13:25:28.189Z"
   },
   {
    "duration": 427,
    "start_time": "2023-10-24T13:25:31.019Z"
   },
   {
    "duration": 16,
    "start_time": "2023-10-24T13:25:32.043Z"
   },
   {
    "duration": 14,
    "start_time": "2023-10-24T13:25:32.197Z"
   },
   {
    "duration": 13,
    "start_time": "2023-10-24T13:25:32.348Z"
   },
   {
    "duration": 14,
    "start_time": "2023-10-24T13:25:32.507Z"
   },
   {
    "duration": 8,
    "start_time": "2023-10-24T13:25:32.676Z"
   },
   {
    "duration": 9,
    "start_time": "2023-10-24T13:25:32.835Z"
   },
   {
    "duration": 11,
    "start_time": "2023-10-24T13:25:33.196Z"
   },
   {
    "duration": 6,
    "start_time": "2023-10-24T13:25:33.564Z"
   },
   {
    "duration": 9,
    "start_time": "2023-10-24T13:25:34.396Z"
   },
   {
    "duration": 14,
    "start_time": "2023-10-24T13:25:34.571Z"
   },
   {
    "duration": 12,
    "start_time": "2023-10-24T13:25:34.732Z"
   },
   {
    "duration": 8,
    "start_time": "2023-10-24T13:25:34.900Z"
   },
   {
    "duration": 9,
    "start_time": "2023-10-24T13:25:35.141Z"
   },
   {
    "duration": 12,
    "start_time": "2023-10-24T13:25:35.716Z"
   },
   {
    "duration": 13,
    "start_time": "2023-10-24T13:25:35.892Z"
   },
   {
    "duration": 32,
    "start_time": "2023-10-24T13:25:36.052Z"
   },
   {
    "duration": 9,
    "start_time": "2023-10-24T13:25:36.220Z"
   },
   {
    "duration": 8,
    "start_time": "2023-10-24T13:25:36.405Z"
   },
   {
    "duration": 8,
    "start_time": "2023-10-24T13:25:37.515Z"
   },
   {
    "duration": 23,
    "start_time": "2023-10-24T13:25:37.525Z"
   },
   {
    "duration": 28,
    "start_time": "2023-10-24T13:25:37.550Z"
   },
   {
    "duration": 8,
    "start_time": "2023-10-24T13:25:37.756Z"
   },
   {
    "duration": 7,
    "start_time": "2023-10-24T13:25:38.339Z"
   },
   {
    "duration": 3,
    "start_time": "2023-10-24T13:25:43.908Z"
   },
   {
    "duration": 36,
    "start_time": "2023-10-24T13:25:44.364Z"
   },
   {
    "duration": 4,
    "start_time": "2023-10-24T13:25:49.523Z"
   },
   {
    "duration": 14,
    "start_time": "2023-10-24T13:25:49.893Z"
   },
   {
    "duration": 4,
    "start_time": "2023-10-24T13:25:53.068Z"
   },
   {
    "duration": 23,
    "start_time": "2023-10-24T13:25:55.315Z"
   },
   {
    "duration": 1968,
    "start_time": "2023-10-25T12:26:56.382Z"
   },
   {
    "duration": 116,
    "start_time": "2023-10-25T12:27:09.057Z"
   },
   {
    "duration": 4047,
    "start_time": "2023-10-25T12:27:18.630Z"
   },
   {
    "duration": 484,
    "start_time": "2023-10-25T12:27:25.842Z"
   },
   {
    "duration": 28,
    "start_time": "2023-10-25T12:27:30.128Z"
   },
   {
    "duration": 16,
    "start_time": "2023-10-25T12:27:30.888Z"
   },
   {
    "duration": 15,
    "start_time": "2023-10-25T12:27:31.381Z"
   },
   {
    "duration": 10,
    "start_time": "2023-10-25T12:27:31.790Z"
   },
   {
    "duration": 8,
    "start_time": "2023-10-25T12:27:32.001Z"
   },
   {
    "duration": 8,
    "start_time": "2023-10-25T12:27:32.126Z"
   },
   {
    "duration": 11,
    "start_time": "2023-10-25T12:27:32.416Z"
   },
   {
    "duration": 8,
    "start_time": "2023-10-25T12:27:32.768Z"
   },
   {
    "duration": 8,
    "start_time": "2023-10-25T12:27:33.777Z"
   },
   {
    "duration": 22,
    "start_time": "2023-10-25T12:27:33.950Z"
   },
   {
    "duration": 15,
    "start_time": "2023-10-25T12:27:34.370Z"
   },
   {
    "duration": 10,
    "start_time": "2023-10-25T12:27:34.571Z"
   },
   {
    "duration": 8,
    "start_time": "2023-10-25T12:27:34.706Z"
   },
   {
    "duration": 10,
    "start_time": "2023-10-25T12:27:35.674Z"
   },
   {
    "duration": 12,
    "start_time": "2023-10-25T12:27:35.995Z"
   },
   {
    "duration": 30,
    "start_time": "2023-10-25T12:27:36.176Z"
   },
   {
    "duration": 17,
    "start_time": "2023-10-25T12:27:36.342Z"
   },
   {
    "duration": 8,
    "start_time": "2023-10-25T12:27:36.493Z"
   },
   {
    "duration": 15,
    "start_time": "2023-10-25T12:27:37.060Z"
   },
   {
    "duration": 13,
    "start_time": "2023-10-25T12:27:37.273Z"
   },
   {
    "duration": 16,
    "start_time": "2023-10-25T12:27:38.294Z"
   },
   {
    "duration": 6,
    "start_time": "2023-10-25T12:27:38.524Z"
   },
   {
    "duration": 6,
    "start_time": "2023-10-25T12:27:38.781Z"
   },
   {
    "duration": 10,
    "start_time": "2023-10-25T12:28:03.462Z"
   },
   {
    "duration": 34,
    "start_time": "2023-10-25T12:28:04.087Z"
   },
   {
    "duration": 6,
    "start_time": "2023-10-25T12:28:06.172Z"
   },
   {
    "duration": 13,
    "start_time": "2023-10-25T12:28:06.486Z"
   },
   {
    "duration": 5,
    "start_time": "2023-10-25T12:28:08.484Z"
   },
   {
    "duration": 27,
    "start_time": "2023-10-25T12:28:11.732Z"
   },
   {
    "duration": 16,
    "start_time": "2023-10-25T12:30:19.822Z"
   },
   {
    "duration": 56,
    "start_time": "2023-10-25T12:30:54.215Z"
   },
   {
    "duration": 18,
    "start_time": "2023-10-25T12:30:54.667Z"
   },
   {
    "duration": 19,
    "start_time": "2023-10-25T12:33:18.469Z"
   },
   {
    "duration": 5,
    "start_time": "2023-10-25T12:34:15.124Z"
   },
   {
    "duration": 35,
    "start_time": "2023-10-25T12:34:20.023Z"
   },
   {
    "duration": 7,
    "start_time": "2023-10-25T12:34:31.876Z"
   },
   {
    "duration": 4,
    "start_time": "2023-10-25T12:34:35.483Z"
   },
   {
    "duration": 12,
    "start_time": "2023-10-25T12:34:48.869Z"
   },
   {
    "duration": 4,
    "start_time": "2023-10-25T12:35:00.487Z"
   },
   {
    "duration": 16,
    "start_time": "2023-10-25T12:35:14.460Z"
   },
   {
    "duration": 17,
    "start_time": "2023-10-25T12:37:07.757Z"
   },
   {
    "duration": 15,
    "start_time": "2023-10-25T12:37:26.704Z"
   },
   {
    "duration": 89,
    "start_time": "2023-10-25T12:39:28.808Z"
   },
   {
    "duration": 3,
    "start_time": "2023-10-25T12:39:39.457Z"
   },
   {
    "duration": 2090,
    "start_time": "2023-10-25T12:39:51.673Z"
   },
   {
    "duration": 10,
    "start_time": "2023-10-25T12:39:56.274Z"
   },
   {
    "duration": 5,
    "start_time": "2023-10-25T12:40:05.426Z"
   },
   {
    "duration": 7,
    "start_time": "2023-10-25T12:40:14.901Z"
   },
   {
    "duration": 8668,
    "start_time": "2023-10-25T12:40:53.873Z"
   },
   {
    "duration": 24,
    "start_time": "2023-10-25T12:41:25.001Z"
   },
   {
    "duration": 5,
    "start_time": "2023-10-25T12:42:16.572Z"
   },
   {
    "duration": 437,
    "start_time": "2023-10-25T12:42:36.491Z"
   },
   {
    "duration": 4318,
    "start_time": "2023-10-25T12:43:01.822Z"
   },
   {
    "duration": 132,
    "start_time": "2023-10-25T12:43:06.142Z"
   },
   {
    "duration": 25,
    "start_time": "2023-10-25T12:43:06.277Z"
   },
   {
    "duration": 21,
    "start_time": "2023-10-25T12:43:06.304Z"
   },
   {
    "duration": 41,
    "start_time": "2023-10-25T12:43:06.328Z"
   },
   {
    "duration": 16,
    "start_time": "2023-10-25T12:43:06.371Z"
   },
   {
    "duration": 26,
    "start_time": "2023-10-25T12:43:06.389Z"
   },
   {
    "duration": 17,
    "start_time": "2023-10-25T12:43:06.417Z"
   },
   {
    "duration": 41,
    "start_time": "2023-10-25T12:43:06.437Z"
   },
   {
    "duration": 26,
    "start_time": "2023-10-25T12:43:06.481Z"
   },
   {
    "duration": 51,
    "start_time": "2023-10-25T12:43:06.508Z"
   },
   {
    "duration": 27,
    "start_time": "2023-10-25T12:43:06.562Z"
   },
   {
    "duration": 15,
    "start_time": "2023-10-25T12:43:06.590Z"
   },
   {
    "duration": 24,
    "start_time": "2023-10-25T12:43:06.608Z"
   },
   {
    "duration": 10,
    "start_time": "2023-10-25T12:43:06.633Z"
   },
   {
    "duration": 25,
    "start_time": "2023-10-25T12:43:06.657Z"
   },
   {
    "duration": 13,
    "start_time": "2023-10-25T12:43:06.684Z"
   },
   {
    "duration": 72,
    "start_time": "2023-10-25T12:43:06.698Z"
   },
   {
    "duration": 12,
    "start_time": "2023-10-25T12:43:06.773Z"
   },
   {
    "duration": 10,
    "start_time": "2023-10-25T12:43:06.788Z"
   },
   {
    "duration": 9,
    "start_time": "2023-10-25T12:43:06.800Z"
   },
   {
    "duration": 26,
    "start_time": "2023-10-25T12:43:06.811Z"
   },
   {
    "duration": 35,
    "start_time": "2023-10-25T12:43:06.840Z"
   },
   {
    "duration": 10,
    "start_time": "2023-10-25T12:43:06.877Z"
   },
   {
    "duration": 11,
    "start_time": "2023-10-25T12:43:06.889Z"
   },
   {
    "duration": 6,
    "start_time": "2023-10-25T12:43:06.902Z"
   },
   {
    "duration": 66,
    "start_time": "2023-10-25T12:43:06.910Z"
   },
   {
    "duration": 5,
    "start_time": "2023-10-25T12:43:06.978Z"
   },
   {
    "duration": 35,
    "start_time": "2023-10-25T12:43:06.985Z"
   },
   {
    "duration": 11,
    "start_time": "2023-10-25T12:43:07.022Z"
   },
   {
    "duration": 45,
    "start_time": "2023-10-25T12:43:07.035Z"
   },
   {
    "duration": 30,
    "start_time": "2023-10-25T12:43:07.083Z"
   },
   {
    "duration": 60,
    "start_time": "2023-10-25T12:43:07.115Z"
   },
   {
    "duration": 17,
    "start_time": "2023-10-25T12:43:07.177Z"
   },
   {
    "duration": 21,
    "start_time": "2023-10-25T12:43:07.197Z"
   },
   {
    "duration": 19,
    "start_time": "2023-10-25T12:43:07.220Z"
   },
   {
    "duration": 36,
    "start_time": "2023-10-25T12:43:07.240Z"
   },
   {
    "duration": 18,
    "start_time": "2023-10-25T12:43:07.278Z"
   },
   {
    "duration": 33,
    "start_time": "2023-10-25T12:43:07.298Z"
   },
   {
    "duration": 38,
    "start_time": "2023-10-25T12:43:07.333Z"
   },
   {
    "duration": 541,
    "start_time": "2023-10-25T12:43:12.099Z"
   },
   {
    "duration": 407,
    "start_time": "2023-10-25T12:43:38.968Z"
   },
   {
    "duration": 9,
    "start_time": "2023-10-25T12:44:31.501Z"
   },
   {
    "duration": 9,
    "start_time": "2023-10-25T12:44:38.961Z"
   },
   {
    "duration": 4,
    "start_time": "2023-10-25T12:44:39.093Z"
   },
   {
    "duration": 479,
    "start_time": "2023-10-25T12:44:39.503Z"
   },
   {
    "duration": 2513,
    "start_time": "2023-10-25T12:44:54.413Z"
   },
   {
    "duration": 132,
    "start_time": "2023-10-25T12:44:56.928Z"
   },
   {
    "duration": 12,
    "start_time": "2023-10-25T12:44:57.073Z"
   },
   {
    "duration": 19,
    "start_time": "2023-10-25T12:44:57.088Z"
   },
   {
    "duration": 12,
    "start_time": "2023-10-25T12:44:57.108Z"
   },
   {
    "duration": 9,
    "start_time": "2023-10-25T12:44:57.121Z"
   },
   {
    "duration": 29,
    "start_time": "2023-10-25T12:44:57.131Z"
   },
   {
    "duration": 19,
    "start_time": "2023-10-25T12:44:57.161Z"
   },
   {
    "duration": 9,
    "start_time": "2023-10-25T12:44:57.182Z"
   },
   {
    "duration": 6,
    "start_time": "2023-10-25T12:44:57.194Z"
   },
   {
    "duration": 8,
    "start_time": "2023-10-25T12:44:57.202Z"
   },
   {
    "duration": 11,
    "start_time": "2023-10-25T12:44:57.212Z"
   },
   {
    "duration": 40,
    "start_time": "2023-10-25T12:44:57.225Z"
   },
   {
    "duration": 18,
    "start_time": "2023-10-25T12:44:57.267Z"
   },
   {
    "duration": 10,
    "start_time": "2023-10-25T12:44:57.287Z"
   },
   {
    "duration": 19,
    "start_time": "2023-10-25T12:44:57.299Z"
   },
   {
    "duration": 44,
    "start_time": "2023-10-25T12:44:57.320Z"
   },
   {
    "duration": 28,
    "start_time": "2023-10-25T12:44:57.374Z"
   },
   {
    "duration": 8,
    "start_time": "2023-10-25T12:44:57.403Z"
   },
   {
    "duration": 9,
    "start_time": "2023-10-25T12:44:57.413Z"
   },
   {
    "duration": 12,
    "start_time": "2023-10-25T12:44:57.423Z"
   },
   {
    "duration": 19,
    "start_time": "2023-10-25T12:44:57.449Z"
   },
   {
    "duration": 19,
    "start_time": "2023-10-25T12:44:57.470Z"
   },
   {
    "duration": 28,
    "start_time": "2023-10-25T12:44:57.490Z"
   },
   {
    "duration": 19,
    "start_time": "2023-10-25T12:44:57.519Z"
   },
   {
    "duration": 32,
    "start_time": "2023-10-25T12:44:57.539Z"
   },
   {
    "duration": 52,
    "start_time": "2023-10-25T12:44:57.573Z"
   },
   {
    "duration": 5,
    "start_time": "2023-10-25T12:44:57.628Z"
   },
   {
    "duration": 35,
    "start_time": "2023-10-25T12:44:57.634Z"
   },
   {
    "duration": 7,
    "start_time": "2023-10-25T12:44:57.671Z"
   },
   {
    "duration": 25,
    "start_time": "2023-10-25T12:44:57.681Z"
   },
   {
    "duration": 14,
    "start_time": "2023-10-25T12:44:57.708Z"
   },
   {
    "duration": 66,
    "start_time": "2023-10-25T12:44:57.724Z"
   },
   {
    "duration": 17,
    "start_time": "2023-10-25T12:44:57.791Z"
   },
   {
    "duration": 14,
    "start_time": "2023-10-25T12:44:57.809Z"
   },
   {
    "duration": 11,
    "start_time": "2023-10-25T12:44:57.824Z"
   },
   {
    "duration": 40,
    "start_time": "2023-10-25T12:44:57.837Z"
   },
   {
    "duration": 21,
    "start_time": "2023-10-25T12:44:57.879Z"
   },
   {
    "duration": 3,
    "start_time": "2023-10-25T12:45:00.306Z"
   },
   {
    "duration": 5,
    "start_time": "2023-10-25T12:45:00.573Z"
   },
   {
    "duration": 14608,
    "start_time": "2023-10-25T12:45:00.801Z"
   },
   {
    "duration": 42,
    "start_time": "2023-10-25T12:45:27.033Z"
   },
   {
    "duration": 42,
    "start_time": "2023-10-25T12:46:20.441Z"
   },
   {
    "duration": 7,
    "start_time": "2023-10-25T12:46:34.709Z"
   },
   {
    "duration": 206,
    "start_time": "2023-10-25T12:46:47.674Z"
   },
   {
    "duration": 249,
    "start_time": "2023-10-25T12:47:56.282Z"
   },
   {
    "duration": 356,
    "start_time": "2023-10-25T12:48:10.502Z"
   },
   {
    "duration": 4281,
    "start_time": "2023-10-25T12:48:54.140Z"
   },
   {
    "duration": 10,
    "start_time": "2023-10-25T12:49:11.810Z"
   },
   {
    "duration": 88,
    "start_time": "2023-10-25T12:49:31.124Z"
   },
   {
    "duration": 15,
    "start_time": "2023-10-25T12:50:15.772Z"
   },
   {
    "duration": 136,
    "start_time": "2023-10-25T12:50:40.704Z"
   },
   {
    "duration": 139,
    "start_time": "2023-10-25T12:50:49.575Z"
   },
   {
    "duration": 12,
    "start_time": "2023-10-25T12:50:54.770Z"
   },
   {
    "duration": 142,
    "start_time": "2023-10-25T12:50:54.971Z"
   },
   {
    "duration": 153,
    "start_time": "2023-10-25T12:50:55.641Z"
   },
   {
    "duration": 24,
    "start_time": "2023-10-25T12:51:10.660Z"
   },
   {
    "duration": 16,
    "start_time": "2023-10-25T12:51:15.566Z"
   },
   {
    "duration": 10,
    "start_time": "2023-10-25T12:51:20.832Z"
   },
   {
    "duration": 17,
    "start_time": "2023-10-25T12:51:28.057Z"
   },
   {
    "duration": 4,
    "start_time": "2023-10-25T12:51:37.374Z"
   },
   {
    "duration": 5,
    "start_time": "2023-10-25T12:51:44.811Z"
   },
   {
    "duration": 5,
    "start_time": "2023-10-25T12:51:53.533Z"
   },
   {
    "duration": 10,
    "start_time": "2023-10-25T12:51:55.974Z"
   },
   {
    "duration": 6,
    "start_time": "2023-10-25T12:51:56.190Z"
   },
   {
    "duration": 6,
    "start_time": "2023-10-25T12:51:56.671Z"
   },
   {
    "duration": 33,
    "start_time": "2023-10-25T12:52:05.639Z"
   },
   {
    "duration": 5,
    "start_time": "2023-10-25T12:52:06.380Z"
   },
   {
    "duration": 5,
    "start_time": "2023-10-25T12:52:07.019Z"
   },
   {
    "duration": 8,
    "start_time": "2023-10-25T12:52:17.274Z"
   },
   {
    "duration": 11,
    "start_time": "2023-10-25T12:52:18.369Z"
   },
   {
    "duration": 20,
    "start_time": "2023-10-25T12:53:11.314Z"
   },
   {
    "duration": 4,
    "start_time": "2023-10-25T12:54:09.005Z"
   },
   {
    "duration": 3,
    "start_time": "2023-10-25T12:54:10.431Z"
   },
   {
    "duration": 225,
    "start_time": "2023-10-25T12:54:11.660Z"
   },
   {
    "duration": 91,
    "start_time": "2023-10-25T12:54:36.292Z"
   },
   {
    "duration": 2716,
    "start_time": "2023-10-25T12:55:34.125Z"
   },
   {
    "duration": 131,
    "start_time": "2023-10-25T12:55:36.844Z"
   },
   {
    "duration": 16,
    "start_time": "2023-10-25T12:55:36.977Z"
   },
   {
    "duration": 35,
    "start_time": "2023-10-25T12:55:36.995Z"
   },
   {
    "duration": 51,
    "start_time": "2023-10-25T12:55:37.032Z"
   },
   {
    "duration": 10,
    "start_time": "2023-10-25T12:55:37.084Z"
   },
   {
    "duration": 24,
    "start_time": "2023-10-25T12:55:37.096Z"
   },
   {
    "duration": 46,
    "start_time": "2023-10-25T12:55:37.122Z"
   },
   {
    "duration": 21,
    "start_time": "2023-10-25T12:55:37.170Z"
   },
   {
    "duration": 24,
    "start_time": "2023-10-25T12:55:37.193Z"
   },
   {
    "duration": 41,
    "start_time": "2023-10-25T12:55:37.219Z"
   },
   {
    "duration": 24,
    "start_time": "2023-10-25T12:55:37.262Z"
   },
   {
    "duration": 31,
    "start_time": "2023-10-25T12:55:37.288Z"
   },
   {
    "duration": 21,
    "start_time": "2023-10-25T12:55:37.322Z"
   },
   {
    "duration": 29,
    "start_time": "2023-10-25T12:55:37.345Z"
   },
   {
    "duration": 23,
    "start_time": "2023-10-25T12:55:37.376Z"
   },
   {
    "duration": 29,
    "start_time": "2023-10-25T12:55:37.401Z"
   },
   {
    "duration": 59,
    "start_time": "2023-10-25T12:55:37.432Z"
   },
   {
    "duration": 8,
    "start_time": "2023-10-25T12:55:37.493Z"
   },
   {
    "duration": 42,
    "start_time": "2023-10-25T12:55:37.502Z"
   },
   {
    "duration": 31,
    "start_time": "2023-10-25T12:55:37.552Z"
   },
   {
    "duration": 24,
    "start_time": "2023-10-25T12:55:37.585Z"
   },
   {
    "duration": 39,
    "start_time": "2023-10-25T12:55:37.611Z"
   },
   {
    "duration": 26,
    "start_time": "2023-10-25T12:55:37.653Z"
   },
   {
    "duration": 7,
    "start_time": "2023-10-25T12:55:37.681Z"
   },
   {
    "duration": 12,
    "start_time": "2023-10-25T12:55:37.690Z"
   },
   {
    "duration": 43,
    "start_time": "2023-10-25T12:55:37.704Z"
   },
   {
    "duration": 11,
    "start_time": "2023-10-25T12:55:37.764Z"
   },
   {
    "duration": 20,
    "start_time": "2023-10-25T12:55:37.778Z"
   },
   {
    "duration": 21,
    "start_time": "2023-10-25T12:55:37.799Z"
   },
   {
    "duration": 52,
    "start_time": "2023-10-25T12:55:37.822Z"
   },
   {
    "duration": 17,
    "start_time": "2023-10-25T12:55:37.876Z"
   },
   {
    "duration": 46,
    "start_time": "2023-10-25T12:55:37.894Z"
   },
   {
    "duration": 40,
    "start_time": "2023-10-25T12:55:37.942Z"
   },
   {
    "duration": 41,
    "start_time": "2023-10-25T12:55:37.983Z"
   },
   {
    "duration": 54,
    "start_time": "2023-10-25T12:55:38.027Z"
   },
   {
    "duration": 30,
    "start_time": "2023-10-25T12:55:38.082Z"
   },
   {
    "duration": 28,
    "start_time": "2023-10-25T12:55:38.114Z"
   },
   {
    "duration": 17,
    "start_time": "2023-10-25T12:55:38.156Z"
   },
   {
    "duration": 43,
    "start_time": "2023-10-25T12:55:38.177Z"
   },
   {
    "duration": 4565,
    "start_time": "2023-10-25T12:55:38.224Z"
   },
   {
    "duration": 0,
    "start_time": "2023-10-25T12:55:42.791Z"
   },
   {
    "duration": 0,
    "start_time": "2023-10-25T12:55:42.793Z"
   },
   {
    "duration": 0,
    "start_time": "2023-10-25T12:55:42.794Z"
   },
   {
    "duration": 0,
    "start_time": "2023-10-25T12:55:42.795Z"
   },
   {
    "duration": 0,
    "start_time": "2023-10-25T12:55:42.796Z"
   },
   {
    "duration": 0,
    "start_time": "2023-10-25T12:55:42.797Z"
   },
   {
    "duration": 0,
    "start_time": "2023-10-25T12:55:42.799Z"
   },
   {
    "duration": 0,
    "start_time": "2023-10-25T12:55:42.800Z"
   },
   {
    "duration": 0,
    "start_time": "2023-10-25T12:55:42.801Z"
   },
   {
    "duration": 0,
    "start_time": "2023-10-25T12:55:42.802Z"
   },
   {
    "duration": 0,
    "start_time": "2023-10-25T12:55:42.803Z"
   },
   {
    "duration": 0,
    "start_time": "2023-10-25T12:55:42.804Z"
   },
   {
    "duration": 0,
    "start_time": "2023-10-25T12:55:42.805Z"
   },
   {
    "duration": 0,
    "start_time": "2023-10-25T12:55:42.806Z"
   },
   {
    "duration": 0,
    "start_time": "2023-10-25T12:55:42.807Z"
   },
   {
    "duration": 2551,
    "start_time": "2023-10-25T12:55:50.820Z"
   },
   {
    "duration": 118,
    "start_time": "2023-10-25T12:55:56.563Z"
   },
   {
    "duration": 11,
    "start_time": "2023-10-25T12:55:57.381Z"
   },
   {
    "duration": 13,
    "start_time": "2023-10-25T12:55:57.577Z"
   },
   {
    "duration": 12,
    "start_time": "2023-10-25T12:55:57.723Z"
   },
   {
    "duration": 11,
    "start_time": "2023-10-25T12:55:57.890Z"
   },
   {
    "duration": 9,
    "start_time": "2023-10-25T12:55:58.075Z"
   },
   {
    "duration": 8,
    "start_time": "2023-10-25T12:55:58.274Z"
   },
   {
    "duration": 14,
    "start_time": "2023-10-25T12:55:59.009Z"
   },
   {
    "duration": 6,
    "start_time": "2023-10-25T12:55:59.369Z"
   },
   {
    "duration": 9,
    "start_time": "2023-10-25T12:56:02.473Z"
   },
   {
    "duration": 17,
    "start_time": "2023-10-25T12:56:02.600Z"
   },
   {
    "duration": 16,
    "start_time": "2023-10-25T12:56:02.777Z"
   },
   {
    "duration": 12,
    "start_time": "2023-10-25T12:56:02.884Z"
   },
   {
    "duration": 7,
    "start_time": "2023-10-25T12:56:03.031Z"
   },
   {
    "duration": 13,
    "start_time": "2023-10-25T12:56:03.603Z"
   },
   {
    "duration": 13,
    "start_time": "2023-10-25T12:56:03.729Z"
   },
   {
    "duration": 32,
    "start_time": "2023-10-25T12:56:03.884Z"
   },
   {
    "duration": 9,
    "start_time": "2023-10-25T12:56:04.072Z"
   },
   {
    "duration": 9,
    "start_time": "2023-10-25T12:56:04.192Z"
   },
   {
    "duration": 10,
    "start_time": "2023-10-25T12:56:04.671Z"
   },
   {
    "duration": 14,
    "start_time": "2023-10-25T12:56:04.834Z"
   },
   {
    "duration": 17,
    "start_time": "2023-10-25T12:56:05.069Z"
   },
   {
    "duration": 7,
    "start_time": "2023-10-25T12:56:05.270Z"
   },
   {
    "duration": 7,
    "start_time": "2023-10-25T12:56:05.603Z"
   },
   {
    "duration": 3,
    "start_time": "2023-10-25T12:56:08.976Z"
   },
   {
    "duration": 56,
    "start_time": "2023-10-25T12:56:09.106Z"
   },
   {
    "duration": 5,
    "start_time": "2023-10-25T12:56:11.233Z"
   },
   {
    "duration": 18,
    "start_time": "2023-10-25T12:56:12.534Z"
   },
   {
    "duration": 5,
    "start_time": "2023-10-25T12:56:15.203Z"
   },
   {
    "duration": 19,
    "start_time": "2023-10-25T12:56:16.872Z"
   },
   {
    "duration": 25,
    "start_time": "2023-10-25T12:56:20.259Z"
   },
   {
    "duration": 42,
    "start_time": "2023-10-25T12:56:27.267Z"
   },
   {
    "duration": 20,
    "start_time": "2023-10-25T12:56:27.465Z"
   },
   {
    "duration": 5,
    "start_time": "2023-10-25T12:56:40.573Z"
   },
   {
    "duration": 3,
    "start_time": "2023-10-25T12:56:40.761Z"
   },
   {
    "duration": 14229,
    "start_time": "2023-10-25T12:56:43.241Z"
   },
   {
    "duration": 48,
    "start_time": "2023-10-25T12:56:59.169Z"
   },
   {
    "duration": 7,
    "start_time": "2023-10-25T12:57:05.902Z"
   },
   {
    "duration": 183,
    "start_time": "2023-10-25T12:57:16.531Z"
   },
   {
    "duration": 258,
    "start_time": "2023-10-25T12:57:21.008Z"
   },
   {
    "duration": 238,
    "start_time": "2023-10-25T12:57:22.293Z"
   },
   {
    "duration": 4271,
    "start_time": "2023-10-25T12:57:29.660Z"
   },
   {
    "duration": 16,
    "start_time": "2023-10-25T12:57:39.320Z"
   },
   {
    "duration": 24,
    "start_time": "2023-10-25T12:57:44.312Z"
   },
   {
    "duration": 14,
    "start_time": "2023-10-25T12:57:44.465Z"
   },
   {
    "duration": 5,
    "start_time": "2023-10-25T12:57:44.623Z"
   },
   {
    "duration": 3,
    "start_time": "2023-10-25T12:57:44.773Z"
   },
   {
    "duration": 118,
    "start_time": "2023-10-25T12:57:46.409Z"
   },
   {
    "duration": 35,
    "start_time": "2023-10-25T12:58:04.285Z"
   },
   {
    "duration": 57,
    "start_time": "2023-10-25T12:58:17.703Z"
   },
   {
    "duration": 2762,
    "start_time": "2023-10-25T12:59:47.097Z"
   },
   {
    "duration": 127,
    "start_time": "2023-10-25T12:59:49.863Z"
   },
   {
    "duration": 12,
    "start_time": "2023-10-25T12:59:49.992Z"
   },
   {
    "duration": 44,
    "start_time": "2023-10-25T12:59:50.006Z"
   },
   {
    "duration": 32,
    "start_time": "2023-10-25T12:59:50.051Z"
   },
   {
    "duration": 21,
    "start_time": "2023-10-25T12:59:50.085Z"
   },
   {
    "duration": 8,
    "start_time": "2023-10-25T12:59:50.108Z"
   },
   {
    "duration": 21,
    "start_time": "2023-10-25T12:59:50.117Z"
   },
   {
    "duration": 34,
    "start_time": "2023-10-25T12:59:50.140Z"
   },
   {
    "duration": 21,
    "start_time": "2023-10-25T12:59:50.177Z"
   },
   {
    "duration": 23,
    "start_time": "2023-10-25T12:59:50.200Z"
   },
   {
    "duration": 47,
    "start_time": "2023-10-25T12:59:50.225Z"
   },
   {
    "duration": 12,
    "start_time": "2023-10-25T12:59:50.276Z"
   },
   {
    "duration": 36,
    "start_time": "2023-10-25T12:59:50.290Z"
   },
   {
    "duration": 9,
    "start_time": "2023-10-25T12:59:50.328Z"
   },
   {
    "duration": 38,
    "start_time": "2023-10-25T12:59:50.339Z"
   },
   {
    "duration": 28,
    "start_time": "2023-10-25T12:59:50.379Z"
   },
   {
    "duration": 29,
    "start_time": "2023-10-25T12:59:50.409Z"
   },
   {
    "duration": 22,
    "start_time": "2023-10-25T12:59:50.439Z"
   },
   {
    "duration": 18,
    "start_time": "2023-10-25T12:59:50.463Z"
   },
   {
    "duration": 12,
    "start_time": "2023-10-25T12:59:50.483Z"
   },
   {
    "duration": 22,
    "start_time": "2023-10-25T12:59:50.497Z"
   },
   {
    "duration": 18,
    "start_time": "2023-10-25T12:59:50.521Z"
   },
   {
    "duration": 28,
    "start_time": "2023-10-25T12:59:50.541Z"
   },
   {
    "duration": 6,
    "start_time": "2023-10-25T12:59:50.577Z"
   },
   {
    "duration": 36,
    "start_time": "2023-10-25T12:59:50.585Z"
   },
   {
    "duration": 68,
    "start_time": "2023-10-25T12:59:50.622Z"
   },
   {
    "duration": 5,
    "start_time": "2023-10-25T12:59:50.693Z"
   },
   {
    "duration": 36,
    "start_time": "2023-10-25T12:59:50.699Z"
   },
   {
    "duration": 36,
    "start_time": "2023-10-25T12:59:50.737Z"
   },
   {
    "duration": 18,
    "start_time": "2023-10-25T12:59:50.776Z"
   },
   {
    "duration": 16,
    "start_time": "2023-10-25T12:59:50.795Z"
   },
   {
    "duration": 80,
    "start_time": "2023-10-25T12:59:50.812Z"
   },
   {
    "duration": 18,
    "start_time": "2023-10-25T12:59:50.893Z"
   },
   {
    "duration": 14,
    "start_time": "2023-10-25T12:59:50.913Z"
   },
   {
    "duration": 31,
    "start_time": "2023-10-25T12:59:50.928Z"
   },
   {
    "duration": 14315,
    "start_time": "2023-10-25T12:59:50.961Z"
   },
   {
    "duration": 31,
    "start_time": "2023-10-25T13:00:05.278Z"
   },
   {
    "duration": 6,
    "start_time": "2023-10-25T13:00:05.310Z"
   },
   {
    "duration": 198,
    "start_time": "2023-10-25T13:00:05.318Z"
   },
   {
    "duration": 262,
    "start_time": "2023-10-25T13:00:05.517Z"
   },
   {
    "duration": 254,
    "start_time": "2023-10-25T13:00:05.780Z"
   },
   {
    "duration": 4456,
    "start_time": "2023-10-25T13:00:06.035Z"
   },
   {
    "duration": 11,
    "start_time": "2023-10-25T13:00:10.493Z"
   },
   {
    "duration": 99,
    "start_time": "2023-10-25T13:00:10.506Z"
   },
   {
    "duration": 26,
    "start_time": "2023-10-25T13:00:10.607Z"
   },
   {
    "duration": 39,
    "start_time": "2023-10-25T13:00:10.635Z"
   },
   {
    "duration": 162,
    "start_time": "2023-10-25T13:00:10.676Z"
   },
   {
    "duration": 68,
    "start_time": "2023-10-25T13:00:10.839Z"
   },
   {
    "duration": 4435,
    "start_time": "2023-10-25T13:01:57.269Z"
   },
   {
    "duration": 25,
    "start_time": "2023-10-25T13:02:04.470Z"
   },
   {
    "duration": 11445,
    "start_time": "2023-10-25T13:03:01.039Z"
   },
   {
    "duration": 120541,
    "start_time": "2023-10-25T13:04:12.137Z"
   },
   {
    "duration": 514242,
    "start_time": "2023-10-25T13:06:12.680Z"
   },
   {
    "duration": 3,
    "start_time": "2023-10-25T13:16:43.734Z"
   },
   {
    "duration": 4,
    "start_time": "2023-10-25T13:16:50.197Z"
   },
   {
    "duration": 907,
    "start_time": "2023-10-25T13:17:01.793Z"
   },
   {
    "duration": 3,
    "start_time": "2023-10-25T13:17:46.410Z"
   },
   {
    "duration": 9,
    "start_time": "2023-10-25T13:17:52.770Z"
   },
   {
    "duration": 12,
    "start_time": "2023-10-25T13:17:54.966Z"
   },
   {
    "duration": 3769,
    "start_time": "2023-10-25T13:18:07.860Z"
   },
   {
    "duration": 13,
    "start_time": "2023-10-25T13:18:21.572Z"
   },
   {
    "duration": 177,
    "start_time": "2023-10-25T13:18:56.468Z"
   },
   {
    "duration": 11,
    "start_time": "2023-10-25T13:19:02.010Z"
   },
   {
    "duration": 308,
    "start_time": "2023-10-25T13:19:27.284Z"
   },
   {
    "duration": 276,
    "start_time": "2023-10-25T13:19:33.585Z"
   },
   {
    "duration": 305,
    "start_time": "2023-10-25T13:19:37.305Z"
   },
   {
    "duration": 396,
    "start_time": "2023-10-25T13:19:49.724Z"
   },
   {
    "duration": 2215,
    "start_time": "2023-10-25T13:21:03.818Z"
   },
   {
    "duration": 17,
    "start_time": "2023-10-25T13:21:59.811Z"
   },
   {
    "duration": 16,
    "start_time": "2023-10-25T13:22:28.184Z"
   },
   {
    "duration": 20,
    "start_time": "2023-10-25T13:22:43.930Z"
   },
   {
    "duration": 15,
    "start_time": "2023-10-25T13:22:49.805Z"
   },
   {
    "duration": 18,
    "start_time": "2023-10-25T13:23:32.576Z"
   },
   {
    "duration": 14,
    "start_time": "2023-10-25T13:23:43.869Z"
   },
   {
    "duration": 15,
    "start_time": "2023-10-25T13:23:51.630Z"
   },
   {
    "duration": 21,
    "start_time": "2023-10-25T13:23:57.625Z"
   },
   {
    "duration": 3810,
    "start_time": "2023-10-25T13:25:16.222Z"
   },
   {
    "duration": 109,
    "start_time": "2023-10-25T13:25:21.712Z"
   },
   {
    "duration": 24,
    "start_time": "2023-10-25T13:25:35.368Z"
   },
   {
    "duration": 14,
    "start_time": "2023-10-25T13:25:36.006Z"
   },
   {
    "duration": 12,
    "start_time": "2023-10-25T13:25:36.505Z"
   },
   {
    "duration": 10,
    "start_time": "2023-10-25T13:25:37.076Z"
   },
   {
    "duration": 8,
    "start_time": "2023-10-25T13:25:37.536Z"
   },
   {
    "duration": 9,
    "start_time": "2023-10-25T13:25:37.923Z"
   },
   {
    "duration": 10,
    "start_time": "2023-10-25T13:25:39.086Z"
   },
   {
    "duration": 6,
    "start_time": "2023-10-25T13:25:45.176Z"
   },
   {
    "duration": 7,
    "start_time": "2023-10-25T13:25:48.287Z"
   },
   {
    "duration": 12,
    "start_time": "2023-10-25T13:25:48.523Z"
   },
   {
    "duration": 14,
    "start_time": "2023-10-25T13:25:49.796Z"
   },
   {
    "duration": 9,
    "start_time": "2023-10-25T13:25:49.973Z"
   },
   {
    "duration": 6,
    "start_time": "2023-10-25T13:25:50.303Z"
   },
   {
    "duration": 11,
    "start_time": "2023-10-25T13:25:51.734Z"
   },
   {
    "duration": 12,
    "start_time": "2023-10-25T13:25:51.868Z"
   },
   {
    "duration": 28,
    "start_time": "2023-10-25T13:25:52.007Z"
   },
   {
    "duration": 9,
    "start_time": "2023-10-25T13:25:52.138Z"
   },
   {
    "duration": 7,
    "start_time": "2023-10-25T13:25:52.312Z"
   },
   {
    "duration": 7,
    "start_time": "2023-10-25T13:25:52.774Z"
   },
   {
    "duration": 10,
    "start_time": "2023-10-25T13:25:52.892Z"
   },
   {
    "duration": 14,
    "start_time": "2023-10-25T13:25:54.314Z"
   },
   {
    "duration": 6,
    "start_time": "2023-10-25T13:25:54.478Z"
   },
   {
    "duration": 50,
    "start_time": "2023-10-25T13:25:54.485Z"
   },
   {
    "duration": 3,
    "start_time": "2023-10-25T13:25:58.225Z"
   },
   {
    "duration": 33,
    "start_time": "2023-10-25T13:25:58.467Z"
   },
   {
    "duration": 4,
    "start_time": "2023-10-25T13:26:04.974Z"
   },
   {
    "duration": 13,
    "start_time": "2023-10-25T13:26:05.099Z"
   },
   {
    "duration": 5,
    "start_time": "2023-10-25T13:26:07.766Z"
   },
   {
    "duration": 15,
    "start_time": "2023-10-25T13:26:10.716Z"
   },
   {
    "duration": 14,
    "start_time": "2023-10-25T13:26:29.716Z"
   },
   {
    "duration": 43,
    "start_time": "2023-10-25T13:26:33.907Z"
   },
   {
    "duration": 16,
    "start_time": "2023-10-25T13:26:34.092Z"
   },
   {
    "duration": 2,
    "start_time": "2023-10-25T13:28:52.488Z"
   },
   {
    "duration": 2,
    "start_time": "2023-10-25T13:29:00.636Z"
   },
   {
    "duration": 11470,
    "start_time": "2023-10-25T13:29:04.474Z"
   },
   {
    "duration": 27,
    "start_time": "2023-10-25T13:29:15.946Z"
   },
   {
    "duration": 7,
    "start_time": "2023-10-25T13:29:21.015Z"
   },
   {
    "duration": 158,
    "start_time": "2023-10-25T13:30:13.536Z"
   },
   {
    "duration": 212,
    "start_time": "2023-10-25T13:30:17.571Z"
   },
   {
    "duration": 211,
    "start_time": "2023-10-25T13:30:19.227Z"
   },
   {
    "duration": 3783,
    "start_time": "2023-10-25T13:30:39.074Z"
   },
   {
    "duration": 11,
    "start_time": "2023-10-25T13:30:48.585Z"
   },
   {
    "duration": 20,
    "start_time": "2023-10-25T13:30:51.536Z"
   },
   {
    "duration": 3,
    "start_time": "2023-10-25T13:30:51.687Z"
   },
   {
    "duration": 2,
    "start_time": "2023-10-25T13:30:52.237Z"
   },
   {
    "duration": 99,
    "start_time": "2023-10-25T13:31:01.703Z"
   },
   {
    "duration": 50,
    "start_time": "2023-10-25T13:31:05.974Z"
   },
   {
    "duration": 9105,
    "start_time": "2023-10-25T13:31:13.524Z"
   },
   {
    "duration": 26,
    "start_time": "2023-10-25T14:34:12.676Z"
   },
   {
    "duration": 120360,
    "start_time": "2023-10-25T14:34:20.275Z"
   },
   {
    "duration": 485667,
    "start_time": "2023-10-25T14:36:20.637Z"
   },
   {
    "duration": 3656,
    "start_time": "2023-10-25T14:44:26.306Z"
   },
   {
    "duration": 16,
    "start_time": "2023-10-25T14:44:29.965Z"
   },
   {
    "duration": 196,
    "start_time": "2023-10-25T14:44:29.986Z"
   },
   {
    "duration": 13,
    "start_time": "2023-10-25T14:44:30.184Z"
   },
   {
    "duration": 347,
    "start_time": "2023-10-25T14:44:30.199Z"
   },
   {
    "duration": 23,
    "start_time": "2023-10-25T15:08:47.779Z"
   },
   {
    "duration": 133,
    "start_time": "2023-10-25T15:09:33.560Z"
   },
   {
    "duration": 5,
    "start_time": "2023-10-25T15:09:35.769Z"
   },
   {
    "duration": 46697,
    "start_time": "2023-10-25T15:09:55.233Z"
   },
   {
    "duration": 20,
    "start_time": "2023-10-25T15:10:48.992Z"
   },
   {
    "duration": 29,
    "start_time": "2023-10-25T15:10:56.503Z"
   },
   {
    "duration": 19,
    "start_time": "2023-10-25T15:11:08.344Z"
   },
   {
    "duration": 4,
    "start_time": "2023-10-25T15:12:11.751Z"
   },
   {
    "duration": 14,
    "start_time": "2023-10-25T15:12:14.416Z"
   },
   {
    "duration": 33,
    "start_time": "2023-10-25T15:12:26.752Z"
   },
   {
    "duration": 12,
    "start_time": "2023-10-25T15:12:34.416Z"
   },
   {
    "duration": 185,
    "start_time": "2023-10-25T15:12:45.574Z"
   },
   {
    "duration": 13,
    "start_time": "2023-10-25T15:14:26.074Z"
   },
   {
    "duration": 15,
    "start_time": "2023-10-25T15:14:38.552Z"
   },
   {
    "duration": 11,
    "start_time": "2023-10-25T15:14:56.335Z"
   },
   {
    "duration": 14,
    "start_time": "2023-10-25T15:15:05.639Z"
   },
   {
    "duration": 193,
    "start_time": "2023-10-25T15:15:14.113Z"
   },
   {
    "duration": 2697,
    "start_time": "2023-10-25T15:15:44.798Z"
   },
   {
    "duration": 0,
    "start_time": "2023-10-25T15:15:47.497Z"
   },
   {
    "duration": 6,
    "start_time": "2023-10-25T15:16:07.854Z"
   },
   {
    "duration": 4,
    "start_time": "2023-10-25T15:16:11.097Z"
   },
   {
    "duration": 12,
    "start_time": "2023-10-25T15:16:17.727Z"
   },
   {
    "duration": 192,
    "start_time": "2023-10-25T15:16:18.595Z"
   },
   {
    "duration": 16832,
    "start_time": "2023-10-25T15:16:20.351Z"
   },
   {
    "duration": 19,
    "start_time": "2023-10-25T15:16:49.447Z"
   },
   {
    "duration": 249,
    "start_time": "2023-10-25T15:16:50.006Z"
   },
   {
    "duration": 12,
    "start_time": "2023-10-25T15:17:16.054Z"
   },
   {
    "duration": 201,
    "start_time": "2023-10-25T15:17:16.406Z"
   },
   {
    "duration": 227,
    "start_time": "2023-10-25T15:18:20.255Z"
   },
   {
    "duration": 210,
    "start_time": "2023-10-25T15:18:24.214Z"
   },
   {
    "duration": 259,
    "start_time": "2023-10-25T15:18:29.914Z"
   },
   {
    "duration": 244,
    "start_time": "2023-10-25T15:18:32.750Z"
   },
   {
    "duration": 168,
    "start_time": "2023-10-25T15:19:53.096Z"
   },
   {
    "duration": 270,
    "start_time": "2023-10-25T15:20:03.117Z"
   },
   {
    "duration": 265,
    "start_time": "2023-10-25T15:20:07.247Z"
   },
   {
    "duration": 263,
    "start_time": "2023-10-25T15:20:19.884Z"
   },
   {
    "duration": 252,
    "start_time": "2023-10-25T15:20:31.335Z"
   },
   {
    "duration": 123,
    "start_time": "2023-10-25T15:20:40.854Z"
   },
   {
    "duration": 254,
    "start_time": "2023-10-25T15:20:44.101Z"
   },
   {
    "duration": 271,
    "start_time": "2023-10-25T15:20:52.198Z"
   },
   {
    "duration": 15,
    "start_time": "2023-10-25T15:20:58.757Z"
   },
   {
    "duration": 319,
    "start_time": "2023-10-25T15:20:58.932Z"
   },
   {
    "duration": 258,
    "start_time": "2023-10-25T15:21:52.446Z"
   },
   {
    "duration": 158,
    "start_time": "2023-10-25T15:22:17.405Z"
   },
   {
    "duration": 169,
    "start_time": "2023-10-25T15:38:21.907Z"
   },
   {
    "duration": 197,
    "start_time": "2023-10-25T15:38:26.491Z"
   },
   {
    "duration": 281,
    "start_time": "2023-10-25T15:38:33.301Z"
   },
   {
    "duration": 245,
    "start_time": "2023-10-25T15:38:38.114Z"
   },
   {
    "duration": 194,
    "start_time": "2023-10-25T15:38:42.641Z"
   },
   {
    "duration": 206,
    "start_time": "2023-10-25T15:38:55.842Z"
   },
   {
    "duration": 147,
    "start_time": "2023-10-25T15:39:24.346Z"
   },
   {
    "duration": 194,
    "start_time": "2023-10-25T15:39:35.817Z"
   },
   {
    "duration": 120,
    "start_time": "2023-10-25T15:39:49.298Z"
   },
   {
    "duration": 128,
    "start_time": "2023-10-25T15:39:55.499Z"
   },
   {
    "duration": 116,
    "start_time": "2023-10-25T15:40:06.668Z"
   },
   {
    "duration": 104,
    "start_time": "2023-10-25T15:40:22.803Z"
   },
   {
    "duration": 101,
    "start_time": "2023-10-25T15:40:49.210Z"
   },
   {
    "duration": 167,
    "start_time": "2023-10-25T15:41:00.833Z"
   },
   {
    "duration": 105,
    "start_time": "2023-10-25T15:41:06.385Z"
   },
   {
    "duration": 117,
    "start_time": "2023-10-25T15:41:06.825Z"
   },
   {
    "duration": 126,
    "start_time": "2023-10-25T15:41:33.948Z"
   },
   {
    "duration": 98,
    "start_time": "2023-10-25T15:41:39.977Z"
   },
   {
    "duration": 101,
    "start_time": "2023-10-25T15:42:31.745Z"
   },
   {
    "duration": 106,
    "start_time": "2023-10-25T15:42:41.448Z"
   },
   {
    "duration": 97,
    "start_time": "2023-10-25T15:42:45.992Z"
   },
   {
    "duration": 95,
    "start_time": "2023-10-25T15:42:49.209Z"
   },
   {
    "duration": 2,
    "start_time": "2023-10-25T15:42:59.226Z"
   },
   {
    "duration": 4,
    "start_time": "2023-10-25T15:43:11.184Z"
   },
   {
    "duration": 4,
    "start_time": "2023-10-25T15:43:19.579Z"
   },
   {
    "duration": 5,
    "start_time": "2023-10-25T15:43:24.381Z"
   },
   {
    "duration": 12,
    "start_time": "2023-10-25T15:43:33.993Z"
   },
   {
    "duration": 7,
    "start_time": "2023-10-25T15:43:39.025Z"
   },
   {
    "duration": 5,
    "start_time": "2023-10-25T15:43:46.585Z"
   },
   {
    "duration": 6,
    "start_time": "2023-10-25T15:44:32.131Z"
   },
   {
    "duration": 5,
    "start_time": "2023-10-25T15:44:38.136Z"
   },
   {
    "duration": 6,
    "start_time": "2023-10-25T15:44:42.883Z"
   },
   {
    "duration": 88,
    "start_time": "2023-10-25T15:45:40.395Z"
   },
   {
    "duration": 105,
    "start_time": "2023-10-25T15:45:52.089Z"
   },
   {
    "duration": 22,
    "start_time": "2023-10-25T15:45:56.378Z"
   },
   {
    "duration": 19,
    "start_time": "2023-10-25T15:45:59.479Z"
   },
   {
    "duration": 273,
    "start_time": "2023-10-25T15:46:01.952Z"
   },
   {
    "duration": 3,
    "start_time": "2023-10-25T15:46:11.848Z"
   },
   {
    "duration": 21,
    "start_time": "2023-10-25T15:46:12.174Z"
   },
   {
    "duration": 282,
    "start_time": "2023-10-25T15:46:12.615Z"
   },
   {
    "duration": 5,
    "start_time": "2023-10-25T15:46:28.275Z"
   },
   {
    "duration": 6,
    "start_time": "2023-10-25T15:46:56.424Z"
   },
   {
    "duration": 102,
    "start_time": "2023-10-25T15:47:12.910Z"
   },
   {
    "duration": 101,
    "start_time": "2023-10-25T15:47:36.416Z"
   },
   {
    "duration": 104,
    "start_time": "2023-10-25T15:48:38.352Z"
   },
   {
    "duration": 5,
    "start_time": "2023-10-25T15:49:34.926Z"
   },
   {
    "duration": 5,
    "start_time": "2023-10-25T15:49:46.425Z"
   },
   {
    "duration": 5,
    "start_time": "2023-10-25T15:50:45.080Z"
   },
   {
    "duration": 5,
    "start_time": "2023-10-25T15:50:48.879Z"
   },
   {
    "duration": 3,
    "start_time": "2023-10-25T15:58:20.281Z"
   },
   {
    "duration": 17,
    "start_time": "2023-10-25T15:58:23.278Z"
   },
   {
    "duration": 5,
    "start_time": "2023-10-25T15:58:23.629Z"
   },
   {
    "duration": 253,
    "start_time": "2023-10-25T15:58:24.349Z"
   },
   {
    "duration": 109,
    "start_time": "2023-10-25T16:05:25.030Z"
   },
   {
    "duration": 184,
    "start_time": "2023-10-25T16:11:11.576Z"
   },
   {
    "duration": 13,
    "start_time": "2023-10-25T16:11:14.473Z"
   },
   {
    "duration": 329,
    "start_time": "2023-10-25T16:11:34.115Z"
   },
   {
    "duration": 312,
    "start_time": "2023-10-25T16:12:58.535Z"
   },
   {
    "duration": 309,
    "start_time": "2023-10-25T16:13:17.218Z"
   },
   {
    "duration": 316,
    "start_time": "2023-10-25T16:13:24.123Z"
   },
   {
    "duration": 307,
    "start_time": "2023-10-25T16:13:49.739Z"
   },
   {
    "duration": 325,
    "start_time": "2023-10-25T16:14:00.723Z"
   },
   {
    "duration": 295,
    "start_time": "2023-10-25T16:14:07.287Z"
   },
   {
    "duration": 4229,
    "start_time": "2023-10-25T16:32:19.613Z"
   },
   {
    "duration": 114,
    "start_time": "2023-10-25T16:32:23.845Z"
   },
   {
    "duration": 17,
    "start_time": "2023-10-25T16:32:23.961Z"
   },
   {
    "duration": 54,
    "start_time": "2023-10-25T16:32:23.981Z"
   },
   {
    "duration": 64,
    "start_time": "2023-10-25T16:32:24.037Z"
   },
   {
    "duration": 45,
    "start_time": "2023-10-25T16:32:24.103Z"
   },
   {
    "duration": 28,
    "start_time": "2023-10-25T16:32:24.150Z"
   },
   {
    "duration": 48,
    "start_time": "2023-10-25T16:32:24.181Z"
   },
   {
    "duration": 29,
    "start_time": "2023-10-25T16:32:24.232Z"
   },
   {
    "duration": 14,
    "start_time": "2023-10-25T16:32:24.266Z"
   },
   {
    "duration": 27,
    "start_time": "2023-10-25T16:32:24.282Z"
   },
   {
    "duration": 30,
    "start_time": "2023-10-25T16:32:24.311Z"
   },
   {
    "duration": 28,
    "start_time": "2023-10-25T16:32:24.344Z"
   },
   {
    "duration": 12,
    "start_time": "2023-10-25T16:32:24.374Z"
   },
   {
    "duration": 11,
    "start_time": "2023-10-25T16:32:24.389Z"
   },
   {
    "duration": 20,
    "start_time": "2023-10-25T16:32:24.401Z"
   },
   {
    "duration": 29,
    "start_time": "2023-10-25T16:32:24.423Z"
   },
   {
    "duration": 36,
    "start_time": "2023-10-25T16:32:24.453Z"
   },
   {
    "duration": 8,
    "start_time": "2023-10-25T16:32:24.491Z"
   },
   {
    "duration": 9,
    "start_time": "2023-10-25T16:32:24.500Z"
   },
   {
    "duration": 7,
    "start_time": "2023-10-25T16:32:24.545Z"
   },
   {
    "duration": 20,
    "start_time": "2023-10-25T16:32:24.553Z"
   },
   {
    "duration": 22,
    "start_time": "2023-10-25T16:32:24.574Z"
   },
   {
    "duration": 11,
    "start_time": "2023-10-25T16:32:24.598Z"
   },
   {
    "duration": 12,
    "start_time": "2023-10-25T16:32:24.644Z"
   },
   {
    "duration": 19,
    "start_time": "2023-10-25T16:32:24.657Z"
   },
   {
    "duration": 38,
    "start_time": "2023-10-25T16:32:24.678Z"
   },
   {
    "duration": 4,
    "start_time": "2023-10-25T16:32:24.720Z"
   },
   {
    "duration": 17,
    "start_time": "2023-10-25T16:32:24.744Z"
   },
   {
    "duration": 12,
    "start_time": "2023-10-25T16:32:24.764Z"
   },
   {
    "duration": 36,
    "start_time": "2023-10-25T16:32:24.778Z"
   },
   {
    "duration": 17,
    "start_time": "2023-10-25T16:32:24.817Z"
   },
   {
    "duration": 46,
    "start_time": "2023-10-25T16:32:24.836Z"
   },
   {
    "duration": 18,
    "start_time": "2023-10-25T16:32:24.883Z"
   },
   {
    "duration": 8,
    "start_time": "2023-10-25T16:32:24.903Z"
   },
   {
    "duration": 39,
    "start_time": "2023-10-25T16:32:24.913Z"
   },
   {
    "duration": 12324,
    "start_time": "2023-10-25T16:32:24.954Z"
   },
   {
    "duration": 32,
    "start_time": "2023-10-25T16:32:37.280Z"
   },
   {
    "duration": 7,
    "start_time": "2023-10-25T16:32:37.313Z"
   },
   {
    "duration": 210,
    "start_time": "2023-10-25T16:32:37.322Z"
   },
   {
    "duration": 256,
    "start_time": "2023-10-25T16:32:37.533Z"
   },
   {
    "duration": 336,
    "start_time": "2023-10-25T16:32:37.791Z"
   },
   {
    "duration": 4,
    "start_time": "2023-10-25T16:32:38.129Z"
   },
   {
    "duration": 27,
    "start_time": "2023-10-25T16:32:38.134Z"
   },
   {
    "duration": 282,
    "start_time": "2023-10-25T16:32:38.162Z"
   },
   {
    "duration": 114,
    "start_time": "2023-10-25T16:32:38.446Z"
   },
   {
    "duration": 131,
    "start_time": "2023-10-25T16:32:38.561Z"
   },
   {
    "duration": 107,
    "start_time": "2023-10-25T16:32:38.693Z"
   },
   {
    "duration": 150,
    "start_time": "2023-10-25T16:32:38.802Z"
   },
   {
    "duration": 3928,
    "start_time": "2023-10-25T16:32:38.955Z"
   },
   {
    "duration": 16,
    "start_time": "2023-10-25T16:32:42.885Z"
   },
   {
    "duration": 50,
    "start_time": "2023-10-25T16:32:42.903Z"
   },
   {
    "duration": 8,
    "start_time": "2023-10-25T16:32:42.954Z"
   },
   {
    "duration": 17,
    "start_time": "2023-10-25T16:32:42.963Z"
   },
   {
    "duration": 114,
    "start_time": "2023-10-25T16:32:42.981Z"
   },
   {
    "duration": 68,
    "start_time": "2023-10-25T16:32:43.097Z"
   },
   {
    "duration": 9978,
    "start_time": "2023-10-25T16:32:43.167Z"
   },
   {
    "duration": 120547,
    "start_time": "2023-10-25T16:32:53.147Z"
   },
   {
    "duration": 485206,
    "start_time": "2023-10-25T16:34:53.696Z"
   },
   {
    "duration": 9,
    "start_time": "2023-10-25T16:42:58.905Z"
   },
   {
    "duration": 3923,
    "start_time": "2023-10-25T16:42:58.916Z"
   },
   {
    "duration": 25,
    "start_time": "2023-10-25T16:43:02.842Z"
   },
   {
    "duration": 221,
    "start_time": "2023-10-25T16:43:02.869Z"
   },
   {
    "duration": 11,
    "start_time": "2023-10-25T16:43:03.091Z"
   },
   {
    "duration": 480,
    "start_time": "2023-10-25T16:43:03.103Z"
   },
   {
    "duration": 12,
    "start_time": "2023-10-25T16:44:25.079Z"
   },
   {
    "duration": 6121,
    "start_time": "2023-10-26T12:06:31.760Z"
   },
   {
    "duration": 362,
    "start_time": "2023-10-26T12:06:37.883Z"
   },
   {
    "duration": 16,
    "start_time": "2023-10-26T12:06:38.247Z"
   },
   {
    "duration": 33,
    "start_time": "2023-10-26T12:06:38.265Z"
   },
   {
    "duration": 33,
    "start_time": "2023-10-26T12:06:38.300Z"
   },
   {
    "duration": 11,
    "start_time": "2023-10-26T12:06:38.334Z"
   },
   {
    "duration": 7,
    "start_time": "2023-10-26T12:06:38.346Z"
   },
   {
    "duration": 15,
    "start_time": "2023-10-26T12:06:38.355Z"
   },
   {
    "duration": 31,
    "start_time": "2023-10-26T12:06:38.371Z"
   },
   {
    "duration": 14,
    "start_time": "2023-10-26T12:06:38.404Z"
   },
   {
    "duration": 22,
    "start_time": "2023-10-26T12:06:38.419Z"
   },
   {
    "duration": 21,
    "start_time": "2023-10-26T12:06:38.442Z"
   },
   {
    "duration": 20,
    "start_time": "2023-10-26T12:06:38.464Z"
   },
   {
    "duration": 22,
    "start_time": "2023-10-26T12:06:38.486Z"
   },
   {
    "duration": 14,
    "start_time": "2023-10-26T12:06:38.510Z"
   },
   {
    "duration": 17,
    "start_time": "2023-10-26T12:06:38.525Z"
   },
   {
    "duration": 40,
    "start_time": "2023-10-26T12:06:38.543Z"
   },
   {
    "duration": 46,
    "start_time": "2023-10-26T12:06:38.584Z"
   },
   {
    "duration": 7,
    "start_time": "2023-10-26T12:06:38.632Z"
   },
   {
    "duration": 17,
    "start_time": "2023-10-26T12:06:38.641Z"
   },
   {
    "duration": 15,
    "start_time": "2023-10-26T12:06:38.662Z"
   },
   {
    "duration": 11,
    "start_time": "2023-10-26T12:06:38.713Z"
   },
   {
    "duration": 20,
    "start_time": "2023-10-26T12:06:38.840Z"
   },
   {
    "duration": 8,
    "start_time": "2023-10-26T12:06:38.983Z"
   },
   {
    "duration": 6,
    "start_time": "2023-10-26T12:06:40.840Z"
   },
   {
    "duration": 2,
    "start_time": "2023-10-26T12:06:43.240Z"
   },
   {
    "duration": 34,
    "start_time": "2023-10-26T12:06:43.400Z"
   },
   {
    "duration": 5,
    "start_time": "2023-10-26T12:06:46.264Z"
   },
   {
    "duration": 14,
    "start_time": "2023-10-26T12:06:46.401Z"
   },
   {
    "duration": 4,
    "start_time": "2023-10-26T12:06:47.968Z"
   },
   {
    "duration": 17,
    "start_time": "2023-10-26T12:06:49.234Z"
   },
   {
    "duration": 17,
    "start_time": "2023-10-26T12:06:57.808Z"
   },
   {
    "duration": 44,
    "start_time": "2023-10-26T12:07:03.664Z"
   },
   {
    "duration": 18,
    "start_time": "2023-10-26T12:07:04.064Z"
   },
   {
    "duration": 14,
    "start_time": "2023-10-26T12:09:25.592Z"
   },
   {
    "duration": 25,
    "start_time": "2023-10-26T12:10:54.968Z"
   },
   {
    "duration": 6,
    "start_time": "2023-10-26T12:11:29.896Z"
   },
   {
    "duration": 207,
    "start_time": "2023-10-26T12:11:32.223Z"
   },
   {
    "duration": 269,
    "start_time": "2023-10-26T12:11:34.463Z"
   },
   {
    "duration": 264,
    "start_time": "2023-10-26T12:11:36.102Z"
   },
   {
    "duration": 3,
    "start_time": "2023-10-26T12:11:38.935Z"
   },
   {
    "duration": 125,
    "start_time": "2023-10-26T12:11:40.591Z"
   },
   {
    "duration": 266,
    "start_time": "2023-10-26T12:11:41.047Z"
   },
   {
    "duration": 3,
    "start_time": "2023-10-26T12:12:04.904Z"
   },
   {
    "duration": 17,
    "start_time": "2023-10-26T12:12:05.544Z"
   },
   {
    "duration": 295,
    "start_time": "2023-10-26T12:12:06.655Z"
   },
   {
    "duration": 122,
    "start_time": "2023-10-26T12:12:25.279Z"
   },
   {
    "duration": 122,
    "start_time": "2023-10-26T12:12:29.694Z"
   },
   {
    "duration": 95,
    "start_time": "2023-10-26T12:12:43.199Z"
   },
   {
    "duration": 104,
    "start_time": "2023-10-26T12:12:43.726Z"
   },
   {
    "duration": 3438,
    "start_time": "2023-10-26T12:12:46.687Z"
   },
   {
    "duration": 11,
    "start_time": "2023-10-26T12:13:28.679Z"
   },
   {
    "duration": 17,
    "start_time": "2023-10-26T12:13:34.278Z"
   },
   {
    "duration": 3,
    "start_time": "2023-10-26T12:13:37.950Z"
   },
   {
    "duration": 2,
    "start_time": "2023-10-26T12:13:38.255Z"
   },
   {
    "duration": 13,
    "start_time": "2023-10-26T12:13:39.847Z"
   },
   {
    "duration": 3,
    "start_time": "2023-10-26T12:13:53.503Z"
   },
   {
    "duration": 3,
    "start_time": "2023-10-26T12:13:54.230Z"
   },
   {
    "duration": 195,
    "start_time": "2023-10-26T12:13:55.367Z"
   },
   {
    "duration": 53,
    "start_time": "2023-10-26T12:14:18.175Z"
   },
   {
    "duration": 9903,
    "start_time": "2023-10-26T12:14:25.710Z"
   },
   {
    "duration": 481,
    "start_time": "2023-10-26T12:16:19.311Z"
   },
   {
    "duration": 10489,
    "start_time": "2023-10-26T12:16:28.102Z"
   },
   {
    "duration": 10324,
    "start_time": "2023-10-26T12:16:42.749Z"
   },
   {
    "duration": 5,
    "start_time": "2023-10-26T12:17:01.302Z"
   },
   {
    "duration": 3,
    "start_time": "2023-10-26T12:17:51.350Z"
   },
   {
    "duration": 9911,
    "start_time": "2023-10-26T12:18:52.635Z"
   },
   {
    "duration": 4,
    "start_time": "2023-10-26T12:19:10.302Z"
   },
   {
    "duration": 4,
    "start_time": "2023-10-26T12:19:15.350Z"
   },
   {
    "duration": 4,
    "start_time": "2023-10-26T12:19:19.989Z"
   },
   {
    "duration": 130584,
    "start_time": "2023-10-26T12:20:41.663Z"
   },
   {
    "duration": 720742,
    "start_time": "2023-10-26T12:22:52.249Z"
   },
   {
    "duration": 10,
    "start_time": "2023-10-26T12:34:52.993Z"
   },
   {
    "duration": 4,
    "start_time": "2023-10-26T12:35:10.193Z"
   },
   {
    "duration": 4,
    "start_time": "2023-10-26T12:35:12.690Z"
   },
   {
    "duration": 9,
    "start_time": "2023-10-26T12:35:21.375Z"
   },
   {
    "duration": 12,
    "start_time": "2023-10-26T12:35:25.888Z"
   },
   {
    "duration": 10,
    "start_time": "2023-10-26T12:35:36.536Z"
   },
   {
    "duration": 11,
    "start_time": "2023-10-26T12:35:40.729Z"
   },
   {
    "duration": 19,
    "start_time": "2023-10-26T12:36:03.921Z"
   },
   {
    "duration": 4727,
    "start_time": "2023-10-26T12:36:06.397Z"
   },
   {
    "duration": 16,
    "start_time": "2023-10-26T12:36:11.126Z"
   },
   {
    "duration": 16,
    "start_time": "2023-10-26T12:36:22.088Z"
   },
   {
    "duration": 183,
    "start_time": "2023-10-26T12:36:23.401Z"
   },
   {
    "duration": 11,
    "start_time": "2023-10-26T12:36:24.593Z"
   },
   {
    "duration": 311,
    "start_time": "2023-10-26T12:36:26.633Z"
   },
   {
    "duration": 4112,
    "start_time": "2023-10-26T12:36:50.581Z"
   },
   {
    "duration": 110,
    "start_time": "2023-10-26T12:36:54.696Z"
   },
   {
    "duration": 18,
    "start_time": "2023-10-26T12:36:54.808Z"
   },
   {
    "duration": 14,
    "start_time": "2023-10-26T12:36:54.828Z"
   },
   {
    "duration": 22,
    "start_time": "2023-10-26T12:36:54.845Z"
   },
   {
    "duration": 10,
    "start_time": "2023-10-26T12:36:54.869Z"
   },
   {
    "duration": 12,
    "start_time": "2023-10-26T12:36:54.881Z"
   },
   {
    "duration": 11,
    "start_time": "2023-10-26T12:36:54.895Z"
   },
   {
    "duration": 45,
    "start_time": "2023-10-26T12:36:54.907Z"
   },
   {
    "duration": 6,
    "start_time": "2023-10-26T12:36:54.954Z"
   },
   {
    "duration": 19,
    "start_time": "2023-10-26T12:36:54.962Z"
   },
   {
    "duration": 15,
    "start_time": "2023-10-26T12:36:54.983Z"
   },
   {
    "duration": 15,
    "start_time": "2023-10-26T12:36:55.000Z"
   },
   {
    "duration": 32,
    "start_time": "2023-10-26T12:36:55.018Z"
   },
   {
    "duration": 37,
    "start_time": "2023-10-26T12:36:55.051Z"
   },
   {
    "duration": 21,
    "start_time": "2023-10-26T12:36:55.090Z"
   },
   {
    "duration": 24,
    "start_time": "2023-10-26T12:36:55.113Z"
   },
   {
    "duration": 54,
    "start_time": "2023-10-26T12:36:55.139Z"
   },
   {
    "duration": 8,
    "start_time": "2023-10-26T12:36:55.194Z"
   },
   {
    "duration": 61,
    "start_time": "2023-10-26T12:36:55.204Z"
   },
   {
    "duration": 10,
    "start_time": "2023-10-26T12:36:55.267Z"
   },
   {
    "duration": 14,
    "start_time": "2023-10-26T12:36:55.279Z"
   },
   {
    "duration": 38,
    "start_time": "2023-10-26T12:36:55.295Z"
   },
   {
    "duration": 12,
    "start_time": "2023-10-26T12:36:55.335Z"
   },
   {
    "duration": 23,
    "start_time": "2023-10-26T12:36:55.348Z"
   },
   {
    "duration": 19,
    "start_time": "2023-10-26T12:36:55.372Z"
   },
   {
    "duration": 59,
    "start_time": "2023-10-26T12:36:55.393Z"
   },
   {
    "duration": 38,
    "start_time": "2023-10-26T12:36:55.454Z"
   },
   {
    "duration": 78,
    "start_time": "2023-10-26T12:36:55.493Z"
   },
   {
    "duration": 24,
    "start_time": "2023-10-26T12:36:55.573Z"
   },
   {
    "duration": 33,
    "start_time": "2023-10-26T12:36:55.599Z"
   },
   {
    "duration": 39,
    "start_time": "2023-10-26T12:36:55.634Z"
   },
   {
    "duration": 40,
    "start_time": "2023-10-26T12:36:55.675Z"
   },
   {
    "duration": 18,
    "start_time": "2023-10-26T12:36:55.717Z"
   },
   {
    "duration": 16,
    "start_time": "2023-10-26T12:36:55.737Z"
   },
   {
    "duration": 27,
    "start_time": "2023-10-26T12:36:55.754Z"
   },
   {
    "duration": 6,
    "start_time": "2023-10-26T12:36:55.783Z"
   },
   {
    "duration": 237,
    "start_time": "2023-10-26T12:36:55.791Z"
   },
   {
    "duration": 265,
    "start_time": "2023-10-26T12:36:56.030Z"
   },
   {
    "duration": 331,
    "start_time": "2023-10-26T12:36:56.297Z"
   },
   {
    "duration": 13,
    "start_time": "2023-10-26T12:36:56.632Z"
   },
   {
    "duration": 30,
    "start_time": "2023-10-26T12:36:56.646Z"
   },
   {
    "duration": 269,
    "start_time": "2023-10-26T12:36:56.678Z"
   },
   {
    "duration": 117,
    "start_time": "2023-10-26T12:36:56.949Z"
   },
   {
    "duration": 128,
    "start_time": "2023-10-26T12:36:57.068Z"
   },
   {
    "duration": 112,
    "start_time": "2023-10-26T12:36:57.198Z"
   },
   {
    "duration": 116,
    "start_time": "2023-10-26T12:36:57.312Z"
   },
   {
    "duration": 3555,
    "start_time": "2023-10-26T12:36:57.430Z"
   },
   {
    "duration": 15,
    "start_time": "2023-10-26T12:37:00.988Z"
   },
   {
    "duration": 65,
    "start_time": "2023-10-26T12:37:01.005Z"
   },
   {
    "duration": 121,
    "start_time": "2023-10-26T12:37:01.072Z"
   },
   {
    "duration": 33,
    "start_time": "2023-10-26T12:37:01.195Z"
   },
   {
    "duration": 247,
    "start_time": "2023-10-26T12:37:01.230Z"
   },
   {
    "duration": 73,
    "start_time": "2023-10-26T12:37:01.479Z"
   },
   {
    "duration": 10392,
    "start_time": "2023-10-26T12:37:01.553Z"
   },
   {
    "duration": 129010,
    "start_time": "2023-10-26T12:37:11.947Z"
   },
   {
    "duration": 648938,
    "start_time": "2023-10-26T12:39:20.959Z"
   },
   {
    "duration": 13,
    "start_time": "2023-10-26T12:50:09.900Z"
   },
   {
    "duration": 4860,
    "start_time": "2023-10-26T12:50:09.915Z"
   },
   {
    "duration": 16,
    "start_time": "2023-10-26T12:50:14.777Z"
   },
   {
    "duration": 183,
    "start_time": "2023-10-26T12:50:14.795Z"
   },
   {
    "duration": 12,
    "start_time": "2023-10-26T12:50:14.979Z"
   },
   {
    "duration": 362,
    "start_time": "2023-10-26T12:50:14.992Z"
   },
   {
    "duration": 26,
    "start_time": "2023-10-26T13:01:16.205Z"
   },
   {
    "duration": 28,
    "start_time": "2023-10-26T13:01:22.788Z"
   },
   {
    "duration": 4642,
    "start_time": "2023-10-26T13:02:57.480Z"
   },
   {
    "duration": 115,
    "start_time": "2023-10-26T13:03:02.125Z"
   },
   {
    "duration": 19,
    "start_time": "2023-10-26T13:03:02.242Z"
   },
   {
    "duration": 65,
    "start_time": "2023-10-26T13:03:02.263Z"
   },
   {
    "duration": 53,
    "start_time": "2023-10-26T13:03:02.330Z"
   },
   {
    "duration": 54,
    "start_time": "2023-10-26T13:03:02.384Z"
   },
   {
    "duration": 34,
    "start_time": "2023-10-26T13:03:02.439Z"
   },
   {
    "duration": 37,
    "start_time": "2023-10-26T13:03:02.474Z"
   },
   {
    "duration": 62,
    "start_time": "2023-10-26T13:03:02.513Z"
   },
   {
    "duration": 55,
    "start_time": "2023-10-26T13:03:02.577Z"
   },
   {
    "duration": 55,
    "start_time": "2023-10-26T13:03:02.634Z"
   },
   {
    "duration": 29,
    "start_time": "2023-10-26T13:03:02.691Z"
   },
   {
    "duration": 41,
    "start_time": "2023-10-26T13:03:02.722Z"
   },
   {
    "duration": 84,
    "start_time": "2023-10-26T13:03:02.766Z"
   },
   {
    "duration": 113,
    "start_time": "2023-10-26T13:03:02.852Z"
   },
   {
    "duration": 150,
    "start_time": "2023-10-26T13:03:02.967Z"
   },
   {
    "duration": 285,
    "start_time": "2023-10-26T13:03:03.119Z"
   },
   {
    "duration": 55,
    "start_time": "2023-10-26T13:03:03.405Z"
   },
   {
    "duration": 19,
    "start_time": "2023-10-26T13:03:03.463Z"
   },
   {
    "duration": 21,
    "start_time": "2023-10-26T13:03:03.485Z"
   },
   {
    "duration": 48,
    "start_time": "2023-10-26T13:03:03.508Z"
   },
   {
    "duration": 30,
    "start_time": "2023-10-26T13:03:03.558Z"
   },
   {
    "duration": 33,
    "start_time": "2023-10-26T13:03:03.590Z"
   },
   {
    "duration": 25,
    "start_time": "2023-10-26T13:03:03.625Z"
   },
   {
    "duration": 79,
    "start_time": "2023-10-26T13:03:03.652Z"
   },
   {
    "duration": 24,
    "start_time": "2023-10-26T13:03:03.732Z"
   },
   {
    "duration": 51,
    "start_time": "2023-10-26T13:03:03.759Z"
   },
   {
    "duration": 4,
    "start_time": "2023-10-26T13:03:03.811Z"
   },
   {
    "duration": 47,
    "start_time": "2023-10-26T13:03:03.817Z"
   },
   {
    "duration": 18,
    "start_time": "2023-10-26T13:03:03.866Z"
   },
   {
    "duration": 40,
    "start_time": "2023-10-26T13:03:03.885Z"
   },
   {
    "duration": 36,
    "start_time": "2023-10-26T13:03:03.927Z"
   },
   {
    "duration": 42,
    "start_time": "2023-10-26T13:03:03.967Z"
   },
   {
    "duration": 18,
    "start_time": "2023-10-26T13:03:04.011Z"
   },
   {
    "duration": 66,
    "start_time": "2023-10-26T13:03:04.031Z"
   },
   {
    "duration": 43,
    "start_time": "2023-10-26T13:03:04.099Z"
   },
   {
    "duration": 6,
    "start_time": "2023-10-26T13:03:04.144Z"
   },
   {
    "duration": 224,
    "start_time": "2023-10-26T13:03:04.154Z"
   },
   {
    "duration": 270,
    "start_time": "2023-10-26T13:03:04.380Z"
   },
   {
    "duration": 354,
    "start_time": "2023-10-26T13:03:04.652Z"
   },
   {
    "duration": 5,
    "start_time": "2023-10-26T13:03:05.010Z"
   },
   {
    "duration": 63,
    "start_time": "2023-10-26T13:03:05.016Z"
   },
   {
    "duration": 283,
    "start_time": "2023-10-26T13:03:05.080Z"
   },
   {
    "duration": 119,
    "start_time": "2023-10-26T13:03:05.365Z"
   },
   {
    "duration": 134,
    "start_time": "2023-10-26T13:03:05.486Z"
   },
   {
    "duration": 109,
    "start_time": "2023-10-26T13:03:05.622Z"
   },
   {
    "duration": 116,
    "start_time": "2023-10-26T13:03:05.745Z"
   },
   {
    "duration": 3594,
    "start_time": "2023-10-26T13:03:05.863Z"
   },
   {
    "duration": 13,
    "start_time": "2023-10-26T13:03:09.460Z"
   },
   {
    "duration": 53,
    "start_time": "2023-10-26T13:03:09.474Z"
   },
   {
    "duration": 36,
    "start_time": "2023-10-26T13:03:09.529Z"
   },
   {
    "duration": 61,
    "start_time": "2023-10-26T13:03:09.566Z"
   },
   {
    "duration": 233,
    "start_time": "2023-10-26T13:03:09.628Z"
   },
   {
    "duration": 52,
    "start_time": "2023-10-26T13:03:09.863Z"
   },
   {
    "duration": 11101,
    "start_time": "2023-10-26T13:03:09.917Z"
   },
   {
    "duration": 133590,
    "start_time": "2023-10-26T13:03:21.019Z"
   },
   {
    "duration": 87011,
    "start_time": "2023-10-26T13:05:34.611Z"
   },
   {
    "duration": 11,
    "start_time": "2023-10-26T13:07:01.623Z"
   },
   {
    "duration": 0,
    "start_time": "2023-10-26T13:07:01.636Z"
   },
   {
    "duration": 0,
    "start_time": "2023-10-26T13:07:01.637Z"
   },
   {
    "duration": 0,
    "start_time": "2023-10-26T13:07:01.639Z"
   },
   {
    "duration": 0,
    "start_time": "2023-10-26T13:07:01.640Z"
   },
   {
    "duration": 0,
    "start_time": "2023-10-26T13:07:01.642Z"
   },
   {
    "duration": 2543,
    "start_time": "2023-10-26T13:07:22.332Z"
   },
   {
    "duration": 4244,
    "start_time": "2023-10-26T13:07:28.285Z"
   },
   {
    "duration": 110,
    "start_time": "2023-10-26T13:07:32.531Z"
   },
   {
    "duration": 25,
    "start_time": "2023-10-26T13:07:32.642Z"
   },
   {
    "duration": 69,
    "start_time": "2023-10-26T13:07:32.668Z"
   },
   {
    "duration": 91,
    "start_time": "2023-10-26T13:07:32.739Z"
   },
   {
    "duration": 56,
    "start_time": "2023-10-26T13:07:32.832Z"
   },
   {
    "duration": 39,
    "start_time": "2023-10-26T13:07:32.889Z"
   },
   {
    "duration": 334,
    "start_time": "2023-10-26T13:07:32.930Z"
   },
   {
    "duration": 113,
    "start_time": "2023-10-26T13:07:33.266Z"
   },
   {
    "duration": 261,
    "start_time": "2023-10-26T13:07:33.381Z"
   },
   {
    "duration": 75,
    "start_time": "2023-10-26T13:07:33.643Z"
   },
   {
    "duration": 47,
    "start_time": "2023-10-26T13:07:33.721Z"
   },
   {
    "duration": 49,
    "start_time": "2023-10-26T13:07:33.769Z"
   },
   {
    "duration": 46,
    "start_time": "2023-10-26T13:07:33.820Z"
   },
   {
    "duration": 47,
    "start_time": "2023-10-26T13:07:33.867Z"
   },
   {
    "duration": 155,
    "start_time": "2023-10-26T13:07:33.916Z"
   },
   {
    "duration": 198,
    "start_time": "2023-10-26T13:07:34.072Z"
   },
   {
    "duration": 51,
    "start_time": "2023-10-26T13:07:34.271Z"
   },
   {
    "duration": 12,
    "start_time": "2023-10-26T13:07:34.323Z"
   },
   {
    "duration": 37,
    "start_time": "2023-10-26T13:07:34.336Z"
   },
   {
    "duration": 81,
    "start_time": "2023-10-26T13:07:34.374Z"
   },
   {
    "duration": 40,
    "start_time": "2023-10-26T13:07:34.457Z"
   },
   {
    "duration": 40,
    "start_time": "2023-10-26T13:07:34.499Z"
   },
   {
    "duration": 66,
    "start_time": "2023-10-26T13:07:34.541Z"
   },
   {
    "duration": 39,
    "start_time": "2023-10-26T13:07:34.609Z"
   },
   {
    "duration": 22,
    "start_time": "2023-10-26T13:07:34.650Z"
   },
   {
    "duration": 79,
    "start_time": "2023-10-26T13:07:34.674Z"
   },
   {
    "duration": 5,
    "start_time": "2023-10-26T13:07:34.757Z"
   },
   {
    "duration": 39,
    "start_time": "2023-10-26T13:07:34.763Z"
   },
   {
    "duration": 20,
    "start_time": "2023-10-26T13:07:34.803Z"
   },
   {
    "duration": 60,
    "start_time": "2023-10-26T13:07:34.824Z"
   },
   {
    "duration": 33,
    "start_time": "2023-10-26T13:07:34.886Z"
   },
   {
    "duration": 56,
    "start_time": "2023-10-26T13:07:34.921Z"
   },
   {
    "duration": 31,
    "start_time": "2023-10-26T13:07:34.978Z"
   },
   {
    "duration": 48,
    "start_time": "2023-10-26T13:07:35.010Z"
   },
   {
    "duration": 63,
    "start_time": "2023-10-26T13:07:35.061Z"
   },
   {
    "duration": 4,
    "start_time": "2023-10-26T13:07:35.126Z"
   },
   {
    "duration": 200,
    "start_time": "2023-10-26T13:07:35.132Z"
   },
   {
    "duration": 270,
    "start_time": "2023-10-26T13:07:35.334Z"
   },
   {
    "duration": 366,
    "start_time": "2023-10-26T13:07:35.606Z"
   },
   {
    "duration": 3,
    "start_time": "2023-10-26T13:07:35.975Z"
   },
   {
    "duration": 49,
    "start_time": "2023-10-26T13:07:35.980Z"
   },
   {
    "duration": 289,
    "start_time": "2023-10-26T13:07:36.031Z"
   },
   {
    "duration": 119,
    "start_time": "2023-10-26T13:07:36.322Z"
   },
   {
    "duration": 133,
    "start_time": "2023-10-26T13:07:36.442Z"
   },
   {
    "duration": 104,
    "start_time": "2023-10-26T13:07:36.577Z"
   },
   {
    "duration": 122,
    "start_time": "2023-10-26T13:07:36.683Z"
   },
   {
    "duration": 3558,
    "start_time": "2023-10-26T13:07:36.807Z"
   },
   {
    "duration": 11,
    "start_time": "2023-10-26T13:07:40.367Z"
   },
   {
    "duration": 25,
    "start_time": "2023-10-26T13:07:40.380Z"
   },
   {
    "duration": 12,
    "start_time": "2023-10-26T13:07:40.406Z"
   },
   {
    "duration": 11,
    "start_time": "2023-10-26T13:07:40.420Z"
   },
   {
    "duration": 200,
    "start_time": "2023-10-26T13:07:40.432Z"
   },
   {
    "duration": 58,
    "start_time": "2023-10-26T13:07:40.633Z"
   },
   {
    "duration": 10264,
    "start_time": "2023-10-26T13:07:40.693Z"
   },
   {
    "duration": 136448,
    "start_time": "2023-10-26T13:07:50.959Z"
   },
   {
    "duration": 638455,
    "start_time": "2023-10-26T13:10:07.409Z"
   },
   {
    "duration": 13,
    "start_time": "2023-10-26T13:20:45.866Z"
   },
   {
    "duration": 4916,
    "start_time": "2023-10-26T13:20:45.881Z"
   },
   {
    "duration": 20,
    "start_time": "2023-10-26T13:20:50.799Z"
   },
   {
    "duration": 273,
    "start_time": "2023-10-26T13:20:50.821Z"
   },
   {
    "duration": 12,
    "start_time": "2023-10-26T13:20:51.097Z"
   },
   {
    "duration": 370,
    "start_time": "2023-10-26T13:20:51.111Z"
   },
   {
    "duration": 5468,
    "start_time": "2023-10-27T14:41:03.863Z"
   },
   {
    "duration": 1824,
    "start_time": "2023-10-27T14:41:09.333Z"
   },
   {
    "duration": 0,
    "start_time": "2023-10-27T14:41:11.161Z"
   },
   {
    "duration": 0,
    "start_time": "2023-10-27T14:41:11.162Z"
   },
   {
    "duration": 0,
    "start_time": "2023-10-27T14:41:11.163Z"
   },
   {
    "duration": 0,
    "start_time": "2023-10-27T14:41:11.164Z"
   },
   {
    "duration": 0,
    "start_time": "2023-10-27T14:41:11.166Z"
   },
   {
    "duration": 0,
    "start_time": "2023-10-27T14:41:11.167Z"
   },
   {
    "duration": 0,
    "start_time": "2023-10-27T14:41:11.168Z"
   },
   {
    "duration": 0,
    "start_time": "2023-10-27T14:41:11.169Z"
   },
   {
    "duration": 0,
    "start_time": "2023-10-27T14:41:11.170Z"
   },
   {
    "duration": 0,
    "start_time": "2023-10-27T14:41:11.171Z"
   },
   {
    "duration": 0,
    "start_time": "2023-10-27T14:41:11.172Z"
   },
   {
    "duration": 0,
    "start_time": "2023-10-27T14:41:11.173Z"
   },
   {
    "duration": 0,
    "start_time": "2023-10-27T14:41:11.174Z"
   },
   {
    "duration": 0,
    "start_time": "2023-10-27T14:41:11.175Z"
   },
   {
    "duration": 0,
    "start_time": "2023-10-27T14:41:11.176Z"
   },
   {
    "duration": 0,
    "start_time": "2023-10-27T14:41:11.177Z"
   },
   {
    "duration": 0,
    "start_time": "2023-10-27T14:41:11.178Z"
   },
   {
    "duration": 0,
    "start_time": "2023-10-27T14:41:11.179Z"
   },
   {
    "duration": 0,
    "start_time": "2023-10-27T14:41:11.180Z"
   },
   {
    "duration": 0,
    "start_time": "2023-10-27T14:41:11.181Z"
   },
   {
    "duration": 0,
    "start_time": "2023-10-27T14:41:11.182Z"
   },
   {
    "duration": 0,
    "start_time": "2023-10-27T14:41:11.184Z"
   },
   {
    "duration": 0,
    "start_time": "2023-10-27T14:41:11.184Z"
   },
   {
    "duration": 0,
    "start_time": "2023-10-27T14:41:11.186Z"
   },
   {
    "duration": 0,
    "start_time": "2023-10-27T14:41:11.187Z"
   },
   {
    "duration": 0,
    "start_time": "2023-10-27T14:41:11.188Z"
   },
   {
    "duration": 0,
    "start_time": "2023-10-27T14:41:11.189Z"
   },
   {
    "duration": 0,
    "start_time": "2023-10-27T14:41:11.190Z"
   },
   {
    "duration": 0,
    "start_time": "2023-10-27T14:41:11.191Z"
   },
   {
    "duration": 0,
    "start_time": "2023-10-27T14:41:11.192Z"
   },
   {
    "duration": 0,
    "start_time": "2023-10-27T14:41:11.193Z"
   },
   {
    "duration": 0,
    "start_time": "2023-10-27T14:41:11.194Z"
   },
   {
    "duration": 0,
    "start_time": "2023-10-27T14:41:11.195Z"
   },
   {
    "duration": 0,
    "start_time": "2023-10-27T14:41:11.196Z"
   },
   {
    "duration": 0,
    "start_time": "2023-10-27T14:41:11.197Z"
   },
   {
    "duration": 0,
    "start_time": "2023-10-27T14:41:11.244Z"
   },
   {
    "duration": 0,
    "start_time": "2023-10-27T14:41:11.245Z"
   },
   {
    "duration": 0,
    "start_time": "2023-10-27T14:41:11.246Z"
   },
   {
    "duration": 0,
    "start_time": "2023-10-27T14:41:11.246Z"
   },
   {
    "duration": 0,
    "start_time": "2023-10-27T14:41:11.247Z"
   },
   {
    "duration": 0,
    "start_time": "2023-10-27T14:41:11.249Z"
   },
   {
    "duration": 0,
    "start_time": "2023-10-27T14:41:11.250Z"
   },
   {
    "duration": 0,
    "start_time": "2023-10-27T14:41:11.251Z"
   },
   {
    "duration": 0,
    "start_time": "2023-10-27T14:41:11.252Z"
   },
   {
    "duration": 0,
    "start_time": "2023-10-27T14:41:11.253Z"
   },
   {
    "duration": 0,
    "start_time": "2023-10-27T14:41:11.254Z"
   },
   {
    "duration": 0,
    "start_time": "2023-10-27T14:41:11.255Z"
   },
   {
    "duration": 0,
    "start_time": "2023-10-27T14:41:11.256Z"
   },
   {
    "duration": 0,
    "start_time": "2023-10-27T14:41:11.257Z"
   },
   {
    "duration": 0,
    "start_time": "2023-10-27T14:41:11.258Z"
   },
   {
    "duration": 0,
    "start_time": "2023-10-27T14:41:11.259Z"
   },
   {
    "duration": 0,
    "start_time": "2023-10-27T14:41:11.260Z"
   },
   {
    "duration": 1,
    "start_time": "2023-10-27T14:41:11.260Z"
   },
   {
    "duration": 0,
    "start_time": "2023-10-27T14:41:11.262Z"
   },
   {
    "duration": 0,
    "start_time": "2023-10-27T14:41:11.262Z"
   },
   {
    "duration": 0,
    "start_time": "2023-10-27T14:41:11.263Z"
   },
   {
    "duration": 0,
    "start_time": "2023-10-27T14:41:11.265Z"
   },
   {
    "duration": 0,
    "start_time": "2023-10-27T14:41:11.266Z"
   },
   {
    "duration": 0,
    "start_time": "2023-10-27T14:41:11.267Z"
   },
   {
    "duration": 0,
    "start_time": "2023-10-27T14:41:11.268Z"
   },
   {
    "duration": 0,
    "start_time": "2023-10-27T14:41:11.269Z"
   },
   {
    "duration": 3508,
    "start_time": "2023-10-27T14:41:22.311Z"
   },
   {
    "duration": 324,
    "start_time": "2023-10-27T14:41:31.303Z"
   },
   {
    "duration": 19,
    "start_time": "2023-10-27T14:41:33.782Z"
   },
   {
    "duration": 14,
    "start_time": "2023-10-27T14:41:34.652Z"
   },
   {
    "duration": 13,
    "start_time": "2023-10-27T14:41:34.932Z"
   },
   {
    "duration": 10,
    "start_time": "2023-10-27T14:41:35.232Z"
   },
   {
    "duration": 8,
    "start_time": "2023-10-27T14:41:35.512Z"
   },
   {
    "duration": 8,
    "start_time": "2023-10-27T14:41:35.791Z"
   },
   {
    "duration": 11,
    "start_time": "2023-10-27T14:41:36.242Z"
   },
   {
    "duration": 6,
    "start_time": "2023-10-27T14:41:36.680Z"
   },
   {
    "duration": 8,
    "start_time": "2023-10-27T14:41:37.812Z"
   },
   {
    "duration": 11,
    "start_time": "2023-10-27T14:41:38.121Z"
   },
   {
    "duration": 11,
    "start_time": "2023-10-27T14:41:38.420Z"
   },
   {
    "duration": 9,
    "start_time": "2023-10-27T14:41:38.596Z"
   },
   {
    "duration": 7,
    "start_time": "2023-10-27T14:41:38.792Z"
   },
   {
    "duration": 11,
    "start_time": "2023-10-27T14:41:39.322Z"
   },
   {
    "duration": 12,
    "start_time": "2023-10-27T14:41:39.540Z"
   },
   {
    "duration": 28,
    "start_time": "2023-10-27T14:41:39.685Z"
   },
   {
    "duration": 8,
    "start_time": "2023-10-27T14:41:39.884Z"
   },
   {
    "duration": 7,
    "start_time": "2023-10-27T14:41:40.114Z"
   },
   {
    "duration": 6,
    "start_time": "2023-10-27T14:41:40.805Z"
   },
   {
    "duration": 9,
    "start_time": "2023-10-27T14:41:41.003Z"
   },
   {
    "duration": 15,
    "start_time": "2023-10-27T14:41:41.183Z"
   },
   {
    "duration": 7,
    "start_time": "2023-10-27T14:41:41.351Z"
   },
   {
    "duration": 7,
    "start_time": "2023-10-27T14:41:41.523Z"
   },
   {
    "duration": 3,
    "start_time": "2023-10-27T14:41:43.124Z"
   },
   {
    "duration": 32,
    "start_time": "2023-10-27T14:41:43.323Z"
   },
   {
    "duration": 5,
    "start_time": "2023-10-27T14:41:44.143Z"
   },
   {
    "duration": 13,
    "start_time": "2023-10-27T14:41:44.323Z"
   },
   {
    "duration": 5,
    "start_time": "2023-10-27T14:41:44.944Z"
   },
   {
    "duration": 16,
    "start_time": "2023-10-27T14:41:45.303Z"
   },
   {
    "duration": 14,
    "start_time": "2023-10-27T14:41:45.843Z"
   },
   {
    "duration": 36,
    "start_time": "2023-10-27T14:41:46.638Z"
   },
   {
    "duration": 17,
    "start_time": "2023-10-27T14:41:46.812Z"
   },
   {
    "duration": 11,
    "start_time": "2023-10-27T14:41:47.416Z"
   },
   {
    "duration": 32,
    "start_time": "2023-10-27T14:41:47.604Z"
   },
   {
    "duration": 4,
    "start_time": "2023-10-27T14:41:48.911Z"
   },
   {
    "duration": 170,
    "start_time": "2023-10-27T14:41:50.623Z"
   },
   {
    "duration": 217,
    "start_time": "2023-10-27T14:41:51.979Z"
   },
   {
    "duration": 214,
    "start_time": "2023-10-27T14:41:52.923Z"
   },
   {
    "duration": 3,
    "start_time": "2023-10-27T14:41:53.940Z"
   },
   {
    "duration": 17,
    "start_time": "2023-10-27T14:41:54.151Z"
   },
   {
    "duration": 341,
    "start_time": "2023-10-27T14:41:54.444Z"
   },
   {
    "duration": 97,
    "start_time": "2023-10-27T14:41:55.791Z"
   },
   {
    "duration": 110,
    "start_time": "2023-10-27T14:41:57.883Z"
   },
   {
    "duration": 87,
    "start_time": "2023-10-27T14:41:58.271Z"
   },
   {
    "duration": 98,
    "start_time": "2023-10-27T14:41:59.031Z"
   },
   {
    "duration": 3049,
    "start_time": "2023-10-27T14:42:01.304Z"
   },
   {
    "duration": 9,
    "start_time": "2023-10-27T14:42:05.892Z"
   },
   {
    "duration": 16,
    "start_time": "2023-10-27T14:42:07.438Z"
   },
   {
    "duration": 3,
    "start_time": "2023-10-27T14:42:08.063Z"
   },
   {
    "duration": 3,
    "start_time": "2023-10-27T14:42:08.719Z"
   },
   {
    "duration": 92,
    "start_time": "2023-10-27T14:42:09.649Z"
   },
   {
    "duration": 52,
    "start_time": "2023-10-27T14:42:10.712Z"
   },
   {
    "duration": 9050,
    "start_time": "2023-10-27T14:42:13.144Z"
   },
   {
    "duration": 118083,
    "start_time": "2023-10-27T14:42:22.196Z"
   },
   {
    "duration": 426313,
    "start_time": "2023-10-27T14:44:20.281Z"
   },
   {
    "duration": 9,
    "start_time": "2023-10-27T14:51:26.596Z"
   },
   {
    "duration": 3304,
    "start_time": "2023-10-27T14:51:26.607Z"
   },
   {
    "duration": 15,
    "start_time": "2023-10-27T14:51:29.912Z"
   },
   {
    "duration": 187,
    "start_time": "2023-10-27T14:51:29.928Z"
   },
   {
    "duration": 10,
    "start_time": "2023-10-27T14:51:30.117Z"
   },
   {
    "duration": 91,
    "start_time": "2023-10-27T14:55:26.979Z"
   },
   {
    "duration": 301,
    "start_time": "2023-10-27T14:55:53.728Z"
   },
   {
    "duration": 192,
    "start_time": "2023-10-27T14:56:11.916Z"
   },
   {
    "duration": 189,
    "start_time": "2023-10-27T14:56:15.684Z"
   },
   {
    "duration": 179,
    "start_time": "2023-10-27T14:57:58.204Z"
   },
   {
    "duration": 17,
    "start_time": "2023-10-27T14:58:31.296Z"
   },
   {
    "duration": 194,
    "start_time": "2023-10-27T14:58:49.916Z"
   },
   {
    "duration": 105,
    "start_time": "2023-10-27T14:59:34.854Z"
   },
   {
    "duration": 101,
    "start_time": "2023-10-27T14:59:44.060Z"
   },
   {
    "duration": 172,
    "start_time": "2023-10-27T14:59:55.452Z"
   },
   {
    "duration": 104,
    "start_time": "2023-10-27T15:00:29.123Z"
   },
   {
    "duration": 110,
    "start_time": "2023-10-27T15:00:46.443Z"
   },
   {
    "duration": 185,
    "start_time": "2023-10-27T15:00:49.933Z"
   },
   {
    "duration": 296,
    "start_time": "2023-10-27T15:00:53.571Z"
   },
   {
    "duration": 4,
    "start_time": "2023-10-27T15:01:32.680Z"
   },
   {
    "duration": 182,
    "start_time": "2023-10-27T15:01:32.917Z"
   },
   {
    "duration": 180,
    "start_time": "2023-10-27T15:01:55.796Z"
   },
   {
    "duration": 3,
    "start_time": "2023-10-27T15:02:46.089Z"
   },
   {
    "duration": 256,
    "start_time": "2023-10-27T15:04:10.964Z"
   },
   {
    "duration": 232,
    "start_time": "2023-10-27T15:04:16.409Z"
   },
   {
    "duration": 3669,
    "start_time": "2023-10-27T15:04:51.086Z"
   },
   {
    "duration": 109,
    "start_time": "2023-10-27T15:04:54.758Z"
   },
   {
    "duration": 16,
    "start_time": "2023-10-27T15:04:54.869Z"
   },
   {
    "duration": 53,
    "start_time": "2023-10-27T15:04:54.886Z"
   },
   {
    "duration": 86,
    "start_time": "2023-10-27T15:04:54.941Z"
   },
   {
    "duration": 62,
    "start_time": "2023-10-27T15:04:55.030Z"
   },
   {
    "duration": 42,
    "start_time": "2023-10-27T15:04:55.094Z"
   },
   {
    "duration": 39,
    "start_time": "2023-10-27T15:04:55.138Z"
   },
   {
    "duration": 54,
    "start_time": "2023-10-27T15:04:55.179Z"
   },
   {
    "duration": 28,
    "start_time": "2023-10-27T15:04:55.235Z"
   },
   {
    "duration": 16,
    "start_time": "2023-10-27T15:04:55.264Z"
   },
   {
    "duration": 30,
    "start_time": "2023-10-27T15:04:55.281Z"
   },
   {
    "duration": 45,
    "start_time": "2023-10-27T15:04:55.313Z"
   },
   {
    "duration": 15,
    "start_time": "2023-10-27T15:04:55.360Z"
   },
   {
    "duration": 18,
    "start_time": "2023-10-27T15:04:55.377Z"
   },
   {
    "duration": 21,
    "start_time": "2023-10-27T15:04:55.397Z"
   },
   {
    "duration": 28,
    "start_time": "2023-10-27T15:04:55.419Z"
   },
   {
    "duration": 50,
    "start_time": "2023-10-27T15:04:55.449Z"
   },
   {
    "duration": 27,
    "start_time": "2023-10-27T15:04:55.501Z"
   },
   {
    "duration": 71,
    "start_time": "2023-10-27T15:04:55.529Z"
   },
   {
    "duration": 50,
    "start_time": "2023-10-27T15:04:55.601Z"
   },
   {
    "duration": 33,
    "start_time": "2023-10-27T15:04:55.653Z"
   },
   {
    "duration": 39,
    "start_time": "2023-10-27T15:04:55.687Z"
   },
   {
    "duration": 35,
    "start_time": "2023-10-27T15:04:55.728Z"
   },
   {
    "duration": 18,
    "start_time": "2023-10-27T15:04:55.765Z"
   },
   {
    "duration": 20,
    "start_time": "2023-10-27T15:04:55.785Z"
   },
   {
    "duration": 67,
    "start_time": "2023-10-27T15:04:55.807Z"
   },
   {
    "duration": 4,
    "start_time": "2023-10-27T15:04:55.875Z"
   },
   {
    "duration": 42,
    "start_time": "2023-10-27T15:04:55.880Z"
   },
   {
    "duration": 32,
    "start_time": "2023-10-27T15:04:55.923Z"
   },
   {
    "duration": 33,
    "start_time": "2023-10-27T15:04:55.956Z"
   },
   {
    "duration": 52,
    "start_time": "2023-10-27T15:04:55.991Z"
   },
   {
    "duration": 35,
    "start_time": "2023-10-27T15:04:56.045Z"
   },
   {
    "duration": 18,
    "start_time": "2023-10-27T15:04:56.081Z"
   },
   {
    "duration": 29,
    "start_time": "2023-10-27T15:04:56.100Z"
   },
   {
    "duration": 43,
    "start_time": "2023-10-27T15:04:56.130Z"
   },
   {
    "duration": 4,
    "start_time": "2023-10-27T15:04:56.174Z"
   },
   {
    "duration": 183,
    "start_time": "2023-10-27T15:04:56.179Z"
   },
   {
    "duration": 235,
    "start_time": "2023-10-27T15:04:56.363Z"
   },
   {
    "duration": 224,
    "start_time": "2023-10-27T15:04:56.600Z"
   },
   {
    "duration": 3,
    "start_time": "2023-10-27T15:04:56.828Z"
   },
   {
    "duration": 39,
    "start_time": "2023-10-27T15:04:56.833Z"
   },
   {
    "duration": 341,
    "start_time": "2023-10-27T15:04:56.874Z"
   },
   {
    "duration": 102,
    "start_time": "2023-10-27T15:04:57.216Z"
   },
   {
    "duration": 129,
    "start_time": "2023-10-27T15:04:57.319Z"
   },
   {
    "duration": 103,
    "start_time": "2023-10-27T15:04:57.449Z"
   },
   {
    "duration": 110,
    "start_time": "2023-10-27T15:04:57.554Z"
   },
   {
    "duration": 3040,
    "start_time": "2023-10-27T15:04:57.665Z"
   },
   {
    "duration": 12,
    "start_time": "2023-10-27T15:05:00.707Z"
   },
   {
    "duration": 58,
    "start_time": "2023-10-27T15:05:00.720Z"
   },
   {
    "duration": 167,
    "start_time": "2023-10-27T15:05:00.780Z"
   },
   {
    "duration": 38,
    "start_time": "2023-10-27T15:05:00.949Z"
   },
   {
    "duration": 217,
    "start_time": "2023-10-27T15:05:00.989Z"
   },
   {
    "duration": 57,
    "start_time": "2023-10-27T15:05:01.208Z"
   },
   {
    "duration": 8951,
    "start_time": "2023-10-27T15:05:01.266Z"
   },
   {
    "duration": 119353,
    "start_time": "2023-10-27T15:05:10.219Z"
   },
   {
    "duration": 430615,
    "start_time": "2023-10-27T15:07:09.574Z"
   },
   {
    "duration": 11,
    "start_time": "2023-10-27T15:14:20.191Z"
   },
   {
    "duration": 3953,
    "start_time": "2023-10-27T15:14:20.203Z"
   },
   {
    "duration": 14,
    "start_time": "2023-10-27T15:14:24.158Z"
   },
   {
    "duration": 261,
    "start_time": "2023-10-27T15:14:24.174Z"
   },
   {
    "duration": 20,
    "start_time": "2023-10-27T15:14:24.437Z"
   },
   {
    "duration": 266,
    "start_time": "2023-10-27T15:14:24.459Z"
   },
   {
    "duration": 329,
    "start_time": "2023-10-27T15:14:24.726Z"
   }
  ],
  "kernelspec": {
   "display_name": "Python 3 (ipykernel)",
   "language": "python",
   "name": "python3"
  },
  "language_info": {
   "codemirror_mode": {
    "name": "ipython",
    "version": 3
   },
   "file_extension": ".py",
   "mimetype": "text/x-python",
   "name": "python",
   "nbconvert_exporter": "python",
   "pygments_lexer": "ipython3",
   "version": "3.11.5"
  },
  "toc": {
   "base_numbering": 1,
   "nav_menu": {},
   "number_sections": true,
   "sideBar": true,
   "skip_h1_title": true,
   "title_cell": "Table of Contents",
   "title_sidebar": "Contents",
   "toc_cell": false,
   "toc_position": {},
   "toc_section_display": true,
   "toc_window_display": false
  }
 },
 "nbformat": 4,
 "nbformat_minor": 5
}
